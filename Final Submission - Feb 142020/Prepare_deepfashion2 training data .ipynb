{
 "cells": [
  {
   "cell_type": "markdown",
   "metadata": {
    "colab_type": "text",
    "id": "ih4xAoDkQ3wC"
   },
   "source": [
    "### This is a part of Data Pre-Processing for DeepFashion2 dataset\n",
    "###Iternate through a directory and extract bounding boxes from the json files which are associated with the bounding box key. Normalize the bounding values between 0 and 1 using the function   readimageandscaleboundingbox0to1NormalizedRevisied, the below loop creates a text file containing the normalize bounding box values and the class id "
   ]
  },
  {
   "cell_type": "code",
   "execution_count": 0,
   "metadata": {
    "colab": {},
    "colab_type": "code",
    "id": "vEvsFfqFPnXg"
   },
   "outputs": [],
   "source": [
    "\n",
    "for file_name in filesnames:\n",
    "  print(file_name)\n",
    "  if file_name.split('.')[-1] in 'json':\n",
    "    print(file_name.split('.')[-2])\n",
    "    tempJsonPD=pd.read_json(file_name.split('.')[-2]+\".json\")\n",
    "    f = open(file_name.split('.')[-2]+\".txt\", \"w\")\n",
    "    for a in tempJsonPD.columns.values:\n",
    "      if \"item\" in a:\n",
    "        print(tempJsonPD[a]['bounding_box'])\n",
    "        bbbox=readimageandscaleboundingbox0to1NormalizedRevisied(file_name.split('.')[-2]+\".jpg\",tempJsonPD[a]['bounding_box'])\n",
    "        cat=int(tempJsonPD[a]['category_id'])\n",
    "        fcat=cat-1\n",
    "        strf=str(fcat)\n",
    "        #print(strf)\n",
    "        print(bbbox)\n",
    "        stbox=((str(bbbox).split('[')[1]).split(']')[0]).replace(',','')\n",
    "        print(\"this is the \",stbox)\n",
    "        f.write(strf+\" \"+stbox)\n",
    "        f.write(\"\\n\")\n",
    "        #print(readimageandscaleboundingbox0to1(file_name.split('.')[-2]+\".jpg\",np.asarray(tempJsonPD[a]['bounding_box'],dtype=np.float32)))\n",
    "    f.close()"
   ]
  },
  {
   "cell_type": "markdown",
   "metadata": {
    "colab_type": "text",
    "id": "rHen39WFRezs"
   },
   "source": [
    "Below is the funcition which takes in image path and bounding boxes and normalizes the bounding box values between 0 and 1 values \n"
   ]
  },
  {
   "cell_type": "code",
   "execution_count": 0,
   "metadata": {
    "colab": {},
    "colab_type": "code",
    "id": "fqK3IBIXRehH"
   },
   "outputs": [],
   "source": [
    "def readimageandscaleboundingbox0to1NormalizedRevisied (image_name,boxes):\n",
    "  # load image\n",
    "  #image = read_image_bgr(image_name)\n",
    "  img = load_img(image_name)\n",
    "  wdth,hght=img.size\n",
    "  #xmax, xmin = sorting(x1, x2)\n",
    "  xmax, xmin = sorting(boxes[0], boxes[2])\n",
    "  #ymax, ymin = sorting(y1, y2)\n",
    "  ymax, ymin = sorting(boxes[1], boxes[3])\n",
    "  dw = 1./wdth\n",
    "  dh = 1./hght\n",
    "  x = (xmin + xmax)/2.0\n",
    "  y = (ymin + ymax)/2.0\n",
    "  w = xmax - xmin\n",
    "  h = ymax - ymin\n",
    "  x = x*dw\n",
    "  w = w*dw\n",
    "  y = y*dh\n",
    "  h = h*dh\n",
    "  boxes[0]=x\n",
    "  boxes[1]=y\n",
    "  boxes[2]=w\n",
    "  boxes[3]=h\n",
    "  #start = time.time()\n",
    "  \n",
    "  #boxes /= scale\n",
    "  return boxes"
   ]
  },
  {
   "cell_type": "markdown",
   "metadata": {
    "colab_type": "text",
    "id": "pCvS3UDrR49G"
   },
   "source": [
    "below is the sorting funciton used by the bounding function to create a normalized bounding box value"
   ]
  },
  {
   "cell_type": "code",
   "execution_count": 0,
   "metadata": {
    "colab": {},
    "colab_type": "code",
    "id": "Bfk_T7C4Rduj"
   },
   "outputs": [],
   "source": [
    "def sorting(l1, l2):\n",
    "        if l1 > l2:\n",
    "            lmax, lmin = l1, l2\n",
    "            return lmax, lmin\n",
    "        else:\n",
    "            lmax, lmin = l2, l1\n",
    "            return lmax, lmin"
   ]
  },
  {
   "cell_type": "markdown",
   "metadata": {
    "colab_type": "text",
    "id": "lDkkfXzjQ0pv"
   },
   "source": []
  }
 ],
 "metadata": {
  "colab": {
   "collapsed_sections": [],
   "name": "Prepare_deepfashion2 training data.ipynb",
   "provenance": []
  },
  "kernelspec": {
   "display_name": "Python 3",
   "language": "python",
   "name": "python3"
  },
  "language_info": {
   "codemirror_mode": {
    "name": "ipython",
    "version": 3
   },
   "file_extension": ".py",
   "mimetype": "text/x-python",
   "name": "python",
   "nbconvert_exporter": "python",
   "pygments_lexer": "ipython3",
   "version": "3.7.3"
  }
 },
 "nbformat": 4,
 "nbformat_minor": 1
}
