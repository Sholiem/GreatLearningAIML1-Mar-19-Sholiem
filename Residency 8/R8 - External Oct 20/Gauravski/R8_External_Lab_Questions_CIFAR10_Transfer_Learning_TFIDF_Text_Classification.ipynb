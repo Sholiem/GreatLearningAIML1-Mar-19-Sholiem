{
 "cells": [
  {
   "cell_type": "markdown",
   "metadata": {
    "colab_type": "text",
    "id": "QGIsF1ADyJ58"
   },
   "source": [
    "# Transfer Learning CIFAR10"
   ]
  },
  {
   "cell_type": "markdown",
   "metadata": {
    "colab_type": "text",
    "id": "E-n6tVFayGBe"
   },
   "source": [
    "* Train a simple convnet on the CIFAR dataset the first 5 output classes [0..4].\n",
    "* Freeze convolutional layers and fine-tune dense layers for the last 5 ouput classes [5..9].\n"
   ]
  },
  {
   "cell_type": "markdown",
   "metadata": {
    "colab_type": "text",
    "id": "Cq8ejXHJyGYq"
   },
   "source": [
    "### 1. Import CIFAR10 data and create 2 datasets with one dataset having classes from 0 to 4 and other having classes from 5 to 9 "
   ]
  },
  {
   "cell_type": "code",
   "execution_count": 0,
   "metadata": {
    "colab": {},
    "colab_type": "code",
    "id": "uWYbxnBayFUP"
   },
   "outputs": [],
   "source": [
    "#Importing important modules\n",
    "import keras\n"
   ]
  },
  {
   "cell_type": "code",
   "execution_count": 0,
   "metadata": {
    "colab": {},
    "colab_type": "code",
    "id": "6NLi6XDvb1N4"
   },
   "outputs": [],
   "source": [
    "import numpy as np "
   ]
  },
  {
   "cell_type": "code",
   "execution_count": 0,
   "metadata": {
    "colab": {},
    "colab_type": "code",
    "id": "Tojnb9ObXsQB"
   },
   "outputs": [],
   "source": [
    "from keras.datasets import cifar10"
   ]
  },
  {
   "cell_type": "code",
   "execution_count": 0,
   "metadata": {
    "colab": {},
    "colab_type": "code",
    "id": "dlKAPp2VaS4l"
   },
   "outputs": [],
   "source": []
  },
  {
   "cell_type": "code",
   "execution_count": 10,
   "metadata": {
    "colab": {
     "base_uri": "https://localhost:8080/",
     "height": 164
    },
    "colab_type": "code",
    "id": "S-MbDA_vb5Lu",
    "outputId": "8bcfbcb8-4205-40a7-f740-09799e4d0183"
   },
   "outputs": [
    {
     "ename": "NameError",
     "evalue": "ignored",
     "output_type": "error",
     "traceback": [
      "\u001b[0;31m---------------------------------------------------------------------------\u001b[0m",
      "\u001b[0;31mNameError\u001b[0m                                 Traceback (most recent call last)",
      "\u001b[0;32m<ipython-input-10-ba160770bb87>\u001b[0m in \u001b[0;36m<module>\u001b[0;34m()\u001b[0m\n\u001b[0;32m----> 1\u001b[0;31m \u001b[0mx_train04\u001b[0m\u001b[0;34m.\u001b[0m\u001b[0mshape\u001b[0m\u001b[0;34m\u001b[0m\u001b[0;34m\u001b[0m\u001b[0m\n\u001b[0m",
      "\u001b[0;31mNameError\u001b[0m: name 'x_train04' is not defined"
     ]
    }
   ],
   "source": [
    "x_train04.shape"
   ]
  },
  {
   "cell_type": "code",
   "execution_count": 0,
   "metadata": {
    "colab": {},
    "colab_type": "code",
    "id": "_DeNb6pLXsSu"
   },
   "outputs": [],
   "source": [
    "\n",
    "\n",
    "# the data, shuffled and split between train and test sets\n",
    "(X_train, y_train), (X_test, y_test) = cifar10.load_data()"
   ]
  },
  {
   "cell_type": "code",
   "execution_count": 0,
   "metadata": {
    "colab": {},
    "colab_type": "code",
    "id": "iUM-fRr8XsVg"
   },
   "outputs": [],
   "source": [
    "y_train04=y_train[y_train<5]\n",
    "y_test04=y_test[y_test<5]"
   ]
  },
  {
   "cell_type": "code",
   "execution_count": 0,
   "metadata": {
    "colab": {},
    "colab_type": "code",
    "id": "9WqR5Mu4XsYH"
   },
   "outputs": [],
   "source": [
    "\n",
    "x_train04=X_train[np.where(y_train<5)[0]]\n",
    "x_test04=X_test[np.where(y_test<5)[0]]"
   ]
  },
  {
   "cell_type": "code",
   "execution_count": 0,
   "metadata": {
    "colab": {},
    "colab_type": "code",
    "id": "UOHYsNG2Xsat"
   },
   "outputs": [],
   "source": [
    "y_test59=y_test[y_test>4]\n",
    "y_train59=y_train[y_train>4]\n"
   ]
  },
  {
   "cell_type": "code",
   "execution_count": 0,
   "metadata": {
    "colab": {},
    "colab_type": "code",
    "id": "v0dY2xO2mvEl"
   },
   "outputs": [],
   "source": []
  },
  {
   "cell_type": "code",
   "execution_count": 0,
   "metadata": {
    "colab": {},
    "colab_type": "code",
    "id": "YB60lzC_ZXBa"
   },
   "outputs": [],
   "source": [
    "x_train59=X_train[np.where(y_train>4)[0]]\n",
    "x_test59=X_test[np.where(y_test>4)[0]]"
   ]
  },
  {
   "cell_type": "code",
   "execution_count": 0,
   "metadata": {
    "colab": {},
    "colab_type": "code",
    "id": "TtnlFZQhmBGc"
   },
   "outputs": [],
   "source": []
  },
  {
   "cell_type": "markdown",
   "metadata": {
    "colab_type": "text",
    "id": "xtCKmQh4yXhT"
   },
   "source": [
    "### 2. Use One-hot encoding to divide y_train and y_test into required no of output classes"
   ]
  },
  {
   "cell_type": "code",
   "execution_count": 0,
   "metadata": {
    "colab": {},
    "colab_type": "code",
    "id": "uN5O2kJ3yYa6"
   },
   "outputs": [],
   "source": []
  },
  {
   "cell_type": "code",
   "execution_count": 0,
   "metadata": {
    "colab": {},
    "colab_type": "code",
    "id": "ajZaNDGLpYeZ"
   },
   "outputs": [],
   "source": []
  },
  {
   "cell_type": "code",
   "execution_count": 0,
   "metadata": {
    "colab": {},
    "colab_type": "code",
    "id": "gZjhhpgKpYj8"
   },
   "outputs": [],
   "source": [
    "x_train04 = x_train04.reshape(x_train04.shape[0], 32, 32, 3).astype('float32')\n",
    "x_test04 = x_test04.reshape(x_test04.shape[0], 32, 32, 3).astype('float32')"
   ]
  },
  {
   "cell_type": "code",
   "execution_count": 0,
   "metadata": {
    "colab": {},
    "colab_type": "code",
    "id": "SVVSCo0bpzay"
   },
   "outputs": [],
   "source": [
    "x_train59 = x_train59.reshape(x_train59.shape[0], 32, 32, 3).astype('float32')\n",
    "x_test59 = x_test59.reshape(x_test59.shape[0], 32, 32, 3).astype('float32')"
   ]
  },
  {
   "cell_type": "code",
   "execution_count": 0,
   "metadata": {
    "colab": {},
    "colab_type": "code",
    "id": "wnJVWmgQpzgO"
   },
   "outputs": [],
   "source": [
    "x_train04 /= 255\n",
    "x_test04 /= 255"
   ]
  },
  {
   "cell_type": "code",
   "execution_count": 0,
   "metadata": {
    "colab": {},
    "colab_type": "code",
    "id": "SNrNLnSzqSXe"
   },
   "outputs": [],
   "source": [
    "x_train59 /=255\n",
    "x_test59 /=255"
   ]
  },
  {
   "cell_type": "code",
   "execution_count": 0,
   "metadata": {
    "colab": {},
    "colab_type": "code",
    "id": "Ml6xGYy-rZaB"
   },
   "outputs": [],
   "source": [
    "from keras.utils import np_utils"
   ]
  },
  {
   "cell_type": "code",
   "execution_count": 0,
   "metadata": {
    "colab": {},
    "colab_type": "code",
    "id": "lTTiGqjdqb_W"
   },
   "outputs": [],
   "source": [
    "y_train04 = np_utils.to_categorical(y_train04, 5)\n",
    "y_test04 = np_utils.to_categorical(y_test04, 5)"
   ]
  },
  {
   "cell_type": "code",
   "execution_count": 0,
   "metadata": {
    "colab": {},
    "colab_type": "code",
    "id": "lncUWqQkrWwk"
   },
   "outputs": [],
   "source": []
  },
  {
   "cell_type": "code",
   "execution_count": 0,
   "metadata": {
    "colab": {},
    "colab_type": "code",
    "id": "kB8f9hFiqcFn"
   },
   "outputs": [],
   "source": []
  },
  {
   "cell_type": "code",
   "execution_count": 0,
   "metadata": {
    "colab": {},
    "colab_type": "code",
    "id": "HjLAxyXdqcJm"
   },
   "outputs": [],
   "source": [
    "y_train59 = np_utils.to_categorical(y_train59-5, 5)\n",
    "y_test59 = np_utils.to_categorical(y_test59-5, 5)"
   ]
  },
  {
   "cell_type": "markdown",
   "metadata": {
    "colab_type": "text",
    "id": "cuOiKWfeybAl"
   },
   "source": [
    "### 3. Build a sequential neural network model which can classify the classes 0 to 4 of CIFAR10 dataset with at least 80% accuracy on test data"
   ]
  },
  {
   "cell_type": "code",
   "execution_count": 0,
   "metadata": {
    "colab": {},
    "colab_type": "code",
    "id": "5HzxNbiiyoBD"
   },
   "outputs": [],
   "source": [
    "from keras.models import Sequential\n",
    "from keras.layers import Dense, Activation, Dropout, Flatten, Reshape\n",
    "from keras.layers import Convolution2D, MaxPooling2D,BatchNormalization"
   ]
  },
  {
   "cell_type": "code",
   "execution_count": 0,
   "metadata": {
    "colab": {},
    "colab_type": "code",
    "id": "NOXJxmT3stTd"
   },
   "outputs": [],
   "source": [
    "\n",
    "BATCH_SIZE = 128\n",
    "EPOCHS = 30"
   ]
  },
  {
   "cell_type": "code",
   "execution_count": 31,
   "metadata": {
    "colab": {
     "base_uri": "https://localhost:8080/",
     "height": 142
    },
    "colab_type": "code",
    "id": "_Zjam5RDstWz",
    "outputId": "0da01fbb-e877-40c0-c556-ec28cee2301b"
   },
   "outputs": [
    {
     "name": "stderr",
     "output_type": "stream",
     "text": [
      "/usr/local/lib/python3.6/dist-packages/ipykernel_launcher.py:4: UserWarning: Update your `Conv2D` call to the Keras 2 API: `Conv2D(32, (3, 3), input_shape=(32, 32, 3...)`\n",
      "  after removing the cwd from sys.path.\n",
      "/usr/local/lib/python3.6/dist-packages/ipykernel_launcher.py:8: UserWarning: Update your `Conv2D` call to the Keras 2 API: `Conv2D(256, (3, 3))`\n",
      "  \n",
      "/usr/local/lib/python3.6/dist-packages/ipykernel_launcher.py:19: UserWarning: Update your `Conv2D` call to the Keras 2 API: `Conv2D(128, (3, 3))`\n"
     ]
    }
   ],
   "source": [
    "    # Define Model\n",
    "    model3 = Sequential()\n",
    "\n",
    "    # 1st Conv Layer\n",
    "    model3.add(Convolution2D(32, 3, 3, input_shape=(32, 32, 3)))\n",
    "    model3.add(Activation('relu'))\n",
    "\n",
    "    # 2nd Conv Layer\n",
    "    model3.add(Convolution2D(256, 3, 3))\n",
    "    model3.add(Activation('relu'))\n",
    "\n",
    "    # Max Pooling\n",
    "    model3.add(MaxPooling2D(pool_size=(2,2)))\n",
    "    \n",
    "    # Dropout\n",
    "    model3.add(Dropout(0.2))\n",
    "    model3.add(BatchNormalization())\n",
    "    \n",
    "    \n",
    "    model3.add(Convolution2D(128, 3, 3))\n",
    "    model3.add(Activation('relu'))\n",
    "\n",
    "    model3.add(Dropout(0.4))\n",
    "    model3.add(BatchNormalization())\n",
    "    # Fully Connected Layer\n",
    "   "
   ]
  },
  {
   "cell_type": "code",
   "execution_count": 0,
   "metadata": {
    "colab": {},
    "colab_type": "code",
    "id": "dDOCKJN0stcc"
   },
   "outputs": [],
   "source": [
    "    model3.add(Flatten())\n",
    "    model3.add(Dense(256))\n",
    "    model3.add(Activation('relu'))\n",
    "    \n",
    "    # More Dropout\n",
    "    model3.add(Dropout(0.4))\n",
    "    model3.add(BatchNormalization())\n",
    "    # Prediction Layer\n",
    "    model3.add(Dense(5))\n",
    "    model3.add(Activation('softmax'))\n",
    "\n",
    "    # Loss and Optimizer\n",
    " \n",
    "\n",
    "    # Train the model\n",
    "\n"
   ]
  },
  {
   "cell_type": "code",
   "execution_count": 0,
   "metadata": {
    "colab": {},
    "colab_type": "code",
    "id": "xnZIRUTastkf"
   },
   "outputs": [],
   "source": [
    "model3.compile(loss='categorical_crossentropy', optimizer='Adam', metrics=['accuracy'])"
   ]
  },
  {
   "cell_type": "code",
   "execution_count": 0,
   "metadata": {
    "colab": {},
    "colab_type": "code",
    "id": "ycsxbUE-tpKW"
   },
   "outputs": [],
   "source": [
    "early_stopping = keras.callbacks.EarlyStopping(monitor='val_acc', patience=7, verbose=1, mode='auto')\n",
    "callback_list = [early_stopping]"
   ]
  },
  {
   "cell_type": "code",
   "execution_count": 0,
   "metadata": {
    "colab": {},
    "colab_type": "code",
    "id": "UmmxyPD8tpTT"
   },
   "outputs": [],
   "source": [
    "\n"
   ]
  },
  {
   "cell_type": "code",
   "execution_count": 35,
   "metadata": {
    "colab": {
     "base_uri": "https://localhost:8080/",
     "height": 1000
    },
    "colab_type": "code",
    "id": "_kFNCngmstvq",
    "outputId": "f3767220-67ae-4649-d689-8b30bd2f1f90"
   },
   "outputs": [
    {
     "name": "stderr",
     "output_type": "stream",
     "text": [
      "/usr/local/lib/python3.6/dist-packages/ipykernel_launcher.py:2: UserWarning: The `nb_epoch` argument in `fit` has been renamed `epochs`.\n",
      "  \n"
     ]
    },
    {
     "name": "stdout",
     "output_type": "stream",
     "text": [
      "Train on 25000 samples, validate on 5000 samples\n",
      "Epoch 1/30\n",
      "25000/25000 [==============================] - 16s 651us/step - loss: 1.0668 - acc: 0.5948 - val_loss: 0.8714 - val_acc: 0.6474\n",
      "Epoch 2/30\n",
      "25000/25000 [==============================] - 15s 599us/step - loss: 0.7005 - acc: 0.7314 - val_loss: 0.6989 - val_acc: 0.7282\n",
      "Epoch 3/30\n",
      "25000/25000 [==============================] - 15s 597us/step - loss: 0.5543 - acc: 0.7918 - val_loss: 0.5637 - val_acc: 0.7874\n",
      "Epoch 4/30\n",
      "25000/25000 [==============================] - 15s 600us/step - loss: 0.4586 - acc: 0.8306 - val_loss: 0.6822 - val_acc: 0.7478\n",
      "Epoch 5/30\n",
      "25000/25000 [==============================] - 15s 598us/step - loss: 0.3867 - acc: 0.8562 - val_loss: 0.5750 - val_acc: 0.7968\n",
      "Epoch 6/30\n",
      "25000/25000 [==============================] - 15s 599us/step - loss: 0.3204 - acc: 0.8823 - val_loss: 0.5459 - val_acc: 0.8026\n",
      "Epoch 7/30\n",
      "25000/25000 [==============================] - 15s 598us/step - loss: 0.2716 - acc: 0.9008 - val_loss: 0.5311 - val_acc: 0.8150\n",
      "Epoch 8/30\n",
      "25000/25000 [==============================] - 15s 599us/step - loss: 0.2310 - acc: 0.9166 - val_loss: 0.5544 - val_acc: 0.8030\n",
      "Epoch 9/30\n",
      "25000/25000 [==============================] - 15s 601us/step - loss: 0.1817 - acc: 0.9360 - val_loss: 0.5032 - val_acc: 0.8304\n",
      "Epoch 10/30\n",
      "25000/25000 [==============================] - 15s 600us/step - loss: 0.1503 - acc: 0.9486 - val_loss: 0.5734 - val_acc: 0.8176\n",
      "Epoch 11/30\n",
      "25000/25000 [==============================] - 15s 599us/step - loss: 0.1464 - acc: 0.9466 - val_loss: 0.5993 - val_acc: 0.8190\n",
      "Epoch 12/30\n",
      "25000/25000 [==============================] - 15s 600us/step - loss: 0.1250 - acc: 0.9565 - val_loss: 0.5541 - val_acc: 0.8302\n",
      "Epoch 13/30\n",
      "25000/25000 [==============================] - 15s 598us/step - loss: 0.1079 - acc: 0.9622 - val_loss: 0.5817 - val_acc: 0.8286\n",
      "Epoch 14/30\n",
      "25000/25000 [==============================] - 15s 599us/step - loss: 0.0977 - acc: 0.9659 - val_loss: 0.6269 - val_acc: 0.8254\n",
      "Epoch 15/30\n",
      "25000/25000 [==============================] - 15s 597us/step - loss: 0.0917 - acc: 0.9677 - val_loss: 0.5859 - val_acc: 0.8312\n",
      "Epoch 16/30\n",
      "25000/25000 [==============================] - 15s 601us/step - loss: 0.0861 - acc: 0.9701 - val_loss: 0.6096 - val_acc: 0.8350\n",
      "Epoch 17/30\n",
      "25000/25000 [==============================] - 15s 600us/step - loss: 0.0823 - acc: 0.9705 - val_loss: 0.5823 - val_acc: 0.8422\n",
      "Epoch 18/30\n",
      "25000/25000 [==============================] - 15s 599us/step - loss: 0.0758 - acc: 0.9742 - val_loss: 0.7486 - val_acc: 0.8206\n",
      "Epoch 19/30\n",
      "25000/25000 [==============================] - 15s 604us/step - loss: 0.0716 - acc: 0.9739 - val_loss: 0.6540 - val_acc: 0.8290\n",
      "Epoch 20/30\n",
      "25000/25000 [==============================] - 15s 604us/step - loss: 0.0684 - acc: 0.9758 - val_loss: 0.5911 - val_acc: 0.8326\n",
      "Epoch 21/30\n",
      "25000/25000 [==============================] - 15s 604us/step - loss: 0.0627 - acc: 0.9780 - val_loss: 0.6320 - val_acc: 0.8328\n",
      "Epoch 22/30\n",
      "25000/25000 [==============================] - 15s 600us/step - loss: 0.0655 - acc: 0.9774 - val_loss: 0.5419 - val_acc: 0.8426\n",
      "Epoch 23/30\n",
      "25000/25000 [==============================] - 15s 602us/step - loss: 0.0622 - acc: 0.9778 - val_loss: 0.6075 - val_acc: 0.8334\n",
      "Epoch 24/30\n",
      "25000/25000 [==============================] - 15s 601us/step - loss: 0.0631 - acc: 0.9776 - val_loss: 0.6487 - val_acc: 0.8326\n",
      "Epoch 25/30\n",
      "25000/25000 [==============================] - 15s 600us/step - loss: 0.0597 - acc: 0.9792 - val_loss: 0.6441 - val_acc: 0.8400\n",
      "Epoch 26/30\n",
      "25000/25000 [==============================] - 15s 599us/step - loss: 0.0609 - acc: 0.9785 - val_loss: 0.6097 - val_acc: 0.8342\n",
      "Epoch 27/30\n",
      "25000/25000 [==============================] - 15s 598us/step - loss: 0.0545 - acc: 0.9813 - val_loss: 0.6280 - val_acc: 0.8306\n",
      "Epoch 28/30\n",
      "25000/25000 [==============================] - 15s 598us/step - loss: 0.0540 - acc: 0.9802 - val_loss: 0.7288 - val_acc: 0.8218\n",
      "Epoch 29/30\n",
      "25000/25000 [==============================] - 15s 603us/step - loss: 0.0552 - acc: 0.9806 - val_loss: 0.6566 - val_acc: 0.8310\n",
      "Epoch 00029: early stopping\n"
     ]
    },
    {
     "data": {
      "text/plain": [
       "<keras.callbacks.History at 0x7f7321248a90>"
      ]
     },
     "execution_count": 35,
     "metadata": {
      "tags": []
     },
     "output_type": "execute_result"
    }
   ],
   "source": [
    "model3.fit(x_train04, y_train04, batch_size=BATCH_SIZE, nb_epoch=30, \n",
    "              validation_data=(x_test04, y_test04), callbacks=callback_list)"
   ]
  },
  {
   "cell_type": "code",
   "execution_count": 0,
   "metadata": {
    "colab": {},
    "colab_type": "code",
    "id": "DTlnzobmstsf"
   },
   "outputs": [],
   "source": []
  },
  {
   "cell_type": "code",
   "execution_count": 36,
   "metadata": {
    "colab": {
     "base_uri": "https://localhost:8080/",
     "height": 51
    },
    "colab_type": "code",
    "id": "Tv-fA7rostqM",
    "outputId": "fb768a33-d5cd-4068-cf7f-ca70339b8ed5"
   },
   "outputs": [
    {
     "name": "stdout",
     "output_type": "stream",
     "text": [
      "5000/5000 [==============================] - 1s 281us/step\n"
     ]
    },
    {
     "data": {
      "text/plain": [
       "[0.6566257834911347, 0.831]"
      ]
     },
     "execution_count": 36,
     "metadata": {
      "tags": []
     },
     "output_type": "execute_result"
    }
   ],
   "source": [
    "model3.evaluate(x_test04,y_test04)"
   ]
  },
  {
   "cell_type": "code",
   "execution_count": 0,
   "metadata": {
    "colab": {},
    "colab_type": "code",
    "id": "yHYPhMY8stnz"
   },
   "outputs": [],
   "source": []
  },
  {
   "cell_type": "code",
   "execution_count": 0,
   "metadata": {
    "colab": {},
    "colab_type": "code",
    "id": "PChNTDg2stiS"
   },
   "outputs": [],
   "source": []
  },
  {
   "cell_type": "code",
   "execution_count": 0,
   "metadata": {
    "colab": {},
    "colab_type": "code",
    "id": "IkmF8sfNstfy"
   },
   "outputs": [],
   "source": []
  },
  {
   "cell_type": "code",
   "execution_count": 0,
   "metadata": {
    "colab": {},
    "colab_type": "code",
    "id": "twJSb8RlstaE"
   },
   "outputs": [],
   "source": []
  },
  {
   "cell_type": "markdown",
   "metadata": {
    "colab_type": "text",
    "id": "woTfNst_ynRG"
   },
   "source": [
    "### 4. In the model which was built above (for classification of classes 0-4 in CIFAR10), make only the dense layers to be trainable and conv layers to be non-trainable"
   ]
  },
  {
   "cell_type": "code",
   "execution_count": 0,
   "metadata": {
    "colab": {},
    "colab_type": "code",
    "id": "o_VCDB3Byb1a"
   },
   "outputs": [],
   "source": [
    "#Freezing layers in the model which don't have 'dense' in their name\n",
    "for layer in model3.layers:\n",
    "  if('dense' not in layer.name): #prefix detection to freeze layers which does not have dense\n",
    "    #Freezing a layer\n",
    "    layer.trainable = False\n",
    "\n",
    "#Module to print colourful statements\n",
    "from termcolor import colored\n",
    "\n",
    "#Check which layers have been frozen "
   ]
  },
  {
   "cell_type": "code",
   "execution_count": 38,
   "metadata": {
    "colab": {
     "base_uri": "https://localhost:8080/",
     "height": 323
    },
    "colab_type": "code",
    "id": "QBVXA0EBzAhg",
    "outputId": "ac34d6bd-9e6d-43e7-ca0e-a48f7b767af4"
   },
   "outputs": [
    {
     "name": "stdout",
     "output_type": "stream",
     "text": [
      "\u001b[34mconv2d_4\u001b[0m \u001b[31mFalse\u001b[0m\n",
      "\u001b[34mactivation_6\u001b[0m \u001b[31mFalse\u001b[0m\n",
      "\u001b[34mconv2d_5\u001b[0m \u001b[31mFalse\u001b[0m\n",
      "\u001b[34mactivation_7\u001b[0m \u001b[31mFalse\u001b[0m\n",
      "\u001b[34mmax_pooling2d_2\u001b[0m \u001b[31mFalse\u001b[0m\n",
      "\u001b[34mdropout_4\u001b[0m \u001b[31mFalse\u001b[0m\n",
      "\u001b[34mbatch_normalization_3\u001b[0m \u001b[31mFalse\u001b[0m\n",
      "\u001b[34mconv2d_6\u001b[0m \u001b[31mFalse\u001b[0m\n",
      "\u001b[34mactivation_8\u001b[0m \u001b[31mFalse\u001b[0m\n",
      "\u001b[34mdropout_5\u001b[0m \u001b[31mFalse\u001b[0m\n",
      "\u001b[34mbatch_normalization_4\u001b[0m \u001b[31mFalse\u001b[0m\n",
      "\u001b[34mflatten_2\u001b[0m \u001b[31mFalse\u001b[0m\n",
      "\u001b[34mdense_3\u001b[0m \u001b[31mTrue\u001b[0m\n",
      "\u001b[34mactivation_9\u001b[0m \u001b[31mFalse\u001b[0m\n",
      "\u001b[34mdropout_6\u001b[0m \u001b[31mFalse\u001b[0m\n",
      "\u001b[34mbatch_normalization_5\u001b[0m \u001b[31mFalse\u001b[0m\n",
      "\u001b[34mdense_4\u001b[0m \u001b[31mTrue\u001b[0m\n",
      "\u001b[34mactivation_10\u001b[0m \u001b[31mFalse\u001b[0m\n"
     ]
    }
   ],
   "source": [
    "for layer in model3.layers:\n",
    "  print (colored(layer.name, 'blue'),colored(layer.trainable, 'red'))"
   ]
  },
  {
   "cell_type": "code",
   "execution_count": 45,
   "metadata": {
    "colab": {
     "base_uri": "https://localhost:8080/",
     "height": 136
    },
    "colab_type": "code",
    "id": "aSzcE10Czx98",
    "outputId": "a702ab6f-0e14-408b-a711-f868d806ec34"
   },
   "outputs": [
    {
     "data": {
      "text/plain": [
       "array([[0., 0., 0., 1., 0.],\n",
       "       [0., 0., 0., 1., 0.],\n",
       "       [0., 1., 0., 0., 0.],\n",
       "       ...,\n",
       "       [0., 0., 0., 1., 0.],\n",
       "       [1., 0., 0., 0., 0.],\n",
       "       [0., 0., 1., 0., 0.]], dtype=float32)"
      ]
     },
     "execution_count": 45,
     "metadata": {
      "tags": []
     },
     "output_type": "execute_result"
    }
   ],
   "source": [
    "y_test59"
   ]
  },
  {
   "cell_type": "markdown",
   "metadata": {
    "colab_type": "text",
    "id": "1-uUPqWpyeyX"
   },
   "source": [
    "### 5. Utilize the the model trained on CIFAR 10 (classes 0 to 4) to classify the classes 5 to 9 of CIFAR 10  (Use Transfer Learning) <br>\n",
    "Achieve an accuracy of more than 85% on test data"
   ]
  },
  {
   "cell_type": "code",
   "execution_count": 0,
   "metadata": {
    "colab": {},
    "colab_type": "code",
    "id": "szHjJgDvyfCt"
   },
   "outputs": [],
   "source": [
    "model3.compile(loss='categorical_crossentropy', optimizer='Adam', metrics=['accuracy'])"
   ]
  },
  {
   "cell_type": "code",
   "execution_count": 47,
   "metadata": {
    "colab": {
     "base_uri": "https://localhost:8080/",
     "height": 1000
    },
    "colab_type": "code",
    "id": "4ZUcfdJ6zm_z",
    "outputId": "f49000dd-019f-40b2-8a36-8e9c8bfb8529"
   },
   "outputs": [
    {
     "name": "stderr",
     "output_type": "stream",
     "text": [
      "/usr/local/lib/python3.6/dist-packages/ipykernel_launcher.py:2: UserWarning: The `nb_epoch` argument in `fit` has been renamed `epochs`.\n",
      "  \n"
     ]
    },
    {
     "name": "stdout",
     "output_type": "stream",
     "text": [
      "Train on 25000 samples, validate on 5000 samples\n",
      "Epoch 1/30\n",
      "25000/25000 [==============================] - 8s 317us/step - loss: 2.4526 - acc: 0.6067 - val_loss: 1.0679 - val_acc: 0.7296\n",
      "Epoch 2/30\n",
      "25000/25000 [==============================] - 7s 279us/step - loss: 0.5913 - acc: 0.8193 - val_loss: 0.8380 - val_acc: 0.7722\n",
      "Epoch 3/30\n",
      "25000/25000 [==============================] - 7s 279us/step - loss: 0.4029 - acc: 0.8626 - val_loss: 0.7981 - val_acc: 0.7836\n",
      "Epoch 4/30\n",
      "25000/25000 [==============================] - 7s 277us/step - loss: 0.3134 - acc: 0.8905 - val_loss: 0.7563 - val_acc: 0.7984\n",
      "Epoch 5/30\n",
      "25000/25000 [==============================] - 7s 281us/step - loss: 0.2495 - acc: 0.9129 - val_loss: 0.6916 - val_acc: 0.8088\n",
      "Epoch 6/30\n",
      "25000/25000 [==============================] - 7s 279us/step - loss: 0.1966 - acc: 0.9316 - val_loss: 0.6644 - val_acc: 0.8194\n",
      "Epoch 7/30\n",
      "25000/25000 [==============================] - 7s 279us/step - loss: 0.1635 - acc: 0.9434 - val_loss: 0.6783 - val_acc: 0.8188\n",
      "Epoch 8/30\n",
      "25000/25000 [==============================] - 7s 279us/step - loss: 0.1375 - acc: 0.9533 - val_loss: 0.6596 - val_acc: 0.8282\n",
      "Epoch 9/30\n",
      "25000/25000 [==============================] - 7s 279us/step - loss: 0.1153 - acc: 0.9600 - val_loss: 0.6521 - val_acc: 0.8368\n",
      "Epoch 10/30\n",
      "25000/25000 [==============================] - 7s 280us/step - loss: 0.1020 - acc: 0.9654 - val_loss: 0.6586 - val_acc: 0.8380\n",
      "Epoch 11/30\n",
      "25000/25000 [==============================] - 7s 280us/step - loss: 0.0833 - acc: 0.9732 - val_loss: 0.6644 - val_acc: 0.8356\n",
      "Epoch 12/30\n",
      "25000/25000 [==============================] - 7s 279us/step - loss: 0.0797 - acc: 0.9737 - val_loss: 0.6587 - val_acc: 0.8390\n",
      "Epoch 13/30\n",
      "25000/25000 [==============================] - 7s 284us/step - loss: 0.0664 - acc: 0.9781 - val_loss: 0.7236 - val_acc: 0.8318\n",
      "Epoch 14/30\n",
      "25000/25000 [==============================] - 7s 278us/step - loss: 0.0626 - acc: 0.9796 - val_loss: 0.6532 - val_acc: 0.8478\n",
      "Epoch 15/30\n",
      "25000/25000 [==============================] - 7s 279us/step - loss: 0.0570 - acc: 0.9817 - val_loss: 0.6912 - val_acc: 0.8430\n",
      "Epoch 16/30\n",
      "25000/25000 [==============================] - 7s 280us/step - loss: 0.0533 - acc: 0.9820 - val_loss: 0.6997 - val_acc: 0.8424\n",
      "Epoch 17/30\n",
      "25000/25000 [==============================] - 7s 276us/step - loss: 0.0485 - acc: 0.9841 - val_loss: 0.7163 - val_acc: 0.8428\n",
      "Epoch 18/30\n",
      "25000/25000 [==============================] - 7s 277us/step - loss: 0.0452 - acc: 0.9855 - val_loss: 0.6966 - val_acc: 0.8486\n",
      "Epoch 19/30\n",
      "25000/25000 [==============================] - 7s 279us/step - loss: 0.0412 - acc: 0.9867 - val_loss: 0.7305 - val_acc: 0.8494\n",
      "Epoch 20/30\n",
      "25000/25000 [==============================] - 7s 277us/step - loss: 0.0399 - acc: 0.9863 - val_loss: 0.7263 - val_acc: 0.8510\n",
      "Epoch 21/30\n",
      "25000/25000 [==============================] - 7s 282us/step - loss: 0.0388 - acc: 0.9882 - val_loss: 0.7709 - val_acc: 0.8454\n",
      "Epoch 22/30\n",
      "25000/25000 [==============================] - 7s 278us/step - loss: 0.0362 - acc: 0.9880 - val_loss: 0.7545 - val_acc: 0.8498\n",
      "Epoch 23/30\n",
      "25000/25000 [==============================] - 7s 277us/step - loss: 0.0333 - acc: 0.9896 - val_loss: 0.7851 - val_acc: 0.8494\n",
      "Epoch 24/30\n",
      "25000/25000 [==============================] - 7s 277us/step - loss: 0.0345 - acc: 0.9880 - val_loss: 0.7735 - val_acc: 0.8494\n",
      "Epoch 25/30\n",
      "25000/25000 [==============================] - 7s 278us/step - loss: 0.0331 - acc: 0.9890 - val_loss: 0.7990 - val_acc: 0.8512\n",
      "Epoch 26/30\n",
      "25000/25000 [==============================] - 7s 278us/step - loss: 0.0299 - acc: 0.9898 - val_loss: 0.8215 - val_acc: 0.8542\n",
      "Epoch 27/30\n",
      "25000/25000 [==============================] - 7s 277us/step - loss: 0.0298 - acc: 0.9900 - val_loss: 0.8164 - val_acc: 0.8514\n",
      "Epoch 28/30\n",
      "25000/25000 [==============================] - 7s 279us/step - loss: 0.0303 - acc: 0.9900 - val_loss: 0.8347 - val_acc: 0.8500\n",
      "Epoch 29/30\n",
      "25000/25000 [==============================] - 7s 281us/step - loss: 0.0272 - acc: 0.9916 - val_loss: 0.8229 - val_acc: 0.8582\n",
      "Epoch 30/30\n",
      "25000/25000 [==============================] - 7s 277us/step - loss: 0.0254 - acc: 0.9909 - val_loss: 0.7979 - val_acc: 0.8596\n"
     ]
    },
    {
     "data": {
      "text/plain": [
       "<keras.callbacks.History at 0x7f7321098240>"
      ]
     },
     "execution_count": 47,
     "metadata": {
      "tags": []
     },
     "output_type": "execute_result"
    }
   ],
   "source": [
    "model3.fit(x_train59, y_train59, batch_size=BATCH_SIZE, nb_epoch=30, \n",
    "              validation_data=(x_test59, y_test59), callbacks=callback_list)"
   ]
  },
  {
   "cell_type": "code",
   "execution_count": 48,
   "metadata": {
    "colab": {
     "base_uri": "https://localhost:8080/",
     "height": 51
    },
    "colab_type": "code",
    "id": "IGsmhpZA1pWr",
    "outputId": "c029451b-cd34-4cb9-b780-8498c16221a7"
   },
   "outputs": [
    {
     "name": "stdout",
     "output_type": "stream",
     "text": [
      "5000/5000 [==============================] - 1s 275us/step\n"
     ]
    },
    {
     "data": {
      "text/plain": [
       "[0.7979059035539627, 0.8596]"
      ]
     },
     "execution_count": 48,
     "metadata": {
      "tags": []
     },
     "output_type": "execute_result"
    }
   ],
   "source": [
    "model3.evaluate(x_test59,y_test59)"
   ]
  },
  {
   "cell_type": "markdown",
   "metadata": {
    "colab_type": "text",
    "id": "0zDuRecXzEtr"
   },
   "source": [
    "# Text classification using TF-IDF"
   ]
  },
  {
   "cell_type": "markdown",
   "metadata": {
    "colab_type": "text",
    "id": "xMPlEJhHzb6P"
   },
   "source": [
    "### 6. Load the dataset from sklearn.datasets"
   ]
  },
  {
   "cell_type": "code",
   "execution_count": 0,
   "metadata": {
    "colab": {},
    "colab_type": "code",
    "id": "Fe-B59u3zHNb"
   },
   "outputs": [],
   "source": [
    "from sklearn.datasets import fetch_20newsgroups"
   ]
  },
  {
   "cell_type": "code",
   "execution_count": 0,
   "metadata": {
    "colab": {},
    "colab_type": "code",
    "id": "PRrMemVQzbHU"
   },
   "outputs": [],
   "source": [
    "categories = ['alt.atheism', 'soc.religion.christian', 'comp.graphics', 'sci.med']"
   ]
  },
  {
   "cell_type": "markdown",
   "metadata": {
    "colab_type": "text",
    "id": "-sZX0UbJzmg5"
   },
   "source": [
    "### 7. Training data"
   ]
  },
  {
   "cell_type": "code",
   "execution_count": 51,
   "metadata": {
    "colab": {
     "base_uri": "https://localhost:8080/",
     "height": 51
    },
    "colab_type": "code",
    "id": "CITr_5aXziJ2",
    "outputId": "763c77ce-359a-48ec-9fbe-e5f77414d2da"
   },
   "outputs": [
    {
     "name": "stderr",
     "output_type": "stream",
     "text": [
      "Downloading 20news dataset. This may take a few minutes.\n",
      "Downloading dataset from https://ndownloader.figshare.com/files/5975967 (14 MB)\n"
     ]
    }
   ],
   "source": [
    "twenty_train = fetch_20newsgroups(subset='train', categories=categories, shuffle=True, random_state=42)"
   ]
  },
  {
   "cell_type": "markdown",
   "metadata": {
    "colab_type": "text",
    "id": "xcESc5QXzr6p"
   },
   "source": [
    "### 8. Test data"
   ]
  },
  {
   "cell_type": "code",
   "execution_count": 0,
   "metadata": {
    "colab": {},
    "colab_type": "code",
    "id": "ysInblUMzpvl"
   },
   "outputs": [],
   "source": [
    "twenty_test = fetch_20newsgroups(subset='test', categories=categories, shuffle=True, random_state=42)"
   ]
  },
  {
   "cell_type": "markdown",
   "metadata": {
    "colab_type": "text",
    "id": "DriL2yZ50DQq"
   },
   "source": [
    "###  a.  You can access the values for the target variable using .target attribute \n",
    "###  b. You can access the name of the class in the target variable with .target_names\n"
   ]
  },
  {
   "cell_type": "code",
   "execution_count": 53,
   "metadata": {
    "colab": {
     "base_uri": "https://localhost:8080/",
     "height": 34
    },
    "colab_type": "code",
    "id": "vlUuai99z1hX",
    "outputId": "d0138de3-ce4a-4f39-bce6-9e035f122e69"
   },
   "outputs": [
    {
     "data": {
      "text/plain": [
       "array([1, 1, 3, ..., 2, 2, 2])"
      ]
     },
     "execution_count": 53,
     "metadata": {
      "tags": []
     },
     "output_type": "execute_result"
    }
   ],
   "source": [
    "twenty_train.target"
   ]
  },
  {
   "cell_type": "code",
   "execution_count": 55,
   "metadata": {
    "colab": {
     "base_uri": "https://localhost:8080/",
     "height": 34
    },
    "colab_type": "code",
    "id": "q5YoprTX3TWY",
    "outputId": "daf10fd5-c230-4731-cb37-ab3785eefa1b"
   },
   "outputs": [
    {
     "data": {
      "text/plain": [
       "['alt.atheism', 'comp.graphics', 'sci.med', 'soc.religion.christian']"
      ]
     },
     "execution_count": 55,
     "metadata": {
      "tags": []
     },
     "output_type": "execute_result"
    }
   ],
   "source": [
    "twenty_train.target_names"
   ]
  },
  {
   "cell_type": "code",
   "execution_count": 0,
   "metadata": {
    "colab": {},
    "colab_type": "code",
    "id": "uvIaLJkr2aaa"
   },
   "outputs": [],
   "source": []
  },
  {
   "cell_type": "code",
   "execution_count": 0,
   "metadata": {
    "colab": {},
    "colab_type": "code",
    "id": "VEKzaDfSz5E-"
   },
   "outputs": [],
   "source": [
    "twenty_train.target_names"
   ]
  },
  {
   "cell_type": "code",
   "execution_count": 57,
   "metadata": {
    "colab": {
     "base_uri": "https://localhost:8080/",
     "height": 122
    },
    "colab_type": "code",
    "id": "clBMKHzC0_N1",
    "outputId": "595ae6b2-3c46-46b2-e09d-936b637c1d92"
   },
   "outputs": [
    {
     "data": {
      "text/plain": [
       "['From: sd345@city.ac.uk (Michael Collier)\\nSubject: Converting images to HP LaserJet III?\\nNntp-Posting-Host: hampton\\nOrganization: The City University\\nLines: 14\\n\\nDoes anyone know of a good way (standard PC application/PD utility) to\\nconvert tif/img/tga files into LaserJet III format.  We would also like to\\ndo the same, converting to HPGL (HP plotter) files.\\n\\nPlease email any response.\\n\\nIs this the correct group?\\n\\nThanks in advance.  Michael.\\n-- \\nMichael Collier (Programmer)                 The Computer Unit,\\nEmail: M.P.Collier@uk.ac.city                The City University,\\nTel: 071 477-8000 x3769                      London,\\nFax: 071 477-8565                            EC1V 0HB.\\n',\n",
       " \"From: ani@ms.uky.edu (Aniruddha B. Deglurkar)\\nSubject: help: Splitting a trimming region along a mesh \\nOrganization: University Of Kentucky, Dept. of Math Sciences\\nLines: 28\\n\\n\\n\\n\\tHi,\\n\\n\\tI have a problem, I hope some of the 'gurus' can help me solve.\\n\\n\\tBackground of the problem:\\n\\tI have a rectangular mesh in the uv domain, i.e  the mesh is a \\n\\tmapping of a 3d Bezier patch into 2d. The area in this domain\\n\\twhich is inside a trimming loop had to be rendered. The trimming\\n\\tloop is a set of 2d Bezier curve segments.\\n\\tFor the sake of notation: the mesh is made up of cells.\\n\\n\\tMy problem is this :\\n\\tThe trimming area has to be split up into individual smaller\\n\\tcells bounded by the trimming curve segments. If a cell\\n\\tis wholly inside the area...then it is output as a whole ,\\n\\telse it is trivially rejected. \\n\\n\\tDoes any body know how thiss can be done, or is there any algo. \\n\\tsomewhere for doing this.\\n\\n\\tAny help would be appreciated.\\n\\n\\tThanks, \\n\\tAni.\\n-- \\nTo get irritated is human, to stay cool, divine.\\n\",\n",
       " \"From: djohnson@cs.ucsd.edu (Darin Johnson)\\nSubject: Re: harrassed at work, could use some prayers\\nOrganization: =CSE Dept., U.C. San Diego\\nLines: 63\\n\\n(Well, I'll email also, but this may apply to other people, so\\nI'll post also.)\\n\\n>I've been working at this company for eight years in various\\n>engineering jobs.  I'm female.  Yesterday I counted and realized that\\n>on seven different occasions I've been sexually harrassed at this\\n>company.\\n\\n>I dreaded coming back to work today.  What if my boss comes in to ask\\n>me some kind of question...\\n\\nYour boss should be the person bring these problems to.  If he/she\\ndoes not seem to take any action, keep going up higher and higher.\\nSexual harrassment does not need to be tolerated, and it can be an\\nenormous emotional support to discuss this with someone and know that\\nthey are trying to do something about it.  If you feel you can not\\ndiscuss this with your boss, perhaps your company has a personnel\\ndepartment that can work for you while preserving your privacy.  Most\\ncompanies will want to deal with this problem because constant anxiety\\ndoes seriously affect how effectively employees do their jobs.\\n\\nIt is unclear from your letter if you have done this or not.  It is\\nnot inconceivable that management remains ignorant of employee\\nproblems/strife even after eight years (it's a miracle if they do\\nnotice).  Perhaps your manager did not bring to the attention of\\nhigher ups?  If the company indeed does seem to want to ignore the\\nentire problem, there may be a state agency willing to fight with\\nyou.  (check with a lawyer, a women's resource center, etc to find out)\\n\\nYou may also want to discuss this with your paster, priest, husband,\\netc.  That is, someone you know will not be judgemental and that is\\nsupportive, comforting, etc.  This will bring a lot of healing.\\n\\n>So I returned at 11:25, only to find that ever single\\n>person had already left for lunch.  They left at 11:15 or so.  No one\\n>could be bothered to call me at the other building, even though my\\n>number was posted.\\n\\nThis happens to a lot of people.  Honest.  I believe it may seem\\nto be due to gross insensitivity because of the feelings you are\\ngoing through.  People in offices tend to be more insensitive while\\nworking than they normally are (maybe it's the hustle or stress or...)\\nI've had this happen to me a lot, often because they didn't realize\\nmy car was broken, etc.  Then they will come back and wonder why I\\ndidn't want to go (this would tend to make me stop being angry at\\nbeing ignored and make me laugh).  Once, we went off without our\\nboss, who was paying for the lunch :-)\\n\\n>For this\\n>reason I hope good Mr. Moderator allows me this latest indulgence.\\n\\nWell, if you can't turn to the computer for support, what would\\nwe do?  (signs of the computer age :-)\\n\\nIn closing, please don't let the hateful actions of a single person\\nharm you.  They are doing it because they are still the playground\\nbully and enjoy seeing the hurt they cause.  And you should not\\naccept the opinions of an imbecile that you are worthless - much\\nwiser people hold you in great esteem.\\n-- \\nDarin Johnson\\ndjohnson@ucsd.edu\\n  - Luxury!  In MY day, we had to make do with 5 bytes of swap...\\n\",\n",
       " 'From: s0612596@let.rug.nl (M.M. Zwart)\\nSubject: catholic church poland\\nOrganization: Faculteit der Letteren, Rijksuniversiteit Groningen, NL\\nLines: 10\\n\\nHello,\\n\\nI\\'m writing a paper on the role of the catholic church in Poland after 1989. \\nCan anyone tell me more about this, or fill me in on recent books/articles(\\nin english, german or french). Most important for me is the role of the \\nchurch concerning the abortion-law, religious education at schools,\\nbirth-control and the relation church-state(government). Thanx,\\n\\n                                                 Masja,\\n\"M.M.Zwart\"<s0612596@let.rug.nl>\\n',\n",
       " 'From: stanly@grok11.columbiasc.ncr.com (stanly)\\nSubject: Re: Elder Brother\\nOrganization: NCR Corp., Columbia SC\\nLines: 15\\n\\nIn article <Apr.8.00.57.41.1993.28246@athos.rutgers.edu> REXLEX@fnal.gov writes:\\n>In article <Apr.7.01.56.56.1993.22824@athos.rutgers.edu> shrum@hpfcso.fc.hp.com\\n>Matt. 22:9-14 \\'Go therefore to the main highways, and as many as you find\\n>there, invite to the wedding feast.\\'...\\n\\n>hmmmmmm.  Sounds like your theology and Christ\\'s are at odds. Which one am I \\n>to believe?\\n\\nIn this parable, Jesus tells the parable of the wedding feast. \"The kingdom\\nof heaven is like unto a certain king which made a marriage for his son\".\\nSo the wedding clothes were customary,  and \"given\" to those who \"chose\" to\\nattend.  This man \"refused\" to wear the clothes.  The wedding clothes are\\nequalivant to the \"clothes of righteousness\".  When Jesus died for our sins,\\nthose \"clothes\" were then provided.  Like that man, it is our decision to\\nput the clothes on.\\n']"
      ]
     },
     "execution_count": 57,
     "metadata": {
      "tags": []
     },
     "output_type": "execute_result"
    }
   ],
   "source": [
    "twenty_train.data[0:5]"
   ]
  },
  {
   "cell_type": "markdown",
   "metadata": {
    "colab_type": "text",
    "id": "hTz4EaN_1WGc"
   },
   "source": [
    "### 9.  Now with dependent and independent data available for both train and test datasets, using TfidfVectorizer fit and transform the training data and test data and get the tfidf features for both"
   ]
  },
  {
   "cell_type": "code",
   "execution_count": 0,
   "metadata": {
    "colab": {},
    "colab_type": "code",
    "id": "KHzuGSqe66W3"
   },
   "outputs": [],
   "source": [
    " from sklearn.feature_extraction.text import CountVectorizer, TfidfVectorizer"
   ]
  },
  {
   "cell_type": "code",
   "execution_count": 0,
   "metadata": {
    "colab": {},
    "colab_type": "code",
    "id": "B14YtfTf66sJ"
   },
   "outputs": [],
   "source": [
    "tfve=TfidfVectorizer(stop_words='english')"
   ]
  },
  {
   "cell_type": "code",
   "execution_count": 0,
   "metadata": {
    "colab": {},
    "colab_type": "code",
    "id": "H5G477f81C0Z"
   },
   "outputs": [],
   "source": [
    "Xtr20=tfve.fit_transform(twenty_train.data)"
   ]
  },
  {
   "cell_type": "code",
   "execution_count": 0,
   "metadata": {
    "colab": {},
    "colab_type": "code",
    "id": "53cNWyK19H1F"
   },
   "outputs": [],
   "source": [
    "ytr20=twenty_train.target"
   ]
  },
  {
   "cell_type": "code",
   "execution_count": 0,
   "metadata": {
    "colab": {},
    "colab_type": "code",
    "id": "q0d05i1Z9Soz"
   },
   "outputs": [],
   "source": [
    "Xts20=tfve.transform(twenty_test.data)"
   ]
  },
  {
   "cell_type": "code",
   "execution_count": 0,
   "metadata": {
    "colab": {},
    "colab_type": "code",
    "id": "84gORGuD9Suz"
   },
   "outputs": [],
   "source": [
    "yts20=twenty_test.target"
   ]
  },
  {
   "cell_type": "markdown",
   "metadata": {
    "colab_type": "text",
    "id": "tp_fDINJ1t4L"
   },
   "source": [
    "### 10. Use logisticRegression with tfidf features as input and targets as output and train the model and report the train and test accuracy score"
   ]
  },
  {
   "cell_type": "code",
   "execution_count": 0,
   "metadata": {
    "colab": {},
    "colab_type": "code",
    "id": "THlN2b5d1yQp"
   },
   "outputs": [],
   "source": [
    "from sklearn.linear_model import LogisticRegression"
   ]
  },
  {
   "cell_type": "code",
   "execution_count": 0,
   "metadata": {
    "colab": {},
    "colab_type": "code",
    "id": "jbcKgAlv9gXB"
   },
   "outputs": [],
   "source": [
    "lr=LogisticRegression()"
   ]
  },
  {
   "cell_type": "code",
   "execution_count": 79,
   "metadata": {
    "colab": {
     "base_uri": "https://localhost:8080/",
     "height": 210
    },
    "colab_type": "code",
    "id": "BiKGFOUZ9h7o",
    "outputId": "6893093b-16ba-4a89-99d2-6775550bdaf5"
   },
   "outputs": [
    {
     "name": "stderr",
     "output_type": "stream",
     "text": [
      "/usr/local/lib/python3.6/dist-packages/sklearn/linear_model/logistic.py:432: FutureWarning: Default solver will be changed to 'lbfgs' in 0.22. Specify a solver to silence this warning.\n",
      "  FutureWarning)\n",
      "/usr/local/lib/python3.6/dist-packages/sklearn/linear_model/logistic.py:469: FutureWarning: Default multi_class will be changed to 'auto' in 0.22. Specify the multi_class option to silence this warning.\n",
      "  \"this warning.\", FutureWarning)\n"
     ]
    },
    {
     "data": {
      "text/plain": [
       "LogisticRegression(C=1.0, class_weight=None, dual=False, fit_intercept=True,\n",
       "                   intercept_scaling=1, l1_ratio=None, max_iter=100,\n",
       "                   multi_class='warn', n_jobs=None, penalty='l2',\n",
       "                   random_state=None, solver='warn', tol=0.0001, verbose=0,\n",
       "                   warm_start=False)"
      ]
     },
     "execution_count": 79,
     "metadata": {
      "tags": []
     },
     "output_type": "execute_result"
    }
   ],
   "source": [
    "lr.fit(Xtr20,ytr20)"
   ]
  },
  {
   "cell_type": "code",
   "execution_count": 0,
   "metadata": {
    "colab": {},
    "colab_type": "code",
    "id": "seKUD2ej9mC7"
   },
   "outputs": [],
   "source": [
    "ytsprd=lr.predict(Xts20)"
   ]
  },
  {
   "cell_type": "code",
   "execution_count": 0,
   "metadata": {
    "colab": {},
    "colab_type": "code",
    "id": "OhOaObc-9wN-"
   },
   "outputs": [],
   "source": [
    "from sklearn.metrics import  accuracy_score"
   ]
  },
  {
   "cell_type": "code",
   "execution_count": 82,
   "metadata": {
    "colab": {
     "base_uri": "https://localhost:8080/",
     "height": 34
    },
    "colab_type": "code",
    "id": "tPkriOYB-Qn5",
    "outputId": "df05b5a2-4f4d-49f2-dc66-690c19ce472b"
   },
   "outputs": [
    {
     "data": {
      "text/plain": [
       "0.8988015978695073"
      ]
     },
     "execution_count": 82,
     "metadata": {
      "tags": []
     },
     "output_type": "execute_result"
    }
   ],
   "source": [
    "accuracy_score(yts20,ytsprd)"
   ]
  },
  {
   "cell_type": "code",
   "execution_count": 0,
   "metadata": {
    "colab": {},
    "colab_type": "code",
    "id": "bGm7C3JX-jE6"
   },
   "outputs": [],
   "source": []
  }
 ],
 "metadata": {
  "accelerator": "GPU",
  "colab": {
   "collapsed_sections": [
    "DriL2yZ50DQq"
   ],
   "name": "R8_External_Lab_Questions_CIFAR10_Transfer_Learning_TFIDF_Text_Classification.ipynb",
   "provenance": []
  },
  "kernelspec": {
   "display_name": "Python 3",
   "language": "python",
   "name": "python3"
  },
  "language_info": {
   "codemirror_mode": {
    "name": "ipython",
    "version": 3
   },
   "file_extension": ".py",
   "mimetype": "text/x-python",
   "name": "python",
   "nbconvert_exporter": "python",
   "pygments_lexer": "ipython3",
   "version": "3.7.3"
  }
 },
 "nbformat": 4,
 "nbformat_minor": 1
}
