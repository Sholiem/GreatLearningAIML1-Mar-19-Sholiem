{
 "cells": [
  {
   "cell_type": "markdown",
   "metadata": {
    "colab_type": "text",
    "id": "QGIsF1ADyJ58"
   },
   "source": [
    "# Transfer Learning CIFAR10"
   ]
  },
  {
   "cell_type": "code",
   "execution_count": 28,
   "metadata": {
    "colab": {
     "base_uri": "https://localhost:8080/",
     "height": 121
    },
    "colab_type": "code",
    "id": "37Z6H30Zyp6R",
    "outputId": "4edc8a66-d1c1-4eea-aec1-f78285a78c8d"
   },
   "outputs": [
    {
     "name": "stdout",
     "output_type": "stream",
     "text": [
      "Go to this URL in a browser: https://accounts.google.com/o/oauth2/auth?client_id=947318989803-6bn6qk8qdgf4n4g3pfee6491hc0brc4i.apps.googleusercontent.com&redirect_uri=urn%3Aietf%3Awg%3Aoauth%3A2.0%3Aoob&scope=email%20https%3A%2F%2Fwww.googleapis.com%2Fauth%2Fdocs.test%20https%3A%2F%2Fwww.googleapis.com%2Fauth%2Fdrive%20https%3A%2F%2Fwww.googleapis.com%2Fauth%2Fdrive.photos.readonly%20https%3A%2F%2Fwww.googleapis.com%2Fauth%2Fpeopleapi.readonly&response_type=code\n",
      "\n",
      "Enter your authorization code:\n",
      "··········\n",
      "Mounted at /content/drive\n"
     ]
    }
   ],
   "source": [
    "from google.colab import drive\n",
    "drive.mount('/content/drive')"
   ]
  },
  {
   "cell_type": "markdown",
   "metadata": {
    "colab_type": "text",
    "id": "E-n6tVFayGBe"
   },
   "source": [
    "* Train a simple convnet on the CIFAR dataset the first 5 output classes [0..4].\n",
    "* Freeze convolutional layers and fine-tune dense layers for the last 5 ouput classes [5..9].\n"
   ]
  },
  {
   "cell_type": "markdown",
   "metadata": {
    "colab_type": "text",
    "id": "Cq8ejXHJyGYq"
   },
   "source": [
    "### 1. Import CIFAR10 data and create 2 datasets with one dataset having classes from 0 to 4 and other having classes from 5 to 9 "
   ]
  },
  {
   "cell_type": "code",
   "execution_count": 0,
   "metadata": {
    "colab": {},
    "colab_type": "code",
    "id": "uWYbxnBayFUP"
   },
   "outputs": [],
   "source": [
    "# Initialize the random number generator\n",
    "import random\n",
    "random.seed(0)\n",
    "\n",
    "import warnings\n",
    "warnings.filterwarnings(\"ignore\")"
   ]
  },
  {
   "cell_type": "code",
   "execution_count": 0,
   "metadata": {
    "colab": {},
    "colab_type": "code",
    "id": "ubic7FwlzcV4"
   },
   "outputs": [],
   "source": [
    "from keras.backend import backend\n",
    "from keras.datasets import cifar10\n",
    "\n",
    "# the data, shuffled and split between train and test sets\n",
    "(X_train, y_train), (X_test, y_test) = cifar10.load_data()"
   ]
  },
  {
   "cell_type": "code",
   "execution_count": 147,
   "metadata": {
    "colab": {
     "base_uri": "https://localhost:8080/",
     "height": 302
    },
    "colab_type": "code",
    "id": "dzSqlKBDzpTi",
    "outputId": "4353b863-e73e-4d15-a212-957b7fdb6dc1"
   },
   "outputs": [
    {
     "name": "stdout",
     "output_type": "stream",
     "text": [
      "Label: [9]\n"
     ]
    },
    {
     "data": {
      "text/plain": [
       "<matplotlib.image.AxesImage at 0x7f6d1b2b1358>"
      ]
     },
     "execution_count": 147,
     "metadata": {
      "tags": []
     },
     "output_type": "execute_result"
    },
    {
     "data": {
      "image/png": "[encoded data removed]",
      "text/plain": [
       "<Figure size 432x288 with 1 Axes>"
      ]
     },
     "metadata": {
      "tags": []
     },
     "output_type": "display_data"
    }
   ],
   "source": [
    "import matplotlib.pyplot as plt\n",
    "%matplotlib inline\n",
    "print(\"Label: {}\".format(y_train[1000]))\n",
    "plt.imshow(X_train[1000], cmap='gray')"
   ]
  },
  {
   "cell_type": "code",
   "execution_count": 0,
   "metadata": {
    "colab": {},
    "colab_type": "code",
    "id": "wRSxI0NCk3Iw"
   },
   "outputs": [],
   "source": [
    "import numpy as np\n",
    "\n",
    "x_train04 , y_train04 = X_train[np.where(y_train <=4)[0]], y_train[y_train<=4] \n",
    "x_test04 , y_test04 = X_test[np.where(y_test <=4)[0]], y_test[y_test<=4]\n",
    "\n",
    "x_train59 , y_train59 = X_train[np.where(y_train >4)[0]], y_train[y_train>4] \n",
    "x_test59 , y_test59 = X_test[np.where(y_test >4)[0]], y_test[y_test>4]"
   ]
  },
  {
   "cell_type": "markdown",
   "metadata": {
    "colab_type": "text",
    "id": "xtCKmQh4yXhT"
   },
   "source": [
    "### 2. Use One-hot encoding to divide y_train and y_test into required no of output classes"
   ]
  },
  {
   "cell_type": "code",
   "execution_count": 0,
   "metadata": {
    "colab": {},
    "colab_type": "code",
    "id": "uN5O2kJ3yYa6"
   },
   "outputs": [],
   "source": [
    "x_train04 = x_train04.reshape(x_train04.shape[0], 32, 32, 3).astype('float32')\n",
    "x_test04 = x_test04.reshape(x_test04.shape[0], 32, 32, 3).astype('float32')"
   ]
  },
  {
   "cell_type": "code",
   "execution_count": 0,
   "metadata": {
    "colab": {},
    "colab_type": "code",
    "id": "ztoIcN4f68Je"
   },
   "outputs": [],
   "source": [
    "x_train04 /= 255\n",
    "x_test04 /= 255"
   ]
  },
  {
   "cell_type": "code",
   "execution_count": 151,
   "metadata": {
    "colab": {
     "base_uri": "https://localhost:8080/",
     "height": 34
    },
    "colab_type": "code",
    "id": "EEgk7tHh7BL8",
    "outputId": "0d30b65f-8181-4f86-f4b1-3725bd96a1c2"
   },
   "outputs": [
    {
     "data": {
      "text/plain": [
       "(25000, 32, 32, 3)"
      ]
     },
     "execution_count": 151,
     "metadata": {
      "tags": []
     },
     "output_type": "execute_result"
    }
   ],
   "source": [
    "x_train04.shape"
   ]
  },
  {
   "cell_type": "code",
   "execution_count": 152,
   "metadata": {
    "colab": {
     "base_uri": "https://localhost:8080/",
     "height": 34
    },
    "colab_type": "code",
    "id": "rL7Gc1GL7Fx9",
    "outputId": "8e2eb402-a3bc-4db6-996c-4d0cbc9e476b"
   },
   "outputs": [
    {
     "data": {
      "text/plain": [
       "(5000, 32, 32, 3)"
      ]
     },
     "execution_count": 152,
     "metadata": {
      "tags": []
     },
     "output_type": "execute_result"
    }
   ],
   "source": [
    "x_test04.shape"
   ]
  },
  {
   "cell_type": "code",
   "execution_count": 0,
   "metadata": {
    "colab": {},
    "colab_type": "code",
    "id": "sdHV19US7OSK"
   },
   "outputs": [],
   "source": [
    "from keras.utils import np_utils\n",
    "\n",
    "y_train04 = np_utils.to_categorical(y_train04, 5)\n",
    "y_test04 = np_utils.to_categorical(y_test04, 5)"
   ]
  },
  {
   "cell_type": "markdown",
   "metadata": {
    "colab_type": "text",
    "id": "cuOiKWfeybAl"
   },
   "source": [
    "### 3. Build a sequential neural network model which can classify the classes 0 to 4 of CIFAR10 dataset with at least 80% accuracy on test data"
   ]
  },
  {
   "cell_type": "code",
   "execution_count": 0,
   "metadata": {
    "colab": {},
    "colab_type": "code",
    "id": "5HzxNbiiyoBD"
   },
   "outputs": [],
   "source": [
    "from keras.models import Sequential\n",
    "from keras.layers import Dense, Activation, Dropout, Flatten, Reshape\n",
    "from keras.layers import Convolution2D, MaxPooling2D , BatchNormalization\n",
    "from keras.regularizers import l2\n"
   ]
  },
  {
   "cell_type": "code",
   "execution_count": 0,
   "metadata": {
    "colab": {},
    "colab_type": "code",
    "id": "M_ExhjhQ7qWz"
   },
   "outputs": [],
   "source": [
    "BATCH_SIZE = 128\n",
    "EPOCHS = 30"
   ]
  },
  {
   "cell_type": "code",
   "execution_count": 0,
   "metadata": {
    "colab": {},
    "colab_type": "code",
    "id": "JQNJpilm7tON"
   },
   "outputs": [],
   "source": [
    " # Define Model\n",
    "    model = Sequential()\n",
    "\n",
    "    # 1st Conv Layer\n",
    "    model.add(Convolution2D(32, 3, 3, input_shape=(32, 32, 3)))\n",
    "    model.add(Activation('relu'))\n",
    "\n",
    "    # 2nd Conv Layer\n",
    "    model.add(Convolution2D(256, 3, 3))\n",
    "    model.add(Activation('relu'))\n",
    "\n",
    "    # Max Pooling\n",
    "    model.add(MaxPooling2D(pool_size=(2,2)))\n",
    "    \n",
    "    # Dropout\n",
    "    model.add(Dropout(0.2))\n",
    "    model.add(BatchNormalization())\n",
    "    \n",
    "    # 3nd Conv Layer\n",
    "    model.add(Convolution2D(128, 3, 3))\n",
    "    model.add(Activation('relu'))\n",
    "    \n",
    "    model.add(Dropout(0.2))\n",
    "    model.add(BatchNormalization())\n",
    "\n",
    "   # Fully Connected Layer"
   ]
  },
  {
   "cell_type": "code",
   "execution_count": 0,
   "metadata": {
    "colab": {},
    "colab_type": "code",
    "id": "Fu8_fYRL8HV_"
   },
   "outputs": [],
   "source": [
    "model.add(Flatten())\n",
    "#model.add(Dense(128, input_dim=64, W_regularizer=l2(0.01)))\n",
    "model.add(Dense(256))\n",
    "model.add(Activation('relu'))\n",
    "\n",
    " \n",
    "    # More Dropout\n",
    "model.add(Dropout(0.4))\n",
    "model.add(BatchNormalization())\n",
    "\n",
    "\n",
    "    # Prediction Layer\n",
    "model.add(Dense(5))\n",
    "model.add(Activation('softmax'))"
   ]
  },
  {
   "cell_type": "code",
   "execution_count": 0,
   "metadata": {
    "colab": {},
    "colab_type": "code",
    "id": "Hq1V9PnY8S_A"
   },
   "outputs": [],
   "source": [
    "model.compile(loss='categorical_crossentropy', optimizer='adam', metrics=['accuracy'])"
   ]
  },
  {
   "cell_type": "code",
   "execution_count": 0,
   "metadata": {
    "colab": {},
    "colab_type": "code",
    "id": "NnA20OhE8bRC"
   },
   "outputs": [],
   "source": [
    "import keras \n",
    "\n",
    "early_stopping = keras.callbacks.EarlyStopping(monitor='val_acc', patience=7, verbose=1, mode='auto')\n",
    "callback_list = [early_stopping]"
   ]
  },
  {
   "cell_type": "code",
   "execution_count": 168,
   "metadata": {
    "colab": {
     "base_uri": "https://localhost:8080/",
     "height": 574
    },
    "colab_type": "code",
    "id": "sOcJepIv9eQb",
    "outputId": "bc36bae4-f57d-4f2a-ac11-0a46c04254d9"
   },
   "outputs": [
    {
     "name": "stdout",
     "output_type": "stream",
     "text": [
      "Train on 25000 samples, validate on 5000 samples\n",
      "Epoch 1/15\n",
      "25000/25000 [==============================] - 18s 731us/step - loss: 1.0358 - acc: 0.6090 - val_loss: 1.0759 - val_acc: 0.5882\n",
      "Epoch 2/15\n",
      "25000/25000 [==============================] - 15s 618us/step - loss: 0.6816 - acc: 0.7418 - val_loss: 0.6362 - val_acc: 0.7626\n",
      "Epoch 3/15\n",
      "25000/25000 [==============================] - 15s 615us/step - loss: 0.5226 - acc: 0.8035 - val_loss: 0.6041 - val_acc: 0.7714\n",
      "Epoch 4/15\n",
      "25000/25000 [==============================] - 15s 616us/step - loss: 0.4224 - acc: 0.8435 - val_loss: 0.5234 - val_acc: 0.8074\n",
      "Epoch 5/15\n",
      "25000/25000 [==============================] - 15s 616us/step - loss: 0.3318 - acc: 0.8806 - val_loss: 0.6102 - val_acc: 0.7800\n",
      "Epoch 6/15\n",
      "25000/25000 [==============================] - 15s 615us/step - loss: 0.2555 - acc: 0.9105 - val_loss: 0.6398 - val_acc: 0.7956\n",
      "Epoch 7/15\n",
      "25000/25000 [==============================] - 15s 616us/step - loss: 0.1948 - acc: 0.9334 - val_loss: 0.5455 - val_acc: 0.8148\n",
      "Epoch 8/15\n",
      "25000/25000 [==============================] - 15s 615us/step - loss: 0.1533 - acc: 0.9478 - val_loss: 0.5617 - val_acc: 0.8166\n",
      "Epoch 9/15\n",
      "25000/25000 [==============================] - 15s 615us/step - loss: 0.1248 - acc: 0.9577 - val_loss: 0.6108 - val_acc: 0.8226\n",
      "Epoch 10/15\n",
      "25000/25000 [==============================] - 15s 614us/step - loss: 0.0989 - acc: 0.9673 - val_loss: 0.6304 - val_acc: 0.8220\n",
      "Epoch 11/15\n",
      "25000/25000 [==============================] - 15s 615us/step - loss: 0.0855 - acc: 0.9715 - val_loss: 0.6430 - val_acc: 0.8250\n",
      "Epoch 12/15\n",
      "25000/25000 [==============================] - 15s 612us/step - loss: 0.0767 - acc: 0.9740 - val_loss: 0.7389 - val_acc: 0.7998\n",
      "Epoch 13/15\n",
      "25000/25000 [==============================] - 15s 612us/step - loss: 0.0783 - acc: 0.9729 - val_loss: 0.7109 - val_acc: 0.8028\n",
      "Epoch 14/15\n",
      "25000/25000 [==============================] - 15s 616us/step - loss: 0.0637 - acc: 0.9786 - val_loss: 0.6291 - val_acc: 0.8358\n",
      "Epoch 15/15\n",
      "25000/25000 [==============================] - 15s 612us/step - loss: 0.0640 - acc: 0.9773 - val_loss: 0.6042 - val_acc: 0.8384\n"
     ]
    },
    {
     "data": {
      "text/plain": [
       "<keras.callbacks.History at 0x7f6d1acece80>"
      ]
     },
     "execution_count": 168,
     "metadata": {
      "tags": []
     },
     "output_type": "execute_result"
    }
   ],
   "source": [
    "model.fit(x_train04, y_train04, batch_size=BATCH_SIZE, nb_epoch=15, \n",
    "              validation_data=(x_test04, y_test04), callbacks=callback_list)"
   ]
  },
  {
   "cell_type": "code",
   "execution_count": 169,
   "metadata": {
    "colab": {
     "base_uri": "https://localhost:8080/",
     "height": 50
    },
    "colab_type": "code",
    "id": "9uhiQV9K-ti8",
    "outputId": "42f8292b-797d-4692-f43c-02edbcd3dced"
   },
   "outputs": [
    {
     "name": "stdout",
     "output_type": "stream",
     "text": [
      "5000/5000 [==============================] - 2s 301us/step\n"
     ]
    },
    {
     "data": {
      "text/plain": [
       "[0.6041622749805451, 0.8384]"
      ]
     },
     "execution_count": 169,
     "metadata": {
      "tags": []
     },
     "output_type": "execute_result"
    }
   ],
   "source": [
    "model.evaluate(x_test04,y_test04)"
   ]
  },
  {
   "cell_type": "markdown",
   "metadata": {
    "colab_type": "text",
    "id": "woTfNst_ynRG"
   },
   "source": [
    "### 4. In the model which was built above (for classification of classes 0-4 in CIFAR10), make only the dense layers to be trainable and conv layers to be non-trainable"
   ]
  },
  {
   "cell_type": "code",
   "execution_count": 0,
   "metadata": {
    "colab": {},
    "colab_type": "code",
    "id": "o_VCDB3Byb1a"
   },
   "outputs": [],
   "source": [
    "#Freezing layers in the model which don't have 'dense' in their name\n",
    "for layer in model.layers:\n",
    "  if('dense' not in layer.name): #prefix detection to freeze layers which does not have dense\n",
    "    #Freezing a layer\n",
    "    layer.trainable = False\n",
    "\n",
    "#Module to print colourful statements\n",
    "from termcolor import colored\n",
    "\n",
    "#Check which layers have been frozen "
   ]
  },
  {
   "cell_type": "code",
   "execution_count": 171,
   "metadata": {
    "colab": {
     "base_uri": "https://localhost:8080/",
     "height": 319
    },
    "colab_type": "code",
    "id": "UEwitEOE_RqJ",
    "outputId": "2d1c9572-c0fd-4411-b7e6-055f7a472af5"
   },
   "outputs": [
    {
     "name": "stdout",
     "output_type": "stream",
     "text": [
      "\u001b[34mconv2d_29\u001b[0m \u001b[31mFalse\u001b[0m\n",
      "\u001b[34mactivation_43\u001b[0m \u001b[31mFalse\u001b[0m\n",
      "\u001b[34mconv2d_30\u001b[0m \u001b[31mFalse\u001b[0m\n",
      "\u001b[34mactivation_44\u001b[0m \u001b[31mFalse\u001b[0m\n",
      "\u001b[34mmax_pooling2d_13\u001b[0m \u001b[31mFalse\u001b[0m\n",
      "\u001b[34mdropout_15\u001b[0m \u001b[31mFalse\u001b[0m\n",
      "\u001b[34mbatch_normalization_17\u001b[0m \u001b[31mFalse\u001b[0m\n",
      "\u001b[34mconv2d_31\u001b[0m \u001b[31mFalse\u001b[0m\n",
      "\u001b[34mactivation_45\u001b[0m \u001b[31mFalse\u001b[0m\n",
      "\u001b[34mdropout_16\u001b[0m \u001b[31mFalse\u001b[0m\n",
      "\u001b[34mbatch_normalization_18\u001b[0m \u001b[31mFalse\u001b[0m\n",
      "\u001b[34mflatten_11\u001b[0m \u001b[31mFalse\u001b[0m\n",
      "\u001b[34mdense_15\u001b[0m \u001b[31mTrue\u001b[0m\n",
      "\u001b[34mactivation_46\u001b[0m \u001b[31mFalse\u001b[0m\n",
      "\u001b[34mdropout_17\u001b[0m \u001b[31mFalse\u001b[0m\n",
      "\u001b[34mbatch_normalization_19\u001b[0m \u001b[31mFalse\u001b[0m\n",
      "\u001b[34mdense_16\u001b[0m \u001b[31mTrue\u001b[0m\n",
      "\u001b[34mactivation_47\u001b[0m \u001b[31mFalse\u001b[0m\n"
     ]
    }
   ],
   "source": [
    "for layer in model.layers:\n",
    "  print (colored(layer.name, 'blue'),colored(layer.trainable, 'red'))"
   ]
  },
  {
   "cell_type": "markdown",
   "metadata": {
    "colab_type": "text",
    "id": "1-uUPqWpyeyX"
   },
   "source": [
    "### 5. Utilize the the model trained on CIFAR 10 (classes 0 to 4) to classify the classes 5 to 9 of CIFAR 10  (Use Transfer Learning) <br>\n",
    "Achieve an accuracy of more than 85% on test data"
   ]
  },
  {
   "cell_type": "code",
   "execution_count": 0,
   "metadata": {
    "colab": {},
    "colab_type": "code",
    "id": "xHd2kQD7_h3a"
   },
   "outputs": [],
   "source": [
    "y_train59 = np_utils.to_categorical(y_train59-5, 5)\n",
    "y_test59 = np_utils.to_categorical(y_test59-5, 5)"
   ]
  },
  {
   "cell_type": "code",
   "execution_count": 0,
   "metadata": {
    "colab": {},
    "colab_type": "code",
    "id": "SeB2zI9-_1aS"
   },
   "outputs": [],
   "source": [
    "x_train59 = x_train59.reshape(x_train59.shape[0], 32, 32, 3).astype('float32')\n",
    "x_test59 = x_test59.reshape(x_test59.shape[0], 32, 32, 3).astype('float32')"
   ]
  },
  {
   "cell_type": "code",
   "execution_count": 0,
   "metadata": {
    "colab": {},
    "colab_type": "code",
    "id": "P_dkDr_U_3BC"
   },
   "outputs": [],
   "source": [
    "x_train59 /=255\n",
    "x_test59 /=255"
   ]
  },
  {
   "cell_type": "code",
   "execution_count": 175,
   "metadata": {
    "colab": {
     "base_uri": "https://localhost:8080/",
     "height": 67
    },
    "colab_type": "code",
    "id": "gNXP9rtH_7GA",
    "outputId": "0686a474-f5ec-4554-9633-c05fa0e4fe35"
   },
   "outputs": [
    {
     "name": "stdout",
     "output_type": "stream",
     "text": [
      "X_Train shape  (25000, 32, 32, 3)\n",
      "number of images in  train  25000\n",
      "number of images in  test  5000\n"
     ]
    }
   ],
   "source": [
    "print('X_Train shape ',x_train59.shape)\n",
    "print('number of images in  train ',x_train59.shape[0])\n",
    "print('number of images in  test ',x_test59.shape[0])"
   ]
  },
  {
   "cell_type": "code",
   "execution_count": 176,
   "metadata": {
    "colab": {
     "base_uri": "https://localhost:8080/",
     "height": 67
    },
    "colab_type": "code",
    "id": "y4ZuI-PG8M31",
    "outputId": "e926c332-703f-41a7-fab9-88b2c50bd901"
   },
   "outputs": [
    {
     "name": "stdout",
     "output_type": "stream",
     "text": [
      "X_Train shape  (25000, 32, 32, 3)\n",
      "number of images in  train  25000\n",
      "number of images in  test  5000\n"
     ]
    }
   ],
   "source": [
    "print('X_Train shape ',x_train59.shape)\n",
    "print('number of images in  train ',y_train59.shape[0])\n",
    "print('number of images in  test ',y_test59.shape[0])"
   ]
  },
  {
   "cell_type": "code",
   "execution_count": 0,
   "metadata": {
    "colab": {},
    "colab_type": "code",
    "id": "A5G69WHKAN_s"
   },
   "outputs": [],
   "source": [
    "model.compile(loss='categorical_crossentropy', optimizer='adam', metrics=['accuracy'])"
   ]
  },
  {
   "cell_type": "code",
   "execution_count": 178,
   "metadata": {
    "colab": {
     "base_uri": "https://localhost:8080/",
     "height": 574
    },
    "colab_type": "code",
    "id": "NChchFOTAgi1",
    "outputId": "1a3a5c3f-fc91-4b7f-e71c-3246b3b60132"
   },
   "outputs": [
    {
     "name": "stdout",
     "output_type": "stream",
     "text": [
      "Train on 25000 samples, validate on 5000 samples\n",
      "Epoch 1/15\n",
      "25000/25000 [==============================] - 9s 378us/step - loss: 1.4905 - acc: 0.6819 - val_loss: 0.5867 - val_acc: 0.8138\n",
      "Epoch 2/15\n",
      "25000/25000 [==============================] - 7s 290us/step - loss: 0.3872 - acc: 0.8667 - val_loss: 0.5062 - val_acc: 0.8346\n",
      "Epoch 3/15\n",
      "25000/25000 [==============================] - 7s 290us/step - loss: 0.2587 - acc: 0.9100 - val_loss: 0.5078 - val_acc: 0.8396\n",
      "Epoch 4/15\n",
      "25000/25000 [==============================] - 7s 290us/step - loss: 0.1784 - acc: 0.9422 - val_loss: 0.4949 - val_acc: 0.8450\n",
      "Epoch 5/15\n",
      "25000/25000 [==============================] - 7s 287us/step - loss: 0.1205 - acc: 0.9606 - val_loss: 0.4738 - val_acc: 0.8564\n",
      "Epoch 6/15\n",
      "25000/25000 [==============================] - 7s 291us/step - loss: 0.0904 - acc: 0.9731 - val_loss: 0.5043 - val_acc: 0.8534\n",
      "Epoch 7/15\n",
      "25000/25000 [==============================] - 7s 287us/step - loss: 0.0709 - acc: 0.9790 - val_loss: 0.4839 - val_acc: 0.8650\n",
      "Epoch 8/15\n",
      "25000/25000 [==============================] - 7s 288us/step - loss: 0.0535 - acc: 0.9839 - val_loss: 0.4987 - val_acc: 0.8646\n",
      "Epoch 9/15\n",
      "25000/25000 [==============================] - 7s 289us/step - loss: 0.0461 - acc: 0.9870 - val_loss: 0.5320 - val_acc: 0.8658\n",
      "Epoch 10/15\n",
      "25000/25000 [==============================] - 7s 289us/step - loss: 0.0391 - acc: 0.9891 - val_loss: 0.5133 - val_acc: 0.8688\n",
      "Epoch 11/15\n",
      "25000/25000 [==============================] - 7s 287us/step - loss: 0.0359 - acc: 0.9902 - val_loss: 0.5501 - val_acc: 0.8682\n",
      "Epoch 12/15\n",
      "25000/25000 [==============================] - 7s 287us/step - loss: 0.0322 - acc: 0.9911 - val_loss: 0.5751 - val_acc: 0.8646\n",
      "Epoch 13/15\n",
      "25000/25000 [==============================] - 7s 287us/step - loss: 0.0304 - acc: 0.9913 - val_loss: 0.5530 - val_acc: 0.8730\n",
      "Epoch 14/15\n",
      "25000/25000 [==============================] - 7s 288us/step - loss: 0.0311 - acc: 0.9906 - val_loss: 0.5962 - val_acc: 0.8638\n",
      "Epoch 15/15\n",
      "25000/25000 [==============================] - 7s 289us/step - loss: 0.0286 - acc: 0.9913 - val_loss: 0.5960 - val_acc: 0.8666\n"
     ]
    },
    {
     "data": {
      "text/plain": [
       "<keras.callbacks.History at 0x7f6d1a89e128>"
      ]
     },
     "execution_count": 178,
     "metadata": {
      "tags": []
     },
     "output_type": "execute_result"
    }
   ],
   "source": [
    "model.fit(x_train59, y_train59, batch_size=BATCH_SIZE, nb_epoch=15, \n",
    "              validation_data=(x_test59, y_test59), callbacks=callback_list)"
   ]
  },
  {
   "cell_type": "code",
   "execution_count": 179,
   "metadata": {
    "colab": {
     "base_uri": "https://localhost:8080/",
     "height": 50
    },
    "colab_type": "code",
    "id": "SsHdiKIkAyl3",
    "outputId": "11547956-47aa-49ca-8787-a44611983169"
   },
   "outputs": [
    {
     "name": "stdout",
     "output_type": "stream",
     "text": [
      "5000/5000 [==============================] - 1s 293us/step\n"
     ]
    },
    {
     "data": {
      "text/plain": [
       "[0.5959680340111255, 0.8666]"
      ]
     },
     "execution_count": 179,
     "metadata": {
      "tags": []
     },
     "output_type": "execute_result"
    }
   ],
   "source": [
    "model.evaluate(x_test59,y_test59)"
   ]
  },
  {
   "cell_type": "markdown",
   "metadata": {
    "colab_type": "text",
    "id": "0zDuRecXzEtr"
   },
   "source": [
    "# Text classification using TF-IDF"
   ]
  },
  {
   "cell_type": "markdown",
   "metadata": {
    "colab_type": "text",
    "id": "xMPlEJhHzb6P"
   },
   "source": [
    "### 6. Load the dataset from sklearn.datasets"
   ]
  },
  {
   "cell_type": "code",
   "execution_count": 0,
   "metadata": {
    "colab": {},
    "colab_type": "code",
    "id": "Fe-B59u3zHNb"
   },
   "outputs": [],
   "source": [
    "from sklearn.datasets import fetch_20newsgroups"
   ]
  },
  {
   "cell_type": "code",
   "execution_count": 0,
   "metadata": {
    "colab": {},
    "colab_type": "code",
    "id": "PRrMemVQzbHU"
   },
   "outputs": [],
   "source": [
    "categories = ['alt.atheism', 'soc.religion.christian', 'comp.graphics', 'sci.med']"
   ]
  },
  {
   "cell_type": "markdown",
   "metadata": {
    "colab_type": "text",
    "id": "-sZX0UbJzmg5"
   },
   "source": [
    "### 7. Training data"
   ]
  },
  {
   "cell_type": "code",
   "execution_count": 4,
   "metadata": {
    "colab": {
     "base_uri": "https://localhost:8080/",
     "height": 50
    },
    "colab_type": "code",
    "id": "CITr_5aXziJ2",
    "outputId": "3734ad5a-1a8a-4046-f727-f6ae654ae82a"
   },
   "outputs": [
    {
     "name": "stderr",
     "output_type": "stream",
     "text": [
      "Downloading 20news dataset. This may take a few minutes.\n",
      "Downloading dataset from https://ndownloader.figshare.com/files/5975967 (14 MB)\n"
     ]
    }
   ],
   "source": [
    "twenty_train = fetch_20newsgroups(subset='train', categories=categories, shuffle=True, random_state=42)"
   ]
  },
  {
   "cell_type": "markdown",
   "metadata": {
    "colab_type": "text",
    "id": "xcESc5QXzr6p"
   },
   "source": [
    "### 8. Test data"
   ]
  },
  {
   "cell_type": "code",
   "execution_count": 0,
   "metadata": {
    "colab": {},
    "colab_type": "code",
    "id": "ysInblUMzpvl"
   },
   "outputs": [],
   "source": [
    "twenty_test = fetch_20newsgroups(subset='test', categories=categories, shuffle=True, random_state=42)"
   ]
  },
  {
   "cell_type": "markdown",
   "metadata": {
    "colab_type": "text",
    "id": "DriL2yZ50DQq"
   },
   "source": [
    "###  a.  You can access the values for the target variable using .target attribute \n",
    "###  b. You can access the name of the class in the target variable with .target_names\n"
   ]
  },
  {
   "cell_type": "code",
   "execution_count": 6,
   "metadata": {
    "colab": {
     "base_uri": "https://localhost:8080/",
     "height": 34
    },
    "colab_type": "code",
    "id": "vlUuai99z1hX",
    "outputId": "134cf6f7-cae9-4b84-94cd-66b1719fcc92"
   },
   "outputs": [
    {
     "data": {
      "text/plain": [
       "array([1, 1, 3, ..., 2, 2, 2])"
      ]
     },
     "execution_count": 6,
     "metadata": {
      "tags": []
     },
     "output_type": "execute_result"
    }
   ],
   "source": [
    "twenty_train.target"
   ]
  },
  {
   "cell_type": "code",
   "execution_count": 7,
   "metadata": {
    "colab": {
     "base_uri": "https://localhost:8080/",
     "height": 34
    },
    "colab_type": "code",
    "id": "VEKzaDfSz5E-",
    "outputId": "788e62a0-7a63-4951-9f36-beae10bec753"
   },
   "outputs": [
    {
     "data": {
      "text/plain": [
       "['alt.atheism', 'comp.graphics', 'sci.med', 'soc.religion.christian']"
      ]
     },
     "execution_count": 7,
     "metadata": {
      "tags": []
     },
     "output_type": "execute_result"
    }
   ],
   "source": [
    "twenty_train.target_names"
   ]
  },
  {
   "cell_type": "code",
   "execution_count": 8,
   "metadata": {
    "colab": {
     "base_uri": "https://localhost:8080/",
     "height": 121
    },
    "colab_type": "code",
    "id": "clBMKHzC0_N1",
    "outputId": "a4301a5d-3c2a-4065-be88-0f153c9d67cc"
   },
   "outputs": [
    {
     "data": {
      "text/plain": [
       "['From: sd345@city.ac.uk (Michael Collier)\\nSubject: Converting images to HP LaserJet III?\\nNntp-Posting-Host: hampton\\nOrganization: The City University\\nLines: 14\\n\\nDoes anyone know of a good way (standard PC application/PD utility) to\\nconvert tif/img/tga files into LaserJet III format.  We would also like to\\ndo the same, converting to HPGL (HP plotter) files.\\n\\nPlease email any response.\\n\\nIs this the correct group?\\n\\nThanks in advance.  Michael.\\n-- \\nMichael Collier (Programmer)                 The Computer Unit,\\nEmail: M.P.Collier@uk.ac.city                The City University,\\nTel: 071 477-8000 x3769                      London,\\nFax: 071 477-8565                            EC1V 0HB.\\n',\n",
       " \"From: ani@ms.uky.edu (Aniruddha B. Deglurkar)\\nSubject: help: Splitting a trimming region along a mesh \\nOrganization: University Of Kentucky, Dept. of Math Sciences\\nLines: 28\\n\\n\\n\\n\\tHi,\\n\\n\\tI have a problem, I hope some of the 'gurus' can help me solve.\\n\\n\\tBackground of the problem:\\n\\tI have a rectangular mesh in the uv domain, i.e  the mesh is a \\n\\tmapping of a 3d Bezier patch into 2d. The area in this domain\\n\\twhich is inside a trimming loop had to be rendered. The trimming\\n\\tloop is a set of 2d Bezier curve segments.\\n\\tFor the sake of notation: the mesh is made up of cells.\\n\\n\\tMy problem is this :\\n\\tThe trimming area has to be split up into individual smaller\\n\\tcells bounded by the trimming curve segments. If a cell\\n\\tis wholly inside the area...then it is output as a whole ,\\n\\telse it is trivially rejected. \\n\\n\\tDoes any body know how thiss can be done, or is there any algo. \\n\\tsomewhere for doing this.\\n\\n\\tAny help would be appreciated.\\n\\n\\tThanks, \\n\\tAni.\\n-- \\nTo get irritated is human, to stay cool, divine.\\n\",\n",
       " \"From: djohnson@cs.ucsd.edu (Darin Johnson)\\nSubject: Re: harrassed at work, could use some prayers\\nOrganization: =CSE Dept., U.C. San Diego\\nLines: 63\\n\\n(Well, I'll email also, but this may apply to other people, so\\nI'll post also.)\\n\\n>I've been working at this company for eight years in various\\n>engineering jobs.  I'm female.  Yesterday I counted and realized that\\n>on seven different occasions I've been sexually harrassed at this\\n>company.\\n\\n>I dreaded coming back to work today.  What if my boss comes in to ask\\n>me some kind of question...\\n\\nYour boss should be the person bring these problems to.  If he/she\\ndoes not seem to take any action, keep going up higher and higher.\\nSexual harrassment does not need to be tolerated, and it can be an\\nenormous emotional support to discuss this with someone and know that\\nthey are trying to do something about it.  If you feel you can not\\ndiscuss this with your boss, perhaps your company has a personnel\\ndepartment that can work for you while preserving your privacy.  Most\\ncompanies will want to deal with this problem because constant anxiety\\ndoes seriously affect how effectively employees do their jobs.\\n\\nIt is unclear from your letter if you have done this or not.  It is\\nnot inconceivable that management remains ignorant of employee\\nproblems/strife even after eight years (it's a miracle if they do\\nnotice).  Perhaps your manager did not bring to the attention of\\nhigher ups?  If the company indeed does seem to want to ignore the\\nentire problem, there may be a state agency willing to fight with\\nyou.  (check with a lawyer, a women's resource center, etc to find out)\\n\\nYou may also want to discuss this with your paster, priest, husband,\\netc.  That is, someone you know will not be judgemental and that is\\nsupportive, comforting, etc.  This will bring a lot of healing.\\n\\n>So I returned at 11:25, only to find that ever single\\n>person had already left for lunch.  They left at 11:15 or so.  No one\\n>could be bothered to call me at the other building, even though my\\n>number was posted.\\n\\nThis happens to a lot of people.  Honest.  I believe it may seem\\nto be due to gross insensitivity because of the feelings you are\\ngoing through.  People in offices tend to be more insensitive while\\nworking than they normally are (maybe it's the hustle or stress or...)\\nI've had this happen to me a lot, often because they didn't realize\\nmy car was broken, etc.  Then they will come back and wonder why I\\ndidn't want to go (this would tend to make me stop being angry at\\nbeing ignored and make me laugh).  Once, we went off without our\\nboss, who was paying for the lunch :-)\\n\\n>For this\\n>reason I hope good Mr. Moderator allows me this latest indulgence.\\n\\nWell, if you can't turn to the computer for support, what would\\nwe do?  (signs of the computer age :-)\\n\\nIn closing, please don't let the hateful actions of a single person\\nharm you.  They are doing it because they are still the playground\\nbully and enjoy seeing the hurt they cause.  And you should not\\naccept the opinions of an imbecile that you are worthless - much\\nwiser people hold you in great esteem.\\n-- \\nDarin Johnson\\ndjohnson@ucsd.edu\\n  - Luxury!  In MY day, we had to make do with 5 bytes of swap...\\n\",\n",
       " 'From: s0612596@let.rug.nl (M.M. Zwart)\\nSubject: catholic church poland\\nOrganization: Faculteit der Letteren, Rijksuniversiteit Groningen, NL\\nLines: 10\\n\\nHello,\\n\\nI\\'m writing a paper on the role of the catholic church in Poland after 1989. \\nCan anyone tell me more about this, or fill me in on recent books/articles(\\nin english, german or french). Most important for me is the role of the \\nchurch concerning the abortion-law, religious education at schools,\\nbirth-control and the relation church-state(government). Thanx,\\n\\n                                                 Masja,\\n\"M.M.Zwart\"<s0612596@let.rug.nl>\\n',\n",
       " 'From: stanly@grok11.columbiasc.ncr.com (stanly)\\nSubject: Re: Elder Brother\\nOrganization: NCR Corp., Columbia SC\\nLines: 15\\n\\nIn article <Apr.8.00.57.41.1993.28246@athos.rutgers.edu> REXLEX@fnal.gov writes:\\n>In article <Apr.7.01.56.56.1993.22824@athos.rutgers.edu> shrum@hpfcso.fc.hp.com\\n>Matt. 22:9-14 \\'Go therefore to the main highways, and as many as you find\\n>there, invite to the wedding feast.\\'...\\n\\n>hmmmmmm.  Sounds like your theology and Christ\\'s are at odds. Which one am I \\n>to believe?\\n\\nIn this parable, Jesus tells the parable of the wedding feast. \"The kingdom\\nof heaven is like unto a certain king which made a marriage for his son\".\\nSo the wedding clothes were customary,  and \"given\" to those who \"chose\" to\\nattend.  This man \"refused\" to wear the clothes.  The wedding clothes are\\nequalivant to the \"clothes of righteousness\".  When Jesus died for our sins,\\nthose \"clothes\" were then provided.  Like that man, it is our decision to\\nput the clothes on.\\n']"
      ]
     },
     "execution_count": 8,
     "metadata": {
      "tags": []
     },
     "output_type": "execute_result"
    }
   ],
   "source": [
    "twenty_train.data[0:5]"
   ]
  },
  {
   "cell_type": "markdown",
   "metadata": {
    "colab_type": "text",
    "id": "hTz4EaN_1WGc"
   },
   "source": [
    "### 9.  Now with dependent and independent data available for both train and test datasets, using TfidfVectorizer fit and transform the training data and test data and get the tfidf features for both"
   ]
  },
  {
   "cell_type": "code",
   "execution_count": 0,
   "metadata": {
    "colab": {},
    "colab_type": "code",
    "id": "H5G477f81C0Z"
   },
   "outputs": [],
   "source": [
    "import pandas as pd\n",
    "\n",
    "from sklearn.feature_extraction.text import CountVectorizer, TfidfVectorizer"
   ]
  },
  {
   "cell_type": "code",
   "execution_count": 0,
   "metadata": {
    "colab": {},
    "colab_type": "code",
    "id": "A9v-0ce1CIZ6"
   },
   "outputs": [],
   "source": [
    "tfve=TfidfVectorizer(stop_words='english')\n"
   ]
  },
  {
   "cell_type": "code",
   "execution_count": 0,
   "metadata": {
    "colab": {},
    "colab_type": "code",
    "id": "xR4NXqm6G-_s"
   },
   "outputs": [],
   "source": [
    "Xtr20=tfve.fit_transform(twenty_train.data)"
   ]
  },
  {
   "cell_type": "code",
   "execution_count": 0,
   "metadata": {
    "colab": {},
    "colab_type": "code",
    "id": "pJVvcIPdHCc9"
   },
   "outputs": [],
   "source": [
    "\n",
    "ytr20=twenty_train.target"
   ]
  },
  {
   "cell_type": "code",
   "execution_count": 0,
   "metadata": {
    "colab": {},
    "colab_type": "code",
    "id": "Q0JE0tXWHCtf"
   },
   "outputs": [],
   "source": [
    "\n",
    "Xts20=tfve.transform(twenty_test.data)"
   ]
  },
  {
   "cell_type": "code",
   "execution_count": 0,
   "metadata": {
    "colab": {},
    "colab_type": "code",
    "id": "J3LxkFWvHC-D"
   },
   "outputs": [],
   "source": [
    "yts20=twenty_test.target"
   ]
  },
  {
   "cell_type": "markdown",
   "metadata": {
    "colab_type": "text",
    "id": "tp_fDINJ1t4L"
   },
   "source": [
    "### 10. Use logisticRegression with tfidf features as input and targets as output and train the model and report the train and test accuracy score"
   ]
  },
  {
   "cell_type": "code",
   "execution_count": 0,
   "metadata": {
    "colab": {},
    "colab_type": "code",
    "id": "THlN2b5d1yQp"
   },
   "outputs": [],
   "source": [
    "from sklearn.linear_model import LogisticRegression"
   ]
  },
  {
   "cell_type": "code",
   "execution_count": 0,
   "metadata": {
    "colab": {},
    "colab_type": "code",
    "id": "ppYUDd3-EJJW"
   },
   "outputs": [],
   "source": [
    "lR=LogisticRegression()"
   ]
  },
  {
   "cell_type": "code",
   "execution_count": 18,
   "metadata": {
    "colab": {
     "base_uri": "https://localhost:8080/",
     "height": 188
    },
    "colab_type": "code",
    "id": "1GmEWP8SEcPl",
    "outputId": "79b55b70-e95e-4d11-a0c0-be59b1bb84e2"
   },
   "outputs": [
    {
     "name": "stderr",
     "output_type": "stream",
     "text": [
      "/usr/local/lib/python3.6/dist-packages/sklearn/linear_model/logistic.py:432: FutureWarning: Default solver will be changed to 'lbfgs' in 0.22. Specify a solver to silence this warning.\n",
      "  FutureWarning)\n",
      "/usr/local/lib/python3.6/dist-packages/sklearn/linear_model/logistic.py:469: FutureWarning: Default multi_class will be changed to 'auto' in 0.22. Specify the multi_class option to silence this warning.\n",
      "  \"this warning.\", FutureWarning)\n"
     ]
    },
    {
     "data": {
      "text/plain": [
       "LogisticRegression(C=1.0, class_weight=None, dual=False, fit_intercept=True,\n",
       "                   intercept_scaling=1, l1_ratio=None, max_iter=100,\n",
       "                   multi_class='warn', n_jobs=None, penalty='l2',\n",
       "                   random_state=None, solver='warn', tol=0.0001, verbose=0,\n",
       "                   warm_start=False)"
      ]
     },
     "execution_count": 18,
     "metadata": {
      "tags": []
     },
     "output_type": "execute_result"
    }
   ],
   "source": [
    "lR.fit(Xtr20,ytr20)"
   ]
  },
  {
   "cell_type": "code",
   "execution_count": 0,
   "metadata": {
    "colab": {},
    "colab_type": "code",
    "id": "NY8jvtd7IaAZ"
   },
   "outputs": [],
   "source": [
    "ytrprd=lR.predict(Xtr20)"
   ]
  },
  {
   "cell_type": "code",
   "execution_count": 0,
   "metadata": {
    "colab": {},
    "colab_type": "code",
    "id": "5aqny93wJk6U"
   },
   "outputs": [],
   "source": [
    "ytsprd=lR.predict(Xts20)"
   ]
  },
  {
   "cell_type": "code",
   "execution_count": 0,
   "metadata": {
    "colab": {},
    "colab_type": "code",
    "id": "dhR-koGJEm8t"
   },
   "outputs": [],
   "source": [
    "from sklearn.metrics import  accuracy_score"
   ]
  },
  {
   "cell_type": "code",
   "execution_count": 26,
   "metadata": {
    "colab": {
     "base_uri": "https://localhost:8080/",
     "height": 34
    },
    "colab_type": "code",
    "id": "thWJPNhFIi9H",
    "outputId": "f375702a-a5d9-4dbd-ca78-5b5d56314be5"
   },
   "outputs": [
    {
     "data": {
      "text/plain": [
       "0.9933540097474524"
      ]
     },
     "execution_count": 26,
     "metadata": {
      "tags": []
     },
     "output_type": "execute_result"
    }
   ],
   "source": [
    "accuracy_score(ytr20,ytrprd)"
   ]
  },
  {
   "cell_type": "code",
   "execution_count": 27,
   "metadata": {
    "colab": {
     "base_uri": "https://localhost:8080/",
     "height": 34
    },
    "colab_type": "code",
    "id": "akEgZ9MlEqZE",
    "outputId": "12e92141-324a-4949-c7dc-4132f073ba58"
   },
   "outputs": [
    {
     "data": {
      "text/plain": [
       "0.8988015978695073"
      ]
     },
     "execution_count": 27,
     "metadata": {
      "tags": []
     },
     "output_type": "execute_result"
    }
   ],
   "source": [
    "accuracy_score(yts20,ytsprd)"
   ]
  }
 ],
 "metadata": {
  "accelerator": "GPU",
  "colab": {
   "collapsed_sections": [],
   "name": "R8_External_Lab_Questions_CIFAR10_Transfer_Learning_TFIDF_Text_Classification.ipynb",
   "provenance": []
  },
  "kernelspec": {
   "display_name": "Python 3",
   "language": "python",
   "name": "python3"
  },
  "language_info": {
   "codemirror_mode": {
    "name": "ipython",
    "version": 3
   },
   "file_extension": ".py",
   "mimetype": "text/x-python",
   "name": "python",
   "nbconvert_exporter": "python",
   "pygments_lexer": "ipython3",
   "version": "3.7.3"
  }
 },
 "nbformat": 4,
 "nbformat_minor": 1
}
