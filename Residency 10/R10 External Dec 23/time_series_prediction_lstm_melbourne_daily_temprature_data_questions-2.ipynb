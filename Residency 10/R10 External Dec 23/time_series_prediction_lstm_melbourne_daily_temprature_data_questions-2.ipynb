{
  "nbformat": 4,
  "nbformat_minor": 0,
  "metadata": {
    "colab": {
      "name": "time_series_prediction_lstm_melbourne_daily_temprature_data_questions.ipynb",
      "provenance": [],
      "toc_visible": true
    },
    "kernelspec": {
      "display_name": "Python 3",
      "language": "python",
      "name": "python3"
    },
    "language_info": {
      "codemirror_mode": {
        "name": "ipython",
        "version": 3
      },
      "file_extension": ".py",
      "mimetype": "text/x-python",
      "name": "python",
      "nbconvert_exporter": "python",
      "pygments_lexer": "ipython3",
      "version": "3.7.1"
    }
  },
  "cells": [
    {
      "cell_type": "markdown",
      "metadata": {
        "id": "WKqJ7B8p8Dhl",
        "colab_type": "text"
      },
      "source": [
        "## Time Series Prediction using LSTM"
      ]
    },
    {
      "cell_type": "markdown",
      "metadata": {
        "id": "3Nuus3Mb8Dht",
        "colab_type": "text"
      },
      "source": [
        "### Download Data\n",
        "Link: https://datamarket.com/data/set/2324/daily-minimum-temperatures-in-melbourne-australia-1981-1990#!ds=2324&display=line\n",
        "\n",
        "#### Description\n",
        "Daily minimum temperatures in Melbourne, Australia, 1981-1990\n",
        "\n",
        "Units: Degrees Celcius\n",
        "\n",
        "#### Steps before loading\n",
        "- Rename the column name with temprature values to \"Temprature\"\n",
        "- In the last, there is one extra row in the data, remove it by opening the file and save it again.\n",
        "- There are some values in Temprature column which have a \"?\" before them, they will give error, remove \"?\" before them and save the file\n",
        "- If you don't want to do these steps, just load the data file given by Great Learning."
      ]
    },
    {
      "cell_type": "markdown",
      "metadata": {
        "id": "ujr2ALU28Dhy",
        "colab_type": "text"
      },
      "source": [
        "#### Mount google drive"
      ]
    },
    {
      "cell_type": "code",
      "metadata": {
        "colab_type": "code",
        "id": "VjoLRSg57qlt",
        "colab": {}
      },
      "source": [
        "import os"
      ],
      "execution_count": 0,
      "outputs": []
    },
    {
      "cell_type": "code",
      "metadata": {
        "id": "HzJwNZZkCCox",
        "colab_type": "code",
        "colab": {
          "base_uri": "https://localhost:8080/",
          "height": 169
        },
        "outputId": "4e183623-0181-4793-f2ff-6bc9b79a1841"
      },
      "source": [
        "from google.colab import drive\n",
        "drive.mount('/content/drive')"
      ],
      "execution_count": 1,
      "outputs": [
        {
          "output_type": "stream",
          "text": [
            "Go to this URL in a browser: https://accounts.google.com/o/oauth2/auth?client_id=947318989803-6bn6qk8qdgf4n4g3pfee6491hc0brc4i.apps.googleusercontent.com&redirect_uri=urn%3aietf%3awg%3aoauth%3a2.0%3aoob&response_type=code&scope=email%20https%3a%2f%2fwww.googleapis.com%2fauth%2fdocs.test%20https%3a%2f%2fwww.googleapis.com%2fauth%2fdrive%20https%3a%2f%2fwww.googleapis.com%2fauth%2fdrive.photos.readonly%20https%3a%2f%2fwww.googleapis.com%2fauth%2fpeopleapi.readonly\n",
            "\n",
            "Enter your authorization code:\n",
            "··········\n",
            "Mounted at /content/drive\n"
          ],
          "name": "stdout"
        }
      ]
    },
    {
      "cell_type": "code",
      "metadata": {
        "id": "hZtxvnSkCfyx",
        "colab_type": "code",
        "colab": {}
      },
      "source": [
        "os.chdir(\"/content/drive/My Drive/LSTM-SequencitalNlp/internalassigment\")"
      ],
      "execution_count": 0,
      "outputs": []
    },
    {
      "cell_type": "code",
      "metadata": {
        "id": "K02JUNk9Cq4Y",
        "colab_type": "code",
        "colab": {
          "base_uri": "https://localhost:8080/",
          "height": 108
        },
        "outputId": "68d9069a-42de-4f63-aa6b-90444c1aabff"
      },
      "source": [
        "!ls -lrth"
      ],
      "execution_count": 5,
      "outputs": [
        {
          "output_type": "stream",
          "text": [
            "total 65K\n",
            "-rw------- 1 root root  55K Dec 22 09:56 daily-minimum-temperatures-in-me-1.csv\n",
            "-rw------- 1 root root 9.1K Dec 22 09:57 time_series_prediction_lstm_melbourne_daily_temprature_data_questions.ipynb\n"
          ],
          "name": "stdout"
        }
      ]
    },
    {
      "cell_type": "code",
      "metadata": {
        "id": "SfUJisUQFXMV",
        "colab_type": "code",
        "colab": {
          "base_uri": "https://localhost:8080/",
          "height": 204
        },
        "outputId": "d6327741-2b54-4a30-dd9b-8ea95c365d41"
      },
      "source": [
        "tempDF.head()"
      ],
      "execution_count": 15,
      "outputs": [
        {
          "output_type": "execute_result",
          "data": {
            "text/html": [
              "<div>\n",
              "<style scoped>\n",
              "    .dataframe tbody tr th:only-of-type {\n",
              "        vertical-align: middle;\n",
              "    }\n",
              "\n",
              "    .dataframe tbody tr th {\n",
              "        vertical-align: top;\n",
              "    }\n",
              "\n",
              "    .dataframe thead th {\n",
              "        text-align: right;\n",
              "    }\n",
              "</style>\n",
              "<table border=\"1\" class=\"dataframe\">\n",
              "  <thead>\n",
              "    <tr style=\"text-align: right;\">\n",
              "      <th></th>\n",
              "      <th>Date</th>\n",
              "      <th>Temperature</th>\n",
              "    </tr>\n",
              "  </thead>\n",
              "  <tbody>\n",
              "    <tr>\n",
              "      <th>0</th>\n",
              "      <td>1981-01-01</td>\n",
              "      <td>20.7</td>\n",
              "    </tr>\n",
              "    <tr>\n",
              "      <th>1</th>\n",
              "      <td>1981-01-02</td>\n",
              "      <td>17.9</td>\n",
              "    </tr>\n",
              "    <tr>\n",
              "      <th>2</th>\n",
              "      <td>1981-01-03</td>\n",
              "      <td>18.8</td>\n",
              "    </tr>\n",
              "    <tr>\n",
              "      <th>3</th>\n",
              "      <td>1981-01-04</td>\n",
              "      <td>14.6</td>\n",
              "    </tr>\n",
              "    <tr>\n",
              "      <th>4</th>\n",
              "      <td>1981-01-05</td>\n",
              "      <td>15.8</td>\n",
              "    </tr>\n",
              "  </tbody>\n",
              "</table>\n",
              "</div>"
            ],
            "text/plain": [
              "         Date  Temperature\n",
              "0  1981-01-01         20.7\n",
              "1  1981-01-02         17.9\n",
              "2  1981-01-03         18.8\n",
              "3  1981-01-04         14.6\n",
              "4  1981-01-05         15.8"
            ]
          },
          "metadata": {
            "tags": []
          },
          "execution_count": 15
        }
      ]
    },
    {
      "cell_type": "code",
      "metadata": {
        "id": "-EppntIGCx21",
        "colab_type": "code",
        "colab": {}
      },
      "source": [
        ""
      ],
      "execution_count": 0,
      "outputs": []
    },
    {
      "cell_type": "markdown",
      "metadata": {
        "id": "T3jXBw1i8DiC",
        "colab_type": "text"
      },
      "source": [
        "#### Change your present working directory"
      ]
    },
    {
      "cell_type": "code",
      "metadata": {
        "id": "akGN6e0T8DiF",
        "colab_type": "code",
        "colab": {}
      },
      "source": [
        "os.chdir(\"/content/drive/My Drive/LSTM-SequencitalNlp/internalassigment\")"
      ],
      "execution_count": 0,
      "outputs": []
    },
    {
      "cell_type": "code",
      "metadata": {
        "id": "sblBZszoCzPi",
        "colab_type": "code",
        "colab": {}
      },
      "source": [
        "import pandas as pd"
      ],
      "execution_count": 0,
      "outputs": []
    },
    {
      "cell_type": "markdown",
      "metadata": {
        "id": "p-CHDl518DiN",
        "colab_type": "text"
      },
      "source": [
        "### Load your data file"
      ]
    },
    {
      "cell_type": "code",
      "metadata": {
        "colab_type": "code",
        "id": "AanHqGBu7Jw2",
        "colab": {}
      },
      "source": [
        "tempDF=pd.read_csv(\"daily-minimum-temperatures-in-me-1.csv\")"
      ],
      "execution_count": 0,
      "outputs": []
    },
    {
      "cell_type": "markdown",
      "metadata": {
        "id": "D5f3Tn1V8DiU",
        "colab_type": "text"
      },
      "source": [
        "#### Plot data"
      ]
    },
    {
      "cell_type": "code",
      "metadata": {
        "id": "cxfqeVa68DiV",
        "colab_type": "code",
        "colab": {
          "base_uri": "https://localhost:8080/",
          "height": 282
        },
        "outputId": "93e5bd74-4167-40a3-d9e1-bb2012c8eca1"
      },
      "source": [
        "tempDF.plot()"
      ],
      "execution_count": 8,
      "outputs": [
        {
          "output_type": "execute_result",
          "data": {
            "text/plain": [
              "<matplotlib.axes._subplots.AxesSubplot at 0x7f42210d8ba8>"
            ]
          },
          "metadata": {
            "tags": []
          },
          "execution_count": 8
        },
        {
          "output_type": "display_data",
          "data": {
            "image/png": "[encoded data removed]",
            "text/plain": [
              "<Figure size 432x288 with 1 Axes>"
            ]
          },
          "metadata": {
            "tags": []
          }
        }
      ]
    },
    {
      "cell_type": "markdown",
      "metadata": {
        "id": "jo1I-SgR8DiZ",
        "colab_type": "text"
      },
      "source": [
        "#### Descibe your dataframe"
      ]
    },
    {
      "cell_type": "code",
      "metadata": {
        "colab_type": "code",
        "id": "oBWNA_kG7JxC",
        "outputId": "138ba92b-be88-468a-de5d-2e75ba4bb2e5",
        "colab": {
          "base_uri": "https://localhost:8080/",
          "height": 297
        }
      },
      "source": [
        "tempDF.describe()"
      ],
      "execution_count": 9,
      "outputs": [
        {
          "output_type": "execute_result",
          "data": {
            "text/html": [
              "<div>\n",
              "<style scoped>\n",
              "    .dataframe tbody tr th:only-of-type {\n",
              "        vertical-align: middle;\n",
              "    }\n",
              "\n",
              "    .dataframe tbody tr th {\n",
              "        vertical-align: top;\n",
              "    }\n",
              "\n",
              "    .dataframe thead th {\n",
              "        text-align: right;\n",
              "    }\n",
              "</style>\n",
              "<table border=\"1\" class=\"dataframe\">\n",
              "  <thead>\n",
              "    <tr style=\"text-align: right;\">\n",
              "      <th></th>\n",
              "      <th>Temperature</th>\n",
              "    </tr>\n",
              "  </thead>\n",
              "  <tbody>\n",
              "    <tr>\n",
              "      <th>count</th>\n",
              "      <td>3650.000000</td>\n",
              "    </tr>\n",
              "    <tr>\n",
              "      <th>mean</th>\n",
              "      <td>11.177753</td>\n",
              "    </tr>\n",
              "    <tr>\n",
              "      <th>std</th>\n",
              "      <td>4.071837</td>\n",
              "    </tr>\n",
              "    <tr>\n",
              "      <th>min</th>\n",
              "      <td>0.000000</td>\n",
              "    </tr>\n",
              "    <tr>\n",
              "      <th>25%</th>\n",
              "      <td>8.300000</td>\n",
              "    </tr>\n",
              "    <tr>\n",
              "      <th>50%</th>\n",
              "      <td>11.000000</td>\n",
              "    </tr>\n",
              "    <tr>\n",
              "      <th>75%</th>\n",
              "      <td>14.000000</td>\n",
              "    </tr>\n",
              "    <tr>\n",
              "      <th>max</th>\n",
              "      <td>26.300000</td>\n",
              "    </tr>\n",
              "  </tbody>\n",
              "</table>\n",
              "</div>"
            ],
            "text/plain": [
              "       Temperature\n",
              "count  3650.000000\n",
              "mean     11.177753\n",
              "std       4.071837\n",
              "min       0.000000\n",
              "25%       8.300000\n",
              "50%      11.000000\n",
              "75%      14.000000\n",
              "max      26.300000"
            ]
          },
          "metadata": {
            "tags": []
          },
          "execution_count": 9
        }
      ]
    },
    {
      "cell_type": "markdown",
      "metadata": {
        "id": "S7-dCkDf8Did",
        "colab_type": "text"
      },
      "source": [
        "#### Check for null values"
      ]
    },
    {
      "cell_type": "code",
      "metadata": {
        "colab_type": "code",
        "id": "97MVIy_N7JxH",
        "outputId": "76f8f86c-4d0a-43a4-e770-ff0d0d3d589b",
        "colab": {
          "base_uri": "https://localhost:8080/",
          "height": 68
        }
      },
      "source": [
        "tempDF.isnull().sum()"
      ],
      "execution_count": 10,
      "outputs": [
        {
          "output_type": "execute_result",
          "data": {
            "text/plain": [
              "Date           0\n",
              "Temperature    0\n",
              "dtype: int64"
            ]
          },
          "metadata": {
            "tags": []
          },
          "execution_count": 10
        }
      ]
    },
    {
      "cell_type": "markdown",
      "metadata": {
        "id": "qPmgf34U8Dii",
        "colab_type": "text"
      },
      "source": [
        "#### Drop null values"
      ]
    },
    {
      "cell_type": "code",
      "metadata": {
        "colab_type": "code",
        "id": "fgh7mdOI7JxS",
        "colab": {}
      },
      "source": [
        "#Looks like no null values "
      ],
      "execution_count": 0,
      "outputs": []
    },
    {
      "cell_type": "markdown",
      "metadata": {
        "id": "UKZef5wj8Din",
        "colab_type": "text"
      },
      "source": [
        "#### Get the representation of the distribution of data in the form of histogram"
      ]
    },
    {
      "cell_type": "code",
      "metadata": {
        "colab_type": "code",
        "id": "659sLAx27Jxc",
        "outputId": "9025c5f1-6633-416d-ec88-1343f289ac69",
        "colab": {
          "base_uri": "https://localhost:8080/",
          "height": 315
        }
      },
      "source": [
        "tempDF.hist()"
      ],
      "execution_count": 11,
      "outputs": [
        {
          "output_type": "execute_result",
          "data": {
            "text/plain": [
              "array([[<matplotlib.axes._subplots.AxesSubplot object at 0x7f422094feb8>]],\n",
              "      dtype=object)"
            ]
          },
          "metadata": {
            "tags": []
          },
          "execution_count": 11
        },
        {
          "output_type": "display_data",
          "data": {
            "image/png": "[encoded data removed]",
            "text/plain": [
              "<Figure size 432x288 with 1 Axes>"
            ]
          },
          "metadata": {
            "tags": []
          }
        }
      ]
    },
    {
      "cell_type": "code",
      "metadata": {
        "id": "cXr1nRckFEC8",
        "colab_type": "code",
        "colab": {}
      },
      "source": [
        "import numpy as np"
      ],
      "execution_count": 0,
      "outputs": []
    },
    {
      "cell_type": "markdown",
      "metadata": {
        "id": "O4MaVOjO8Dis",
        "colab_type": "text"
      },
      "source": [
        "#### Check the maximum and minimum values"
      ]
    },
    {
      "cell_type": "code",
      "metadata": {
        "colab_type": "code",
        "id": "WmkjCx8c7Jxn",
        "outputId": "0aea1fb1-7acc-409e-9879-562055cafcc2",
        "colab": {
          "base_uri": "https://localhost:8080/",
          "height": 119
        }
      },
      "source": [
        "#Check Data Range\n",
        "print('Min', np.min(tempDF))\n",
        "print('Max', np.max(tempDF))"
      ],
      "execution_count": 14,
      "outputs": [
        {
          "output_type": "stream",
          "text": [
            "Min Date           1981-01-01\n",
            "Temperature             0\n",
            "dtype: object\n",
            "Max Date           1990-12-31\n",
            "Temperature          26.3\n",
            "dtype: object\n"
          ],
          "name": "stdout"
        }
      ]
    },
    {
      "cell_type": "markdown",
      "metadata": {
        "id": "cc0rZwW18Diw",
        "colab_type": "text"
      },
      "source": [
        "### Normalize the data"
      ]
    },
    {
      "cell_type": "code",
      "metadata": {
        "colab_type": "code",
        "id": "fb4SNzD27Jxw",
        "colab": {}
      },
      "source": [
        "tempDF.drop(\"Date\", axis=1, inplace=True)"
      ],
      "execution_count": 0,
      "outputs": []
    },
    {
      "cell_type": "code",
      "metadata": {
        "id": "q11vaZpFFcgJ",
        "colab_type": "code",
        "colab": {}
      },
      "source": [
        ""
      ],
      "execution_count": 0,
      "outputs": []
    },
    {
      "cell_type": "code",
      "metadata": {
        "id": "vQ7QVovOFcpB",
        "colab_type": "code",
        "colab": {}
      },
      "source": [
        "from sklearn.preprocessing import MinMaxScaler"
      ],
      "execution_count": 0,
      "outputs": []
    },
    {
      "cell_type": "code",
      "metadata": {
        "id": "X8mtCR7cFgcJ",
        "colab_type": "code",
        "colab": {}
      },
      "source": [
        ""
      ],
      "execution_count": 0,
      "outputs": []
    },
    {
      "cell_type": "code",
      "metadata": {
        "id": "lPNFzOKkFg-U",
        "colab_type": "code",
        "colab": {}
      },
      "source": [
        "scaler = MinMaxScaler(feature_range=(0, 1))\n",
        "scaled = scaler.fit_transform(tempDF)"
      ],
      "execution_count": 0,
      "outputs": []
    },
    {
      "cell_type": "code",
      "metadata": {
        "id": "1wNWRyR9F7xJ",
        "colab_type": "code",
        "colab": {}
      },
      "source": [
        ""
      ],
      "execution_count": 0,
      "outputs": []
    },
    {
      "cell_type": "markdown",
      "metadata": {
        "id": "rEChmOln8Di0",
        "colab_type": "text"
      },
      "source": [
        "#### Check the maximum and minimum values of scaled data"
      ]
    },
    {
      "cell_type": "code",
      "metadata": {
        "colab_type": "code",
        "id": "clv2rSfL7Jx4",
        "colab": {}
      },
      "source": [
        ""
      ],
      "execution_count": 0,
      "outputs": []
    },
    {
      "cell_type": "code",
      "metadata": {
        "id": "lqU6SzLoF8g0",
        "colab_type": "code",
        "colab": {
          "base_uri": "https://localhost:8080/",
          "height": 51
        },
        "outputId": "5e3f8676-9a68-4f2c-a534-3eb89c03c1fb"
      },
      "source": [
        "print('Min', np.min(scaled))\n",
        "print('Max', np.max(scaled))"
      ],
      "execution_count": 20,
      "outputs": [
        {
          "output_type": "stream",
          "text": [
            "Min 0.0\n",
            "Max 1.0\n"
          ],
          "name": "stdout"
        }
      ]
    },
    {
      "cell_type": "code",
      "metadata": {
        "id": "Hlffve-uF8nl",
        "colab_type": "code",
        "colab": {
          "base_uri": "https://localhost:8080/",
          "height": 51
        },
        "outputId": "d4e74f95-f5b8-4b22-e815-18d18f2d4951"
      },
      "source": [
        "#70% examples will used for training (in the begining)\n",
        "train_size = int(len(scaled) * 0.70)\n",
        "\n",
        "#30% will be used for Test\n",
        "test_size = len(scaled - train_size)\n",
        "\n",
        "#Split the data\n",
        "train, test = scaled[0:train_size, :], scaled[train_size: len(scaled), :]\n",
        "print('train: {}\\ntest: {}'.format(len(train), len(test)))"
      ],
      "execution_count": 21,
      "outputs": [
        {
          "output_type": "stream",
          "text": [
            "train: 2555\n",
            "test: 1095\n"
          ],
          "name": "stdout"
        }
      ]
    },
    {
      "cell_type": "markdown",
      "metadata": {
        "id": "OiXjMIhc8Di4",
        "colab_type": "text"
      },
      "source": [
        "#### Look into some of the scaled values"
      ]
    },
    {
      "cell_type": "code",
      "metadata": {
        "colab_type": "code",
        "id": "Xq9CBinO7Jx9",
        "outputId": "57f01d38-f2a6-497e-b216-90356be5b864",
        "colab": {
          "base_uri": "https://localhost:8080/",
          "height": 272
        }
      },
      "source": [
        "scaled[0:15]"
      ],
      "execution_count": 23,
      "outputs": [
        {
          "output_type": "execute_result",
          "data": {
            "text/plain": [
              "array([[0.78707224],\n",
              "       [0.68060837],\n",
              "       [0.7148289 ],\n",
              "       [0.55513308],\n",
              "       [0.60076046],\n",
              "       [0.60076046],\n",
              "       [0.60076046],\n",
              "       [0.66159696],\n",
              "       [0.82889734],\n",
              "       [0.76045627],\n",
              "       [0.61596958],\n",
              "       [0.50570342],\n",
              "       [0.63498099],\n",
              "       [0.81749049],\n",
              "       [0.95057034]])"
            ]
          },
          "metadata": {
            "tags": []
          },
          "execution_count": 23
        }
      ]
    },
    {
      "cell_type": "markdown",
      "metadata": {
        "id": "5o2yf9My8Di7",
        "colab_type": "text"
      },
      "source": [
        "### Split data into Training and Testing"
      ]
    },
    {
      "cell_type": "code",
      "metadata": {
        "colab_type": "code",
        "id": "-0Uh7lCO7JyD",
        "colab": {}
      },
      "source": [
        "already done up "
      ],
      "execution_count": 0,
      "outputs": []
    },
    {
      "cell_type": "markdown",
      "metadata": {
        "id": "bngRElfK8Di-",
        "colab_type": "text"
      },
      "source": [
        "#### Print train and test size"
      ]
    },
    {
      "cell_type": "code",
      "metadata": {
        "id": "wpwjAbey8Di_",
        "colab_type": "code",
        "colab": {
          "base_uri": "https://localhost:8080/",
          "height": 34
        },
        "outputId": "ffb4c69a-f10d-40a1-b2b5-91dd3e3a35bb"
      },
      "source": [
        "print(\"number of records in train \" ,train.shape[0])"
      ],
      "execution_count": 27,
      "outputs": [
        {
          "output_type": "stream",
          "text": [
            "number of records in train  2555\n"
          ],
          "name": "stdout"
        }
      ]
    },
    {
      "cell_type": "code",
      "metadata": {
        "id": "mD3e1O8xGohh",
        "colab_type": "code",
        "colab": {
          "base_uri": "https://localhost:8080/",
          "height": 34
        },
        "outputId": "fd544f5c-c5a5-46eb-f2b7-8d9231153b70"
      },
      "source": [
        "print(\"number of records in test \" ,train.shape[0])"
      ],
      "execution_count": 28,
      "outputs": [
        {
          "output_type": "stream",
          "text": [
            "number of records in test  2555\n"
          ],
          "name": "stdout"
        }
      ]
    },
    {
      "cell_type": "markdown",
      "metadata": {
        "id": "0-SGb9I08DjC",
        "colab_type": "text"
      },
      "source": [
        "## Create the sequential data\n",
        "Map the temprature at a particular time t to the temprature at time t+n, where n is any number you define.\n",
        "\n",
        "For example: to map tempratures of consecutive days, use t+1, i.e. loop_back = 1"
      ]
    },
    {
      "cell_type": "markdown",
      "metadata": {
        "id": "JHedxlqg8DjD",
        "colab_type": "text"
      },
      "source": [
        "#### Define your function to create dataset"
      ]
    },
    {
      "cell_type": "code",
      "metadata": {
        "colab_type": "code",
        "id": "jWIvInPB7JyK",
        "colab": {}
      },
      "source": [
        "#window - how long the sequence will be\n",
        "def create_dataset(dataset, window=1):\n",
        "    \n",
        "    dataX, dataY = [], []\n",
        "    \n",
        "    for i in range(len(dataset)-window):\n",
        "        \n",
        "        a = dataset[i:(i+window), 0]        \n",
        "        dataX.append(a)\n",
        "        dataY.append(dataset[i + window, 0])\n",
        "    \n",
        "    return np.array(dataX), np.array(dataY)"
      ],
      "execution_count": 0,
      "outputs": []
    },
    {
      "cell_type": "markdown",
      "metadata": {
        "id": "QHi6LTSO8DjH",
        "colab_type": "text"
      },
      "source": [
        "#### Use function to get training and test set"
      ]
    },
    {
      "cell_type": "code",
      "metadata": {
        "colab_type": "code",
        "id": "uarOJcPk7JyQ",
        "scrolled": true,
        "colab": {}
      },
      "source": [
        "window_size = 1\n",
        "X_train, y_train = create_dataset(train, window_size)\n",
        "X_test, y_test = create_dataset(test, window_size)"
      ],
      "execution_count": 0,
      "outputs": []
    },
    {
      "cell_type": "markdown",
      "metadata": {
        "id": "o5hn3a_u8DjL",
        "colab_type": "text"
      },
      "source": [
        "#### Transform the prepared train and test input data into the expected structure using numpy.reshape()"
      ]
    },
    {
      "cell_type": "code",
      "metadata": {
        "colab_type": "code",
        "id": "UJZ4VB4N7JyV",
        "outputId": "c8e45caa-36ca-4859-b9c0-91c48ff5a18a",
        "colab": {
          "base_uri": "https://localhost:8080/",
          "height": 51
        }
      },
      "source": [
        "#Make it 3 Dimensional Data - needed for LSTM\n",
        "X_train = np.reshape(X_train, (X_train.shape[0], X_train.shape[1], 1))\n",
        "X_test = np.reshape(X_test, (X_test.shape[0], X_test.shape[1], 1))\n",
        "print(X_train.shape)\n",
        "print(X_test.shape)"
      ],
      "execution_count": 31,
      "outputs": [
        {
          "output_type": "stream",
          "text": [
            "(2554, 1, 1)\n",
            "(1094, 1, 1)\n"
          ],
          "name": "stdout"
        }
      ]
    },
    {
      "cell_type": "markdown",
      "metadata": {
        "id": "Br9oX2Rw8DjP",
        "colab_type": "text"
      },
      "source": [
        "## Define Model"
      ]
    },
    {
      "cell_type": "markdown",
      "metadata": {
        "id": "Lp_he9Pt8DjQ",
        "colab_type": "text"
      },
      "source": [
        "### Define sequntial model, add LSTM layer and compile the model"
      ]
    },
    {
      "cell_type": "code",
      "metadata": {
        "colab_type": "code",
        "id": "yRW-Txvt7Jya",
        "outputId": "a6407de7-1ab5-4d6e-9177-671f77f72019",
        "colab": {
          "base_uri": "https://localhost:8080/",
          "height": 63
        }
      },
      "source": [
        "import tensorflow as tf"
      ],
      "execution_count": 32,
      "outputs": [
        {
          "output_type": "display_data",
          "data": {
            "text/html": [
              "<p style=\"color: red;\">\n",
              "The default version of TensorFlow in Colab will soon switch to TensorFlow 2.x.<br>\n",
              "We recommend you <a href=\"https://www.tensorflow.org/guide/migrate\" target=\"_blank\">upgrade</a> now \n",
              "or ensure your notebook will continue to use TensorFlow 1.x via the <code>%tensorflow_version 1.x</code> magic:\n",
              "<a href=\"https://colab.research.google.com/notebooks/tensorflow_version.ipynb\" target=\"_blank\">more info</a>.</p>\n"
            ],
            "text/plain": [
              "<IPython.core.display.HTML object>"
            ]
          },
          "metadata": {
            "tags": []
          }
        }
      ]
    },
    {
      "cell_type": "code",
      "metadata": {
        "id": "AZYu2WhdHXD7",
        "colab_type": "code",
        "colab": {
          "base_uri": "https://localhost:8080/",
          "height": 88
        },
        "outputId": "8e33db4e-926a-429d-e505-8186bc571ca5"
      },
      "source": [
        "tf.keras.backend.clear_session()\n",
        "model = tf.keras.Sequential()\n",
        "model.add(tf.keras.layers.LSTM(32, input_shape=(window_size, 1)))\n",
        "model.add(tf.keras.layers.Dense(1))\n",
        "model.compile(optimizer='adam', loss='mse')"
      ],
      "execution_count": 33,
      "outputs": [
        {
          "output_type": "stream",
          "text": [
            "WARNING:tensorflow:From /usr/local/lib/python3.6/dist-packages/tensorflow_core/python/ops/resource_variable_ops.py:1630: calling BaseResourceVariable.__init__ (from tensorflow.python.ops.resource_variable_ops) with constraint is deprecated and will be removed in a future version.\n",
            "Instructions for updating:\n",
            "If using Keras pass *_constraint arguments to layers.\n"
          ],
          "name": "stdout"
        }
      ]
    },
    {
      "cell_type": "code",
      "metadata": {
        "id": "u1SRdAFeHagA",
        "colab_type": "code",
        "colab": {
          "base_uri": "https://localhost:8080/",
          "height": 1000
        },
        "outputId": "51febebe-ca7c-48ca-d3a6-21d2e7faf4ff"
      },
      "source": [
        ""
      ],
      "execution_count": 34,
      "outputs": [
        {
          "output_type": "stream",
          "text": [
            "WARNING:tensorflow:From /usr/local/lib/python3.6/dist-packages/tensorflow_core/python/ops/math_grad.py:1424: where (from tensorflow.python.ops.array_ops) is deprecated and will be removed in a future version.\n",
            "Instructions for updating:\n",
            "Use tf.where in 2.0, which has the same broadcast rule as np.where\n",
            "Train on 2554 samples, validate on 1094 samples\n",
            "Epoch 1/200\n",
            "2554/2554 [==============================] - 1s 433us/sample - loss: 0.1140 - val_loss: 0.0431\n",
            "Epoch 2/200\n",
            "2554/2554 [==============================] - 0s 102us/sample - loss: 0.0199 - val_loss: 0.0143\n",
            "Epoch 3/200\n",
            "2554/2554 [==============================] - 0s 103us/sample - loss: 0.0149 - val_loss: 0.0133\n",
            "Epoch 4/200\n",
            "2554/2554 [==============================] - 0s 104us/sample - loss: 0.0140 - val_loss: 0.0124\n",
            "Epoch 5/200\n",
            "2554/2554 [==============================] - 0s 99us/sample - loss: 0.0131 - val_loss: 0.0117\n",
            "Epoch 6/200\n",
            "2554/2554 [==============================] - 0s 106us/sample - loss: 0.0123 - val_loss: 0.0108\n",
            "Epoch 7/200\n",
            "2554/2554 [==============================] - 0s 105us/sample - loss: 0.0116 - val_loss: 0.0100\n",
            "Epoch 8/200\n",
            "2554/2554 [==============================] - 0s 108us/sample - loss: 0.0110 - val_loss: 0.0095\n",
            "Epoch 9/200\n",
            "2554/2554 [==============================] - 0s 101us/sample - loss: 0.0106 - val_loss: 0.0092\n",
            "Epoch 10/200\n",
            "2554/2554 [==============================] - 0s 104us/sample - loss: 0.0103 - val_loss: 0.0089\n",
            "Epoch 11/200\n",
            "2554/2554 [==============================] - 0s 115us/sample - loss: 0.0102 - val_loss: 0.0088\n",
            "Epoch 12/200\n",
            "2554/2554 [==============================] - 0s 104us/sample - loss: 0.0101 - val_loss: 0.0088\n",
            "Epoch 13/200\n",
            "2554/2554 [==============================] - 0s 104us/sample - loss: 0.0101 - val_loss: 0.0088\n",
            "Epoch 14/200\n",
            "2554/2554 [==============================] - 0s 106us/sample - loss: 0.0100 - val_loss: 0.0088\n",
            "Epoch 15/200\n",
            "2554/2554 [==============================] - 0s 109us/sample - loss: 0.0101 - val_loss: 0.0087\n",
            "Epoch 16/200\n",
            "2554/2554 [==============================] - 0s 103us/sample - loss: 0.0101 - val_loss: 0.0086\n",
            "Epoch 17/200\n",
            "2554/2554 [==============================] - 0s 104us/sample - loss: 0.0100 - val_loss: 0.0089\n",
            "Epoch 18/200\n",
            "2554/2554 [==============================] - 0s 103us/sample - loss: 0.0101 - val_loss: 0.0087\n",
            "Epoch 19/200\n",
            "2554/2554 [==============================] - 0s 105us/sample - loss: 0.0100 - val_loss: 0.0086\n",
            "Epoch 20/200\n",
            "2554/2554 [==============================] - 0s 100us/sample - loss: 0.0101 - val_loss: 0.0088\n",
            "Epoch 21/200\n",
            "2554/2554 [==============================] - 0s 111us/sample - loss: 0.0101 - val_loss: 0.0086\n",
            "Epoch 22/200\n",
            "2554/2554 [==============================] - 0s 107us/sample - loss: 0.0101 - val_loss: 0.0088\n",
            "Epoch 23/200\n",
            "2554/2554 [==============================] - 0s 102us/sample - loss: 0.0100 - val_loss: 0.0086\n",
            "Epoch 24/200\n",
            "2554/2554 [==============================] - 0s 107us/sample - loss: 0.0101 - val_loss: 0.0086\n",
            "Epoch 25/200\n",
            "2554/2554 [==============================] - 0s 110us/sample - loss: 0.0101 - val_loss: 0.0086\n",
            "Epoch 26/200\n",
            "2554/2554 [==============================] - 0s 103us/sample - loss: 0.0100 - val_loss: 0.0087\n",
            "Epoch 27/200\n",
            "2554/2554 [==============================] - 0s 106us/sample - loss: 0.0100 - val_loss: 0.0087\n",
            "Epoch 28/200\n",
            "2554/2554 [==============================] - 0s 102us/sample - loss: 0.0101 - val_loss: 0.0086\n",
            "Epoch 29/200\n",
            "2554/2554 [==============================] - 0s 106us/sample - loss: 0.0100 - val_loss: 0.0087\n",
            "Epoch 30/200\n",
            "2554/2554 [==============================] - 0s 103us/sample - loss: 0.0101 - val_loss: 0.0086\n",
            "Epoch 31/200\n",
            "2554/2554 [==============================] - 0s 103us/sample - loss: 0.0100 - val_loss: 0.0086\n",
            "Epoch 32/200\n",
            "2554/2554 [==============================] - 0s 103us/sample - loss: 0.0101 - val_loss: 0.0087\n",
            "Epoch 33/200\n",
            "2554/2554 [==============================] - 0s 103us/sample - loss: 0.0100 - val_loss: 0.0086\n",
            "Epoch 34/200\n",
            "2554/2554 [==============================] - 0s 103us/sample - loss: 0.0100 - val_loss: 0.0087\n",
            "Epoch 35/200\n",
            "2554/2554 [==============================] - 0s 104us/sample - loss: 0.0101 - val_loss: 0.0086\n",
            "Epoch 36/200\n",
            "2554/2554 [==============================] - 0s 100us/sample - loss: 0.0101 - val_loss: 0.0087\n",
            "Epoch 37/200\n",
            "2554/2554 [==============================] - 0s 106us/sample - loss: 0.0101 - val_loss: 0.0087\n",
            "Epoch 38/200\n",
            "2554/2554 [==============================] - 0s 103us/sample - loss: 0.0101 - val_loss: 0.0086\n",
            "Epoch 39/200\n",
            "2554/2554 [==============================] - 0s 103us/sample - loss: 0.0100 - val_loss: 0.0087\n",
            "Epoch 40/200\n",
            "2554/2554 [==============================] - 0s 103us/sample - loss: 0.0100 - val_loss: 0.0086\n",
            "Epoch 41/200\n",
            "2554/2554 [==============================] - 0s 103us/sample - loss: 0.0100 - val_loss: 0.0090\n",
            "Epoch 42/200\n",
            "2554/2554 [==============================] - 0s 103us/sample - loss: 0.0101 - val_loss: 0.0087\n",
            "Epoch 43/200\n",
            "2554/2554 [==============================] - 0s 107us/sample - loss: 0.0101 - val_loss: 0.0088\n",
            "Epoch 44/200\n",
            "2554/2554 [==============================] - 0s 101us/sample - loss: 0.0100 - val_loss: 0.0087\n",
            "Epoch 45/200\n",
            "2554/2554 [==============================] - 0s 105us/sample - loss: 0.0100 - val_loss: 0.0087\n",
            "Epoch 46/200\n",
            "2554/2554 [==============================] - 0s 101us/sample - loss: 0.0100 - val_loss: 0.0087\n",
            "Epoch 47/200\n",
            "2554/2554 [==============================] - 0s 102us/sample - loss: 0.0100 - val_loss: 0.0087\n",
            "Epoch 48/200\n",
            "2554/2554 [==============================] - 0s 101us/sample - loss: 0.0100 - val_loss: 0.0086\n",
            "Epoch 49/200\n",
            "2554/2554 [==============================] - 0s 107us/sample - loss: 0.0100 - val_loss: 0.0086\n",
            "Epoch 50/200\n",
            "2554/2554 [==============================] - 0s 101us/sample - loss: 0.0100 - val_loss: 0.0087\n",
            "Epoch 51/200\n",
            "2554/2554 [==============================] - 0s 101us/sample - loss: 0.0100 - val_loss: 0.0086\n",
            "Epoch 52/200\n",
            "2554/2554 [==============================] - 0s 102us/sample - loss: 0.0100 - val_loss: 0.0087\n",
            "Epoch 53/200\n",
            "2554/2554 [==============================] - 0s 103us/sample - loss: 0.0101 - val_loss: 0.0087\n",
            "Epoch 54/200\n",
            "2554/2554 [==============================] - 0s 101us/sample - loss: 0.0100 - val_loss: 0.0089\n",
            "Epoch 55/200\n",
            "2554/2554 [==============================] - 0s 103us/sample - loss: 0.0100 - val_loss: 0.0086\n",
            "Epoch 56/200\n",
            "2554/2554 [==============================] - 0s 103us/sample - loss: 0.0100 - val_loss: 0.0087\n",
            "Epoch 57/200\n",
            "2554/2554 [==============================] - 0s 105us/sample - loss: 0.0100 - val_loss: 0.0086\n",
            "Epoch 58/200\n",
            "2554/2554 [==============================] - 0s 102us/sample - loss: 0.0100 - val_loss: 0.0086\n",
            "Epoch 59/200\n",
            "2554/2554 [==============================] - 0s 107us/sample - loss: 0.0100 - val_loss: 0.0087\n",
            "Epoch 60/200\n",
            "2554/2554 [==============================] - 0s 104us/sample - loss: 0.0100 - val_loss: 0.0087\n",
            "Epoch 61/200\n",
            "2554/2554 [==============================] - 0s 106us/sample - loss: 0.0100 - val_loss: 0.0088\n",
            "Epoch 62/200\n",
            "2554/2554 [==============================] - 0s 106us/sample - loss: 0.0100 - val_loss: 0.0087\n",
            "Epoch 63/200\n",
            "  32/2554 [..............................] - ETA: 0s - loss: 0.0085"
          ],
          "name": "stdout"
        },
        {
          "output_type": "error",
          "ename": "KeyboardInterrupt",
          "evalue": "ignored",
          "traceback": [
            "\u001b[0;31m---------------------------------------------------------------------------\u001b[0m",
            "\u001b[0;31mKeyboardInterrupt\u001b[0m                         Traceback (most recent call last)",
            "\u001b[0;32m<ipython-input-34-08dfcf917d26>\u001b[0m in \u001b[0;36m<module>\u001b[0;34m()\u001b[0m\n\u001b[0;32m----> 1\u001b[0;31m \u001b[0mmodel\u001b[0m\u001b[0;34m.\u001b[0m\u001b[0mfit\u001b[0m\u001b[0;34m(\u001b[0m\u001b[0mX_train\u001b[0m\u001b[0;34m,\u001b[0m \u001b[0my_train\u001b[0m\u001b[0;34m,\u001b[0m \u001b[0mepochs\u001b[0m\u001b[0;34m=\u001b[0m\u001b[0;36m200\u001b[0m\u001b[0;34m,\u001b[0m \u001b[0mvalidation_data\u001b[0m\u001b[0;34m=\u001b[0m\u001b[0;34m(\u001b[0m\u001b[0mX_test\u001b[0m\u001b[0;34m,\u001b[0m \u001b[0my_test\u001b[0m\u001b[0;34m)\u001b[0m\u001b[0;34m,\u001b[0m \u001b[0mbatch_size\u001b[0m\u001b[0;34m=\u001b[0m\u001b[0;36m32\u001b[0m\u001b[0;34m)\u001b[0m\u001b[0;34m\u001b[0m\u001b[0;34m\u001b[0m\u001b[0m\n\u001b[0m",
            "\u001b[0;32m/usr/local/lib/python3.6/dist-packages/tensorflow_core/python/keras/engine/training.py\u001b[0m in \u001b[0;36mfit\u001b[0;34m(self, x, y, batch_size, epochs, verbose, callbacks, validation_split, validation_data, shuffle, class_weight, sample_weight, initial_epoch, steps_per_epoch, validation_steps, validation_freq, max_queue_size, workers, use_multiprocessing, **kwargs)\u001b[0m\n\u001b[1;32m    725\u001b[0m         \u001b[0mmax_queue_size\u001b[0m\u001b[0;34m=\u001b[0m\u001b[0mmax_queue_size\u001b[0m\u001b[0;34m,\u001b[0m\u001b[0;34m\u001b[0m\u001b[0;34m\u001b[0m\u001b[0m\n\u001b[1;32m    726\u001b[0m         \u001b[0mworkers\u001b[0m\u001b[0;34m=\u001b[0m\u001b[0mworkers\u001b[0m\u001b[0;34m,\u001b[0m\u001b[0;34m\u001b[0m\u001b[0;34m\u001b[0m\u001b[0m\n\u001b[0;32m--> 727\u001b[0;31m         use_multiprocessing=use_multiprocessing)\n\u001b[0m\u001b[1;32m    728\u001b[0m \u001b[0;34m\u001b[0m\u001b[0m\n\u001b[1;32m    729\u001b[0m   def evaluate(self,\n",
            "\u001b[0;32m/usr/local/lib/python3.6/dist-packages/tensorflow_core/python/keras/engine/training_arrays.py\u001b[0m in \u001b[0;36mfit\u001b[0;34m(self, model, x, y, batch_size, epochs, verbose, callbacks, validation_split, validation_data, shuffle, class_weight, sample_weight, initial_epoch, steps_per_epoch, validation_steps, validation_freq, **kwargs)\u001b[0m\n\u001b[1;32m    673\u001b[0m         \u001b[0mvalidation_steps\u001b[0m\u001b[0;34m=\u001b[0m\u001b[0mvalidation_steps\u001b[0m\u001b[0;34m,\u001b[0m\u001b[0;34m\u001b[0m\u001b[0;34m\u001b[0m\u001b[0m\n\u001b[1;32m    674\u001b[0m         \u001b[0mvalidation_freq\u001b[0m\u001b[0;34m=\u001b[0m\u001b[0mvalidation_freq\u001b[0m\u001b[0;34m,\u001b[0m\u001b[0;34m\u001b[0m\u001b[0;34m\u001b[0m\u001b[0m\n\u001b[0;32m--> 675\u001b[0;31m         steps_name='steps_per_epoch')\n\u001b[0m\u001b[1;32m    676\u001b[0m \u001b[0;34m\u001b[0m\u001b[0m\n\u001b[1;32m    677\u001b[0m   def evaluate(self,\n",
            "\u001b[0;32m/usr/local/lib/python3.6/dist-packages/tensorflow_core/python/keras/engine/training_arrays.py\u001b[0m in \u001b[0;36mmodel_iteration\u001b[0;34m(model, inputs, targets, sample_weights, batch_size, epochs, verbose, callbacks, val_inputs, val_targets, val_sample_weights, shuffle, initial_epoch, steps_per_epoch, validation_steps, validation_freq, mode, validation_in_fit, prepared_feed_values_from_dataset, steps_name, **kwargs)\u001b[0m\n\u001b[1;32m    392\u001b[0m \u001b[0;34m\u001b[0m\u001b[0m\n\u001b[1;32m    393\u001b[0m         \u001b[0;31m# Get outputs.\u001b[0m\u001b[0;34m\u001b[0m\u001b[0;34m\u001b[0m\u001b[0;34m\u001b[0m\u001b[0m\n\u001b[0;32m--> 394\u001b[0;31m         \u001b[0mbatch_outs\u001b[0m \u001b[0;34m=\u001b[0m \u001b[0mf\u001b[0m\u001b[0;34m(\u001b[0m\u001b[0mins_batch\u001b[0m\u001b[0;34m)\u001b[0m\u001b[0;34m\u001b[0m\u001b[0;34m\u001b[0m\u001b[0m\n\u001b[0m\u001b[1;32m    395\u001b[0m         \u001b[0;32mif\u001b[0m \u001b[0;32mnot\u001b[0m \u001b[0misinstance\u001b[0m\u001b[0;34m(\u001b[0m\u001b[0mbatch_outs\u001b[0m\u001b[0;34m,\u001b[0m \u001b[0mlist\u001b[0m\u001b[0;34m)\u001b[0m\u001b[0;34m:\u001b[0m\u001b[0;34m\u001b[0m\u001b[0;34m\u001b[0m\u001b[0m\n\u001b[1;32m    396\u001b[0m           \u001b[0mbatch_outs\u001b[0m \u001b[0;34m=\u001b[0m \u001b[0;34m[\u001b[0m\u001b[0mbatch_outs\u001b[0m\u001b[0;34m]\u001b[0m\u001b[0;34m\u001b[0m\u001b[0;34m\u001b[0m\u001b[0m\n",
            "\u001b[0;32m/usr/local/lib/python3.6/dist-packages/tensorflow_core/python/keras/backend.py\u001b[0m in \u001b[0;36m__call__\u001b[0;34m(self, inputs)\u001b[0m\n\u001b[1;32m   3474\u001b[0m \u001b[0;34m\u001b[0m\u001b[0m\n\u001b[1;32m   3475\u001b[0m     fetched = self._callable_fn(*array_vals,\n\u001b[0;32m-> 3476\u001b[0;31m                                 run_metadata=self.run_metadata)\n\u001b[0m\u001b[1;32m   3477\u001b[0m     \u001b[0mself\u001b[0m\u001b[0;34m.\u001b[0m\u001b[0m_call_fetch_callbacks\u001b[0m\u001b[0;34m(\u001b[0m\u001b[0mfetched\u001b[0m\u001b[0;34m[\u001b[0m\u001b[0;34m-\u001b[0m\u001b[0mlen\u001b[0m\u001b[0;34m(\u001b[0m\u001b[0mself\u001b[0m\u001b[0;34m.\u001b[0m\u001b[0m_fetches\u001b[0m\u001b[0;34m)\u001b[0m\u001b[0;34m:\u001b[0m\u001b[0;34m]\u001b[0m\u001b[0;34m)\u001b[0m\u001b[0;34m\u001b[0m\u001b[0;34m\u001b[0m\u001b[0m\n\u001b[1;32m   3478\u001b[0m     output_structure = nest.pack_sequence_as(\n",
            "\u001b[0;32m/usr/local/lib/python3.6/dist-packages/tensorflow_core/python/client/session.py\u001b[0m in \u001b[0;36m__call__\u001b[0;34m(self, *args, **kwargs)\u001b[0m\n\u001b[1;32m   1470\u001b[0m         ret = tf_session.TF_SessionRunCallable(self._session._session,\n\u001b[1;32m   1471\u001b[0m                                                \u001b[0mself\u001b[0m\u001b[0;34m.\u001b[0m\u001b[0m_handle\u001b[0m\u001b[0;34m,\u001b[0m \u001b[0margs\u001b[0m\u001b[0;34m,\u001b[0m\u001b[0;34m\u001b[0m\u001b[0;34m\u001b[0m\u001b[0m\n\u001b[0;32m-> 1472\u001b[0;31m                                                run_metadata_ptr)\n\u001b[0m\u001b[1;32m   1473\u001b[0m         \u001b[0;32mif\u001b[0m \u001b[0mrun_metadata\u001b[0m\u001b[0;34m:\u001b[0m\u001b[0;34m\u001b[0m\u001b[0;34m\u001b[0m\u001b[0m\n\u001b[1;32m   1474\u001b[0m           \u001b[0mproto_data\u001b[0m \u001b[0;34m=\u001b[0m \u001b[0mtf_session\u001b[0m\u001b[0;34m.\u001b[0m\u001b[0mTF_GetBuffer\u001b[0m\u001b[0;34m(\u001b[0m\u001b[0mrun_metadata_ptr\u001b[0m\u001b[0;34m)\u001b[0m\u001b[0;34m\u001b[0m\u001b[0;34m\u001b[0m\u001b[0m\n",
            "\u001b[0;31mKeyboardInterrupt\u001b[0m: "
          ]
        }
      ]
    },
    {
      "cell_type": "code",
      "metadata": {
        "id": "3KMFa0ISHawZ",
        "colab_type": "code",
        "colab": {}
      },
      "source": [
        ""
      ],
      "execution_count": 0,
      "outputs": []
    },
    {
      "cell_type": "code",
      "metadata": {
        "id": "lbEwKE47HXLQ",
        "colab_type": "code",
        "colab": {}
      },
      "source": [
        ""
      ],
      "execution_count": 0,
      "outputs": []
    },
    {
      "cell_type": "markdown",
      "metadata": {
        "id": "T_bVhxPc8DjS",
        "colab_type": "text"
      },
      "source": [
        "### Summarize your model"
      ]
    },
    {
      "cell_type": "code",
      "metadata": {
        "id": "e2Jae30a8DjS",
        "colab_type": "code",
        "colab": {
          "base_uri": "https://localhost:8080/",
          "height": 221
        },
        "outputId": "8906c463-3201-4cc5-f928-4b97d591bece"
      },
      "source": [
        "model.summary()"
      ],
      "execution_count": 35,
      "outputs": [
        {
          "output_type": "stream",
          "text": [
            "Model: \"sequential\"\n",
            "_________________________________________________________________\n",
            "Layer (type)                 Output Shape              Param #   \n",
            "=================================================================\n",
            "lstm (LSTM)                  (None, 32)                4352      \n",
            "_________________________________________________________________\n",
            "dense (Dense)                (None, 1)                 33        \n",
            "=================================================================\n",
            "Total params: 4,385\n",
            "Trainable params: 4,385\n",
            "Non-trainable params: 0\n",
            "_________________________________________________________________\n"
          ],
          "name": "stdout"
        }
      ]
    },
    {
      "cell_type": "markdown",
      "metadata": {
        "id": "fViJYtHZ8DjU",
        "colab_type": "text"
      },
      "source": [
        "### Train the model"
      ]
    },
    {
      "cell_type": "code",
      "metadata": {
        "id": "uoKAg8qc8DjV",
        "colab_type": "code",
        "colab": {
          "base_uri": "https://localhost:8080/",
          "height": 1000
        },
        "outputId": "2d04d612-c7e3-451c-fac8-b074cff042bc"
      },
      "source": [
        "model.fit(X_train, y_train, epochs=200, validation_data=(X_test, y_test), batch_size=32)"
      ],
      "execution_count": 36,
      "outputs": [
        {
          "output_type": "stream",
          "text": [
            "Train on 2554 samples, validate on 1094 samples\n",
            "Epoch 1/200\n",
            "2554/2554 [==============================] - 0s 107us/sample - loss: 0.0100 - val_loss: 0.0087\n",
            "Epoch 2/200\n",
            "2554/2554 [==============================] - 0s 106us/sample - loss: 0.0100 - val_loss: 0.0087\n",
            "Epoch 3/200\n",
            "2554/2554 [==============================] - 0s 106us/sample - loss: 0.0101 - val_loss: 0.0086\n",
            "Epoch 4/200\n",
            "2554/2554 [==============================] - 0s 108us/sample - loss: 0.0100 - val_loss: 0.0087\n",
            "Epoch 5/200\n",
            "2554/2554 [==============================] - 0s 109us/sample - loss: 0.0100 - val_loss: 0.0089\n",
            "Epoch 6/200\n",
            "2554/2554 [==============================] - 0s 105us/sample - loss: 0.0100 - val_loss: 0.0086\n",
            "Epoch 7/200\n",
            "2554/2554 [==============================] - 0s 108us/sample - loss: 0.0100 - val_loss: 0.0088\n",
            "Epoch 8/200\n",
            "2554/2554 [==============================] - 0s 105us/sample - loss: 0.0100 - val_loss: 0.0086\n",
            "Epoch 9/200\n",
            "2554/2554 [==============================] - 0s 104us/sample - loss: 0.0100 - val_loss: 0.0086\n",
            "Epoch 10/200\n",
            "2554/2554 [==============================] - 0s 105us/sample - loss: 0.0100 - val_loss: 0.0087\n",
            "Epoch 11/200\n",
            "2554/2554 [==============================] - 0s 110us/sample - loss: 0.0100 - val_loss: 0.0093\n",
            "Epoch 12/200\n",
            "2554/2554 [==============================] - 0s 103us/sample - loss: 0.0101 - val_loss: 0.0086\n",
            "Epoch 13/200\n",
            "2554/2554 [==============================] - 0s 106us/sample - loss: 0.0100 - val_loss: 0.0087\n",
            "Epoch 14/200\n",
            "2554/2554 [==============================] - 0s 105us/sample - loss: 0.0100 - val_loss: 0.0086\n",
            "Epoch 15/200\n",
            "2554/2554 [==============================] - 0s 112us/sample - loss: 0.0100 - val_loss: 0.0087\n",
            "Epoch 16/200\n",
            "2554/2554 [==============================] - 0s 109us/sample - loss: 0.0100 - val_loss: 0.0086\n",
            "Epoch 17/200\n",
            "2554/2554 [==============================] - 0s 108us/sample - loss: 0.0100 - val_loss: 0.0086\n",
            "Epoch 18/200\n",
            "2554/2554 [==============================] - 0s 106us/sample - loss: 0.0100 - val_loss: 0.0087\n",
            "Epoch 19/200\n",
            "2554/2554 [==============================] - 0s 108us/sample - loss: 0.0100 - val_loss: 0.0087\n",
            "Epoch 20/200\n",
            "2554/2554 [==============================] - 0s 102us/sample - loss: 0.0100 - val_loss: 0.0086\n",
            "Epoch 21/200\n",
            "2554/2554 [==============================] - 0s 106us/sample - loss: 0.0100 - val_loss: 0.0090\n",
            "Epoch 22/200\n",
            "2554/2554 [==============================] - 0s 106us/sample - loss: 0.0100 - val_loss: 0.0087\n",
            "Epoch 23/200\n",
            "2554/2554 [==============================] - 0s 105us/sample - loss: 0.0100 - val_loss: 0.0087\n",
            "Epoch 24/200\n",
            "2554/2554 [==============================] - 0s 106us/sample - loss: 0.0100 - val_loss: 0.0088\n",
            "Epoch 25/200\n",
            "2554/2554 [==============================] - 0s 104us/sample - loss: 0.0100 - val_loss: 0.0088\n",
            "Epoch 26/200\n",
            "2554/2554 [==============================] - 0s 105us/sample - loss: 0.0100 - val_loss: 0.0086\n",
            "Epoch 27/200\n",
            "2554/2554 [==============================] - 0s 107us/sample - loss: 0.0100 - val_loss: 0.0086\n",
            "Epoch 28/200\n",
            "2554/2554 [==============================] - 0s 104us/sample - loss: 0.0100 - val_loss: 0.0088\n",
            "Epoch 29/200\n",
            "2554/2554 [==============================] - 0s 104us/sample - loss: 0.0100 - val_loss: 0.0090\n",
            "Epoch 30/200\n",
            "2554/2554 [==============================] - 0s 106us/sample - loss: 0.0100 - val_loss: 0.0086\n",
            "Epoch 31/200\n",
            "2554/2554 [==============================] - 0s 105us/sample - loss: 0.0100 - val_loss: 0.0086\n",
            "Epoch 32/200\n",
            "2554/2554 [==============================] - 0s 106us/sample - loss: 0.0100 - val_loss: 0.0087\n",
            "Epoch 33/200\n",
            "2554/2554 [==============================] - 0s 108us/sample - loss: 0.0100 - val_loss: 0.0086\n",
            "Epoch 34/200\n",
            "2554/2554 [==============================] - 0s 104us/sample - loss: 0.0100 - val_loss: 0.0087\n",
            "Epoch 35/200\n",
            "2554/2554 [==============================] - 0s 106us/sample - loss: 0.0100 - val_loss: 0.0086\n",
            "Epoch 36/200\n",
            "2554/2554 [==============================] - 0s 105us/sample - loss: 0.0100 - val_loss: 0.0087\n",
            "Epoch 37/200\n",
            "2554/2554 [==============================] - 0s 105us/sample - loss: 0.0100 - val_loss: 0.0088\n",
            "Epoch 38/200\n",
            "2554/2554 [==============================] - 0s 104us/sample - loss: 0.0100 - val_loss: 0.0088\n",
            "Epoch 39/200\n",
            "2554/2554 [==============================] - 0s 104us/sample - loss: 0.0100 - val_loss: 0.0087\n",
            "Epoch 40/200\n",
            "2554/2554 [==============================] - 0s 103us/sample - loss: 0.0101 - val_loss: 0.0086\n",
            "Epoch 41/200\n",
            "2554/2554 [==============================] - 0s 106us/sample - loss: 0.0100 - val_loss: 0.0087\n",
            "Epoch 42/200\n",
            "2554/2554 [==============================] - 0s 102us/sample - loss: 0.0100 - val_loss: 0.0087\n",
            "Epoch 43/200\n",
            "2554/2554 [==============================] - 0s 108us/sample - loss: 0.0100 - val_loss: 0.0087\n",
            "Epoch 44/200\n",
            "2554/2554 [==============================] - 0s 104us/sample - loss: 0.0100 - val_loss: 0.0086\n",
            "Epoch 45/200\n",
            "2554/2554 [==============================] - 0s 109us/sample - loss: 0.0100 - val_loss: 0.0087\n",
            "Epoch 46/200\n",
            "2554/2554 [==============================] - 0s 104us/sample - loss: 0.0100 - val_loss: 0.0087\n",
            "Epoch 47/200\n",
            "2554/2554 [==============================] - 0s 105us/sample - loss: 0.0100 - val_loss: 0.0089\n",
            "Epoch 48/200\n",
            "2554/2554 [==============================] - 0s 103us/sample - loss: 0.0100 - val_loss: 0.0088\n",
            "Epoch 49/200\n",
            "2554/2554 [==============================] - 0s 108us/sample - loss: 0.0100 - val_loss: 0.0088\n",
            "Epoch 50/200\n",
            "2554/2554 [==============================] - 0s 104us/sample - loss: 0.0100 - val_loss: 0.0087\n",
            "Epoch 51/200\n",
            "2554/2554 [==============================] - 0s 106us/sample - loss: 0.0100 - val_loss: 0.0087\n",
            "Epoch 52/200\n",
            "2554/2554 [==============================] - 0s 104us/sample - loss: 0.0100 - val_loss: 0.0087\n",
            "Epoch 53/200\n",
            "2554/2554 [==============================] - 0s 112us/sample - loss: 0.0100 - val_loss: 0.0088\n",
            "Epoch 54/200\n",
            "2554/2554 [==============================] - 0s 104us/sample - loss: 0.0100 - val_loss: 0.0087\n",
            "Epoch 55/200\n",
            "2554/2554 [==============================] - 0s 108us/sample - loss: 0.0100 - val_loss: 0.0087\n",
            "Epoch 56/200\n",
            "2554/2554 [==============================] - 0s 103us/sample - loss: 0.0100 - val_loss: 0.0087\n",
            "Epoch 57/200\n",
            "2554/2554 [==============================] - 0s 106us/sample - loss: 0.0100 - val_loss: 0.0089\n",
            "Epoch 58/200\n",
            "2554/2554 [==============================] - 0s 107us/sample - loss: 0.0100 - val_loss: 0.0087\n",
            "Epoch 59/200\n",
            "2554/2554 [==============================] - 0s 105us/sample - loss: 0.0100 - val_loss: 0.0086\n",
            "Epoch 60/200\n",
            "2554/2554 [==============================] - 0s 105us/sample - loss: 0.0100 - val_loss: 0.0087\n",
            "Epoch 61/200\n",
            "2554/2554 [==============================] - 0s 107us/sample - loss: 0.0100 - val_loss: 0.0086\n",
            "Epoch 62/200\n",
            "2554/2554 [==============================] - 0s 106us/sample - loss: 0.0100 - val_loss: 0.0088\n",
            "Epoch 63/200\n",
            "2554/2554 [==============================] - 0s 104us/sample - loss: 0.0100 - val_loss: 0.0087\n",
            "Epoch 64/200\n",
            "2554/2554 [==============================] - 0s 105us/sample - loss: 0.0100 - val_loss: 0.0088\n",
            "Epoch 65/200\n",
            "2554/2554 [==============================] - 0s 105us/sample - loss: 0.0100 - val_loss: 0.0087\n",
            "Epoch 66/200\n",
            "2554/2554 [==============================] - 0s 111us/sample - loss: 0.0100 - val_loss: 0.0090\n",
            "Epoch 67/200\n",
            "2554/2554 [==============================] - 0s 105us/sample - loss: 0.0100 - val_loss: 0.0087\n",
            "Epoch 68/200\n",
            "2554/2554 [==============================] - 0s 107us/sample - loss: 0.0100 - val_loss: 0.0088\n",
            "Epoch 69/200\n",
            "2554/2554 [==============================] - 0s 105us/sample - loss: 0.0100 - val_loss: 0.0087\n",
            "Epoch 70/200\n",
            "2554/2554 [==============================] - 0s 106us/sample - loss: 0.0100 - val_loss: 0.0087\n",
            "Epoch 71/200\n",
            "2554/2554 [==============================] - 0s 105us/sample - loss: 0.0100 - val_loss: 0.0087\n",
            "Epoch 72/200\n",
            "2554/2554 [==============================] - 0s 106us/sample - loss: 0.0100 - val_loss: 0.0087\n",
            "Epoch 73/200\n",
            "2554/2554 [==============================] - 0s 106us/sample - loss: 0.0100 - val_loss: 0.0086\n",
            "Epoch 74/200\n",
            "2554/2554 [==============================] - 0s 104us/sample - loss: 0.0100 - val_loss: 0.0088\n",
            "Epoch 75/200\n",
            "2554/2554 [==============================] - 0s 105us/sample - loss: 0.0100 - val_loss: 0.0086\n",
            "Epoch 76/200\n",
            "2554/2554 [==============================] - 0s 105us/sample - loss: 0.0099 - val_loss: 0.0087\n",
            "Epoch 77/200\n",
            "2554/2554 [==============================] - 0s 107us/sample - loss: 0.0100 - val_loss: 0.0087\n",
            "Epoch 78/200\n",
            "2554/2554 [==============================] - 0s 108us/sample - loss: 0.0100 - val_loss: 0.0087\n",
            "Epoch 79/200\n",
            "2554/2554 [==============================] - 0s 110us/sample - loss: 0.0100 - val_loss: 0.0087\n",
            "Epoch 80/200\n",
            "2554/2554 [==============================] - 0s 107us/sample - loss: 0.0100 - val_loss: 0.0087\n",
            "Epoch 81/200\n",
            "2554/2554 [==============================] - 0s 104us/sample - loss: 0.0100 - val_loss: 0.0087\n",
            "Epoch 82/200\n",
            "2554/2554 [==============================] - 0s 106us/sample - loss: 0.0100 - val_loss: 0.0092\n",
            "Epoch 83/200\n",
            "2554/2554 [==============================] - 0s 104us/sample - loss: 0.0100 - val_loss: 0.0088\n",
            "Epoch 84/200\n",
            "2554/2554 [==============================] - 0s 105us/sample - loss: 0.0100 - val_loss: 0.0087\n",
            "Epoch 85/200\n",
            "2554/2554 [==============================] - 0s 106us/sample - loss: 0.0100 - val_loss: 0.0087\n",
            "Epoch 86/200\n",
            "2554/2554 [==============================] - 0s 108us/sample - loss: 0.0100 - val_loss: 0.0087\n",
            "Epoch 87/200\n",
            "2554/2554 [==============================] - 0s 104us/sample - loss: 0.0100 - val_loss: 0.0089\n",
            "Epoch 88/200\n",
            "2554/2554 [==============================] - 0s 104us/sample - loss: 0.0100 - val_loss: 0.0087\n",
            "Epoch 89/200\n",
            "2554/2554 [==============================] - 0s 109us/sample - loss: 0.0100 - val_loss: 0.0087\n",
            "Epoch 90/200\n",
            "2554/2554 [==============================] - 0s 106us/sample - loss: 0.0100 - val_loss: 0.0087\n",
            "Epoch 91/200\n",
            "2554/2554 [==============================] - 0s 106us/sample - loss: 0.0100 - val_loss: 0.0094\n",
            "Epoch 92/200\n",
            "2554/2554 [==============================] - 0s 104us/sample - loss: 0.0100 - val_loss: 0.0087\n",
            "Epoch 93/200\n",
            "2554/2554 [==============================] - 0s 110us/sample - loss: 0.0100 - val_loss: 0.0087\n",
            "Epoch 94/200\n",
            "2554/2554 [==============================] - 0s 105us/sample - loss: 0.0100 - val_loss: 0.0090\n",
            "Epoch 95/200\n",
            "2554/2554 [==============================] - 0s 109us/sample - loss: 0.0100 - val_loss: 0.0087\n",
            "Epoch 96/200\n",
            "2554/2554 [==============================] - 0s 106us/sample - loss: 0.0101 - val_loss: 0.0089\n",
            "Epoch 97/200\n",
            "2554/2554 [==============================] - 0s 106us/sample - loss: 0.0100 - val_loss: 0.0089\n",
            "Epoch 98/200\n",
            "2554/2554 [==============================] - 0s 104us/sample - loss: 0.0100 - val_loss: 0.0087\n",
            "Epoch 99/200\n",
            "2554/2554 [==============================] - 0s 103us/sample - loss: 0.0100 - val_loss: 0.0088\n",
            "Epoch 100/200\n",
            "2554/2554 [==============================] - 0s 105us/sample - loss: 0.0100 - val_loss: 0.0088\n",
            "Epoch 101/200\n",
            "2554/2554 [==============================] - 0s 104us/sample - loss: 0.0099 - val_loss: 0.0088\n",
            "Epoch 102/200\n",
            "2554/2554 [==============================] - 0s 104us/sample - loss: 0.0100 - val_loss: 0.0088\n",
            "Epoch 103/200\n",
            "2554/2554 [==============================] - 0s 106us/sample - loss: 0.0100 - val_loss: 0.0087\n",
            "Epoch 104/200\n",
            "2554/2554 [==============================] - 0s 107us/sample - loss: 0.0100 - val_loss: 0.0087\n",
            "Epoch 105/200\n",
            "2554/2554 [==============================] - 0s 106us/sample - loss: 0.0100 - val_loss: 0.0087\n",
            "Epoch 106/200\n",
            "2554/2554 [==============================] - 0s 106us/sample - loss: 0.0099 - val_loss: 0.0087\n",
            "Epoch 107/200\n",
            "2554/2554 [==============================] - 0s 110us/sample - loss: 0.0100 - val_loss: 0.0088\n",
            "Epoch 108/200\n",
            "2554/2554 [==============================] - 0s 108us/sample - loss: 0.0100 - val_loss: 0.0087\n",
            "Epoch 109/200\n",
            "2554/2554 [==============================] - 0s 105us/sample - loss: 0.0100 - val_loss: 0.0087\n",
            "Epoch 110/200\n",
            "2554/2554 [==============================] - 0s 104us/sample - loss: 0.0100 - val_loss: 0.0088\n",
            "Epoch 111/200\n",
            "2554/2554 [==============================] - 0s 105us/sample - loss: 0.0100 - val_loss: 0.0091\n",
            "Epoch 112/200\n",
            "2554/2554 [==============================] - 0s 106us/sample - loss: 0.0100 - val_loss: 0.0087\n",
            "Epoch 113/200\n",
            "2554/2554 [==============================] - 0s 102us/sample - loss: 0.0100 - val_loss: 0.0088\n",
            "Epoch 114/200\n",
            "2554/2554 [==============================] - 0s 107us/sample - loss: 0.0100 - val_loss: 0.0087\n",
            "Epoch 115/200\n",
            "2554/2554 [==============================] - 0s 103us/sample - loss: 0.0100 - val_loss: 0.0087\n",
            "Epoch 116/200\n",
            "2554/2554 [==============================] - 0s 106us/sample - loss: 0.0100 - val_loss: 0.0087\n",
            "Epoch 117/200\n",
            "2554/2554 [==============================] - 0s 103us/sample - loss: 0.0100 - val_loss: 0.0087\n",
            "Epoch 118/200\n",
            "2554/2554 [==============================] - 0s 105us/sample - loss: 0.0100 - val_loss: 0.0087\n",
            "Epoch 119/200\n",
            "2554/2554 [==============================] - 0s 106us/sample - loss: 0.0100 - val_loss: 0.0088\n",
            "Epoch 120/200\n",
            "2554/2554 [==============================] - 0s 106us/sample - loss: 0.0100 - val_loss: 0.0088\n",
            "Epoch 121/200\n",
            "2554/2554 [==============================] - 0s 106us/sample - loss: 0.0100 - val_loss: 0.0087\n",
            "Epoch 122/200\n",
            "2554/2554 [==============================] - 0s 105us/sample - loss: 0.0100 - val_loss: 0.0087\n",
            "Epoch 123/200\n",
            "2554/2554 [==============================] - 0s 107us/sample - loss: 0.0100 - val_loss: 0.0087\n",
            "Epoch 124/200\n",
            "2554/2554 [==============================] - 0s 108us/sample - loss: 0.0100 - val_loss: 0.0087\n",
            "Epoch 125/200\n",
            "2554/2554 [==============================] - 0s 107us/sample - loss: 0.0100 - val_loss: 0.0087\n",
            "Epoch 126/200\n",
            "2554/2554 [==============================] - 0s 104us/sample - loss: 0.0100 - val_loss: 0.0087\n",
            "Epoch 127/200\n",
            "2554/2554 [==============================] - 0s 108us/sample - loss: 0.0100 - val_loss: 0.0087\n",
            "Epoch 128/200\n",
            "2554/2554 [==============================] - 0s 104us/sample - loss: 0.0101 - val_loss: 0.0087\n",
            "Epoch 129/200\n",
            "2554/2554 [==============================] - 0s 107us/sample - loss: 0.0100 - val_loss: 0.0089\n",
            "Epoch 130/200\n",
            "2554/2554 [==============================] - 0s 104us/sample - loss: 0.0100 - val_loss: 0.0087\n",
            "Epoch 131/200\n",
            "2554/2554 [==============================] - 0s 108us/sample - loss: 0.0100 - val_loss: 0.0087\n",
            "Epoch 132/200\n",
            "2554/2554 [==============================] - 0s 106us/sample - loss: 0.0100 - val_loss: 0.0087\n",
            "Epoch 133/200\n",
            "2554/2554 [==============================] - 0s 106us/sample - loss: 0.0101 - val_loss: 0.0088\n",
            "Epoch 134/200\n",
            "2554/2554 [==============================] - 0s 107us/sample - loss: 0.0100 - val_loss: 0.0088\n",
            "Epoch 135/200\n",
            "2554/2554 [==============================] - 0s 105us/sample - loss: 0.0100 - val_loss: 0.0087\n",
            "Epoch 136/200\n",
            "2554/2554 [==============================] - 0s 105us/sample - loss: 0.0100 - val_loss: 0.0089\n",
            "Epoch 137/200\n",
            "2554/2554 [==============================] - 0s 106us/sample - loss: 0.0100 - val_loss: 0.0087\n",
            "Epoch 138/200\n",
            "2554/2554 [==============================] - 0s 105us/sample - loss: 0.0100 - val_loss: 0.0087\n",
            "Epoch 139/200\n",
            "2554/2554 [==============================] - 0s 106us/sample - loss: 0.0100 - val_loss: 0.0087\n",
            "Epoch 140/200\n",
            "2554/2554 [==============================] - 0s 103us/sample - loss: 0.0100 - val_loss: 0.0087\n",
            "Epoch 141/200\n",
            "2554/2554 [==============================] - 0s 103us/sample - loss: 0.0100 - val_loss: 0.0087\n",
            "Epoch 142/200\n",
            "2554/2554 [==============================] - 0s 104us/sample - loss: 0.0100 - val_loss: 0.0087\n",
            "Epoch 143/200\n",
            "2554/2554 [==============================] - 0s 107us/sample - loss: 0.0099 - val_loss: 0.0087\n",
            "Epoch 144/200\n",
            "2554/2554 [==============================] - 0s 103us/sample - loss: 0.0100 - val_loss: 0.0087\n",
            "Epoch 145/200\n",
            "2554/2554 [==============================] - 0s 103us/sample - loss: 0.0100 - val_loss: 0.0087\n",
            "Epoch 146/200\n",
            "2554/2554 [==============================] - 0s 108us/sample - loss: 0.0099 - val_loss: 0.0087\n",
            "Epoch 147/200\n",
            "2554/2554 [==============================] - 0s 106us/sample - loss: 0.0100 - val_loss: 0.0087\n",
            "Epoch 148/200\n",
            "2554/2554 [==============================] - 0s 106us/sample - loss: 0.0100 - val_loss: 0.0087\n",
            "Epoch 149/200\n",
            "2554/2554 [==============================] - 0s 106us/sample - loss: 0.0100 - val_loss: 0.0087\n",
            "Epoch 150/200\n",
            "2554/2554 [==============================] - 0s 103us/sample - loss: 0.0100 - val_loss: 0.0087\n",
            "Epoch 151/200\n",
            "2554/2554 [==============================] - 0s 104us/sample - loss: 0.0100 - val_loss: 0.0087\n",
            "Epoch 152/200\n",
            "2554/2554 [==============================] - 0s 107us/sample - loss: 0.0100 - val_loss: 0.0087\n",
            "Epoch 153/200\n",
            "2554/2554 [==============================] - 0s 106us/sample - loss: 0.0100 - val_loss: 0.0087\n",
            "Epoch 154/200\n",
            "2554/2554 [==============================] - 0s 108us/sample - loss: 0.0100 - val_loss: 0.0089\n",
            "Epoch 155/200\n",
            "2554/2554 [==============================] - 0s 104us/sample - loss: 0.0100 - val_loss: 0.0088\n",
            "Epoch 156/200\n",
            "2554/2554 [==============================] - 0s 103us/sample - loss: 0.0100 - val_loss: 0.0089\n",
            "Epoch 157/200\n",
            "2554/2554 [==============================] - 0s 105us/sample - loss: 0.0100 - val_loss: 0.0087\n",
            "Epoch 158/200\n",
            "2554/2554 [==============================] - 0s 110us/sample - loss: 0.0100 - val_loss: 0.0087\n",
            "Epoch 159/200\n",
            "2554/2554 [==============================] - 0s 102us/sample - loss: 0.0100 - val_loss: 0.0087\n",
            "Epoch 160/200\n",
            "2554/2554 [==============================] - 0s 104us/sample - loss: 0.0099 - val_loss: 0.0089\n",
            "Epoch 161/200\n",
            "2554/2554 [==============================] - 0s 102us/sample - loss: 0.0100 - val_loss: 0.0087\n",
            "Epoch 162/200\n",
            "2554/2554 [==============================] - 0s 107us/sample - loss: 0.0100 - val_loss: 0.0087\n",
            "Epoch 163/200\n",
            "2554/2554 [==============================] - 0s 106us/sample - loss: 0.0099 - val_loss: 0.0087\n",
            "Epoch 164/200\n",
            "2554/2554 [==============================] - 0s 108us/sample - loss: 0.0100 - val_loss: 0.0087\n",
            "Epoch 165/200\n",
            "2554/2554 [==============================] - 0s 104us/sample - loss: 0.0099 - val_loss: 0.0089\n",
            "Epoch 166/200\n",
            "2554/2554 [==============================] - 0s 105us/sample - loss: 0.0100 - val_loss: 0.0087\n",
            "Epoch 167/200\n",
            "2554/2554 [==============================] - 0s 111us/sample - loss: 0.0100 - val_loss: 0.0087\n",
            "Epoch 168/200\n",
            "2554/2554 [==============================] - 0s 103us/sample - loss: 0.0100 - val_loss: 0.0090\n",
            "Epoch 169/200\n",
            "2554/2554 [==============================] - 0s 105us/sample - loss: 0.0100 - val_loss: 0.0087\n",
            "Epoch 170/200\n",
            "2554/2554 [==============================] - 0s 106us/sample - loss: 0.0100 - val_loss: 0.0088\n",
            "Epoch 171/200\n",
            "2554/2554 [==============================] - 0s 106us/sample - loss: 0.0100 - val_loss: 0.0088\n",
            "Epoch 172/200\n",
            "2554/2554 [==============================] - 0s 104us/sample - loss: 0.0100 - val_loss: 0.0094\n",
            "Epoch 173/200\n",
            "2554/2554 [==============================] - 0s 106us/sample - loss: 0.0100 - val_loss: 0.0087\n",
            "Epoch 174/200\n",
            "2554/2554 [==============================] - 0s 104us/sample - loss: 0.0100 - val_loss: 0.0087\n",
            "Epoch 175/200\n",
            "2554/2554 [==============================] - 0s 105us/sample - loss: 0.0100 - val_loss: 0.0088\n",
            "Epoch 176/200\n",
            "2554/2554 [==============================] - 0s 103us/sample - loss: 0.0100 - val_loss: 0.0087\n",
            "Epoch 177/200\n",
            "2554/2554 [==============================] - 0s 108us/sample - loss: 0.0100 - val_loss: 0.0087\n",
            "Epoch 178/200\n",
            "2554/2554 [==============================] - 0s 106us/sample - loss: 0.0100 - val_loss: 0.0087\n",
            "Epoch 179/200\n",
            "2554/2554 [==============================] - 0s 104us/sample - loss: 0.0100 - val_loss: 0.0087\n",
            "Epoch 180/200\n",
            "2554/2554 [==============================] - 0s 102us/sample - loss: 0.0100 - val_loss: 0.0087\n",
            "Epoch 181/200\n",
            "2554/2554 [==============================] - 0s 106us/sample - loss: 0.0100 - val_loss: 0.0087\n",
            "Epoch 182/200\n",
            "2554/2554 [==============================] - 0s 103us/sample - loss: 0.0099 - val_loss: 0.0088\n",
            "Epoch 183/200\n",
            "2554/2554 [==============================] - 0s 105us/sample - loss: 0.0100 - val_loss: 0.0087\n",
            "Epoch 184/200\n",
            "2554/2554 [==============================] - 0s 105us/sample - loss: 0.0100 - val_loss: 0.0089\n",
            "Epoch 185/200\n",
            "2554/2554 [==============================] - 0s 107us/sample - loss: 0.0100 - val_loss: 0.0087\n",
            "Epoch 186/200\n",
            "2554/2554 [==============================] - 0s 106us/sample - loss: 0.0099 - val_loss: 0.0094\n",
            "Epoch 187/200\n",
            "2554/2554 [==============================] - 0s 105us/sample - loss: 0.0101 - val_loss: 0.0087\n",
            "Epoch 188/200\n",
            "2554/2554 [==============================] - 0s 108us/sample - loss: 0.0100 - val_loss: 0.0087\n",
            "Epoch 189/200\n",
            "2554/2554 [==============================] - 0s 104us/sample - loss: 0.0100 - val_loss: 0.0087\n",
            "Epoch 190/200\n",
            "2554/2554 [==============================] - 0s 103us/sample - loss: 0.0099 - val_loss: 0.0087\n",
            "Epoch 191/200\n",
            "2554/2554 [==============================] - 0s 111us/sample - loss: 0.0100 - val_loss: 0.0087\n",
            "Epoch 192/200\n",
            "2554/2554 [==============================] - 0s 103us/sample - loss: 0.0100 - val_loss: 0.0088\n",
            "Epoch 193/200\n",
            "2554/2554 [==============================] - 0s 108us/sample - loss: 0.0100 - val_loss: 0.0087\n",
            "Epoch 194/200\n",
            "2554/2554 [==============================] - 0s 105us/sample - loss: 0.0100 - val_loss: 0.0087\n",
            "Epoch 195/200\n",
            "2554/2554 [==============================] - 0s 106us/sample - loss: 0.0100 - val_loss: 0.0091\n",
            "Epoch 196/200\n",
            "2554/2554 [==============================] - 0s 105us/sample - loss: 0.0100 - val_loss: 0.0088\n",
            "Epoch 197/200\n",
            "2554/2554 [==============================] - 0s 103us/sample - loss: 0.0100 - val_loss: 0.0087\n",
            "Epoch 198/200\n",
            "2554/2554 [==============================] - 0s 105us/sample - loss: 0.0100 - val_loss: 0.0087\n",
            "Epoch 199/200\n",
            "2554/2554 [==============================] - 0s 108us/sample - loss: 0.0100 - val_loss: 0.0090\n",
            "Epoch 200/200\n",
            "2554/2554 [==============================] - 0s 107us/sample - loss: 0.0100 - val_loss: 0.0087\n"
          ],
          "name": "stdout"
        },
        {
          "output_type": "execute_result",
          "data": {
            "text/plain": [
              "<tensorflow.python.keras.callbacks.History at 0x7f41ce361da0>"
            ]
          },
          "metadata": {
            "tags": []
          },
          "execution_count": 36
        }
      ]
    },
    {
      "cell_type": "markdown",
      "metadata": {
        "id": "_dmx84Qf8DjY",
        "colab_type": "text"
      },
      "source": [
        "## Make Predictions and Evaluate your model"
      ]
    },
    {
      "cell_type": "code",
      "metadata": {
        "colab_type": "code",
        "id": "85Ip5wrq7Jyi",
        "colab": {}
      },
      "source": [
        "#Get prediction for both Training and Test Data\n",
        "trainPredict = model.predict(X_train)\n",
        "testPredict = model.predict(X_test)"
      ],
      "execution_count": 0,
      "outputs": []
    },
    {
      "cell_type": "markdown",
      "metadata": {
        "id": "i7tsO0TJ8Dja",
        "colab_type": "text"
      },
      "source": [
        "## Plot the results"
      ]
    },
    {
      "cell_type": "code",
      "metadata": {
        "colab_type": "code",
        "id": "FHbIWp-D7Jyn",
        "colab": {}
      },
      "source": [
        "#Un-normalize the predited data\n",
        "trainPredict = scaler.inverse_transform(trainPredict)\n",
        "testPredict = scaler.inverse_transform(testPredict)"
      ],
      "execution_count": 0,
      "outputs": []
    },
    {
      "cell_type": "code",
      "metadata": {
        "id": "bQL1u13fIBgc",
        "colab_type": "code",
        "colab": {}
      },
      "source": [
        "import matplotlib.pyplot as plt"
      ],
      "execution_count": 0,
      "outputs": []
    },
    {
      "cell_type": "code",
      "metadata": {
        "id": "eRbsuRvQIL-d",
        "colab_type": "code",
        "colab": {
          "base_uri": "https://localhost:8080/",
          "height": 612
        },
        "outputId": "6ef4779a-d80b-4cdf-9d0c-c7bbc9c9bcec"
      },
      "source": [
        "trainPredictPlot = np.empty_like(scaled)\n",
        "trainPredictPlot[:, :] = np.nan\n",
        "trainPredictPlot[window_size:len(trainPredict)+window_size, :] = trainPredict\n",
        "# shift test predictions for plotting\n",
        "testPredictPlot = np.empty_like(scaled)\n",
        "testPredictPlot[:, :] = np.nan\n",
        "testPredictPlot[len(trainPredict)+(window_size*2):len(scaled), :] = testPredict\n",
        "# plot baseline and predictions\n",
        "plt.figure(figsize=(20,10))\n",
        "plt.plot(scaler.inverse_transform(scaled))\n",
        "plt.plot(trainPredictPlot)\n",
        "plt.plot(testPredictPlot)\n",
        "plt.show()"
      ],
      "execution_count": 40,
      "outputs": [
        {
          "output_type": "display_data",
          "data": {
            "image/png": "[encoded data removed]",
            "text/plain": [
              "<Figure size 1440x720 with 1 Axes>"
            ]
          },
          "metadata": {
            "tags": []
          }
        }
      ]
    },
    {
      "cell_type": "code",
      "metadata": {
        "id": "VC_AEjiSIMCt",
        "colab_type": "code",
        "colab": {}
      },
      "source": [
        ""
      ],
      "execution_count": 0,
      "outputs": []
    },
    {
      "cell_type": "code",
      "metadata": {
        "id": "r2P61OeoIMJ3",
        "colab_type": "code",
        "colab": {}
      },
      "source": [
        ""
      ],
      "execution_count": 0,
      "outputs": []
    }
  ]
}