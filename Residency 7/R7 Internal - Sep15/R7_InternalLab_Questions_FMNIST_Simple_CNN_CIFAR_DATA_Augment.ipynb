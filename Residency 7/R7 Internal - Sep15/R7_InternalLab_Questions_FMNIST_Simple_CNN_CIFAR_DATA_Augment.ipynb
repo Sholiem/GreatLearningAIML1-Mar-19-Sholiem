{
 "cells": [
  {
   "cell_type": "markdown",
   "metadata": {
    "colab_type": "text",
    "id": "MyfMmMnPJjvn"
   },
   "source": [
    "## Train a simple convnet on the Fashion MNIST dataset"
   ]
  },
  {
   "cell_type": "code",
   "execution_count": 1,
   "metadata": {
    "colab": {
     "base_uri": "https://localhost:8080/",
     "height": 121
    },
    "colab_type": "code",
    "id": "ignNNMUsLERl",
    "outputId": "22d7d465-eef0-4e2c-d913-fa49fb4b990f"
   },
   "outputs": [
    {
     "name": "stdout",
     "output_type": "stream",
     "text": [
      "Go to this URL in a browser: https://accounts.google.com/o/oauth2/auth?client_id=947318989803-6bn6qk8qdgf4n4g3pfee6491hc0brc4i.apps.googleusercontent.com&redirect_uri=urn%3Aietf%3Awg%3Aoauth%3A2.0%3Aoob&scope=email%20https%3A%2F%2Fwww.googleapis.com%2Fauth%2Fdocs.test%20https%3A%2F%2Fwww.googleapis.com%2Fauth%2Fdrive%20https%3A%2F%2Fwww.googleapis.com%2Fauth%2Fdrive.photos.readonly%20https%3A%2F%2Fwww.googleapis.com%2Fauth%2Fpeopleapi.readonly&response_type=code\n",
      "\n",
      "Enter your authorization code:\n",
      "··········\n",
      "Mounted at /content/drive\n"
     ]
    }
   ],
   "source": [
    "from google.colab import drive\n",
    "drive.mount('/content/drive')"
   ]
  },
  {
   "cell_type": "markdown",
   "metadata": {
    "colab_type": "text",
    "id": "zjcGOJhcJjvp"
   },
   "source": [
    "In this, we will see how to deal with image data and train a convnet for image classification task."
   ]
  },
  {
   "cell_type": "markdown",
   "metadata": {
    "colab_type": "text",
    "id": "jR0Pl2XjJjvq"
   },
   "source": [
    "### Load the  `fashion_mnist`  dataset\n",
    "\n",
    "** Use keras.datasets to load the dataset **"
   ]
  },
  {
   "cell_type": "code",
   "execution_count": 0,
   "metadata": {
    "colab": {},
    "colab_type": "code",
    "id": "Qr75v_UYJjvs"
   },
   "outputs": [],
   "source": [
    "%matplotlib inlineciodels import Sequential\n",
    "from keras.layers import Dense, Dropout\n",
    "from keras.optimizers import RMSprop\n",
    "from keras.layers.advanced_activations import LeakyReLU\n",
    "\n",
    "from keras.datasets import fashion_mnist\n",
    "(x_train, y_train), (x_test, y_test) = fashion_mnist.load_data()"
   ]
  },
  {
   "cell_type": "markdown",
   "metadata": {
    "colab_type": "text",
    "id": "hTI42-0qJjvw"
   },
   "source": [
    "### Find no.of samples are there in training and test datasets"
   ]
  },
  {
   "cell_type": "code",
   "execution_count": 47,
   "metadata": {
    "colab": {
     "base_uri": "https://localhost:8080/",
     "height": 50
    },
    "colab_type": "code",
    "id": "g2sf67VoJjvx",
    "outputId": "1dada82f-daf8-47fc-d3d5-98024e79f6bb"
   },
   "outputs": [
    {
     "name": "stdout",
     "output_type": "stream",
     "text": [
      "Train size: 60000\n",
      "Test size: 10000\n"
     ]
    }
   ],
   "source": [
    "print ('Train size:', x_train.shape[0])\n",
    "print ('Test size:', x_test.shape[0])"
   ]
  },
  {
   "cell_type": "code",
   "execution_count": 0,
   "metadata": {
    "colab": {},
    "colab_type": "code",
    "id": "zewyDcBlJjv1"
   },
   "outputs": [],
   "source": [
    "\"\""
   ]
  },
  {
   "cell_type": "markdown",
   "metadata": {
    "colab_type": "text",
    "id": "WytT2eRnJjv4"
   },
   "source": [
    "### Find dimensions of an image in the dataset"
   ]
  },
  {
   "cell_type": "code",
   "execution_count": 48,
   "metadata": {
    "colab": {
     "base_uri": "https://localhost:8080/",
     "height": 34
    },
    "colab_type": "code",
    "id": "XycQGBSGJjv5",
    "outputId": "bb2a7eac-bf58-4628-df46-83c562f168a0"
   },
   "outputs": [
    {
     "data": {
      "text/plain": [
       "(60000, 28, 28)"
      ]
     },
     "execution_count": 48,
     "metadata": {
      "tags": []
     },
     "output_type": "execute_result"
    }
   ],
   "source": [
    "x_train.shape"
   ]
  },
  {
   "cell_type": "markdown",
   "metadata": {
    "colab_type": "text",
    "id": "5jtdZ7RqJjv8"
   },
   "source": [
    "### Convert train and test labels to one hot vectors\n",
    "\n",
    "** check `keras.utils.to_categorical()` **"
   ]
  },
  {
   "cell_type": "code",
   "execution_count": 0,
   "metadata": {
    "colab": {},
    "colab_type": "code",
    "id": "sAD3q5I6Jjv9"
   },
   "outputs": [],
   "source": [
    "num_classes = 10\n",
    "x_train = x_train.reshape(x_train.shape[0], 28, 28, 1).astype('float32')\n",
    "x_test = x_test.reshape(x_test.shape[0], 28, 28, 1).astype('float32')\n",
    "x_train = x_train.astype('float32')      # Change the data type to float from integer (0 - 255)\n",
    "x_test = x_test.astype('float32')\n",
    "\n",
    " "
   ]
  },
  {
   "cell_type": "code",
   "execution_count": 0,
   "metadata": {
    "colab": {},
    "colab_type": "code",
    "id": "mgHSCXy3JjwA"
   },
   "outputs": [],
   "source": [
    "y_train = keras.utils.to_categorical(y_train, num_classes)   # Converting the target into categorical which is stored as numeric\n",
    "y_test = keras.utils.to_categorical(y_test, num_classes) "
   ]
  },
  {
   "cell_type": "code",
   "execution_count": 51,
   "metadata": {
    "colab": {
     "base_uri": "https://localhost:8080/",
     "height": 50
    },
    "colab_type": "code",
    "id": "WS6JQ0rnM1cX",
    "outputId": "cc3ad5e8-a339-4133-ec09-e018f2c1cdbc"
   },
   "outputs": [
    {
     "name": "stdout",
     "output_type": "stream",
     "text": [
      "Train size: 60000\n",
      "Test size: 10000\n"
     ]
    }
   ],
   "source": [
    "print ('Train size:', x_train.shape[0])\n",
    "print ('Test size:', x_test.shape[0])"
   ]
  },
  {
   "cell_type": "markdown",
   "metadata": {
    "colab_type": "text",
    "id": "xO5BRBzBJjwD"
   },
   "source": [
    "### Normalize both the train and test image data from 0-255 to 0-1"
   ]
  },
  {
   "cell_type": "code",
   "execution_count": 0,
   "metadata": {
    "colab": {},
    "colab_type": "code",
    "id": "3fUQpMHxJjwE"
   },
   "outputs": [],
   "source": [
    "x_train /= 255                           # Scale the data between 0 and 1\n",
    "x_test /= 255"
   ]
  },
  {
   "cell_type": "code",
   "execution_count": 0,
   "metadata": {
    "colab": {},
    "colab_type": "code",
    "id": "Okwo_SB5JjwI"
   },
   "outputs": [],
   "source": []
  },
  {
   "cell_type": "markdown",
   "metadata": {
    "colab_type": "text",
    "id": "da5-DwgrJjwM"
   },
   "source": [
    "### Reshape the data from 28x28 to 28x28x1 to match input dimensions in Conv2D layer in keras"
   ]
  },
  {
   "cell_type": "code",
   "execution_count": 53,
   "metadata": {
    "colab": {
     "base_uri": "https://localhost:8080/",
     "height": 34
    },
    "colab_type": "code",
    "id": "LPGVQ-JJJjwN",
    "outputId": "3f3272bb-55a5-4a78-aaf3-390cfc0d2f28"
   },
   "outputs": [
    {
     "data": {
      "text/plain": [
       "(60000, 28, 28, 1)"
      ]
     },
     "execution_count": 53,
     "metadata": {
      "tags": []
     },
     "output_type": "execute_result"
    }
   ],
   "source": [
    "x_train.shape"
   ]
  },
  {
   "cell_type": "code",
   "execution_count": 54,
   "metadata": {
    "colab": {
     "base_uri": "https://localhost:8080/",
     "height": 34
    },
    "colab_type": "code",
    "id": "x9gC0M7XSw7M",
    "outputId": "6ff41ac5-a54c-4bf8-f6b4-3e392a8c3388"
   },
   "outputs": [
    {
     "data": {
      "text/plain": [
       "(60000, 10)"
      ]
     },
     "execution_count": 54,
     "metadata": {
      "tags": []
     },
     "output_type": "execute_result"
    }
   ],
   "source": [
    "y_train.shape"
   ]
  },
  {
   "cell_type": "markdown",
   "metadata": {
    "colab_type": "text",
    "id": "OFRRTJq8JjwQ"
   },
   "source": [
    "### Import the necessary layers from keras to build the model"
   ]
  },
  {
   "cell_type": "code",
   "execution_count": 0,
   "metadata": {
    "colab": {},
    "colab_type": "code",
    "id": "dWTZYnKSJjwR"
   },
   "outputs": [],
   "source": []
  },
  {
   "cell_type": "markdown",
   "metadata": {
    "colab_type": "text",
    "id": "C18AoS7eJjwU"
   },
   "source": [
    "### Build a model \n",
    "\n",
    "** with 2 Conv layers having `32 3x3 filters` in both convolutions with `relu activations` and `flatten` before passing the feature map into 2 fully connected layers (or Dense Layers) having 128 and 10 neurons with `relu` and `softmax` activations respectively. Now, using `categorical_crossentropy` loss with `adam` optimizer train the model with early stopping `patience=5` and no.of `epochs=10`. **"
   ]
  },
  {
   "cell_type": "code",
   "execution_count": 0,
   "metadata": {
    "colab": {},
    "colab_type": "code",
    "id": "r3RiWXBQPhqx"
   },
   "outputs": [],
   "source": [
    "TRAIN = False\n",
    "BATCH_SIZE = 5\n",
    "EPOCHS = 10"
   ]
  },
  {
   "cell_type": "code",
   "execution_count": 56,
   "metadata": {
    "colab": {
     "base_uri": "https://localhost:8080/",
     "height": 104
    },
    "colab_type": "code",
    "id": "DORCLgSwJjwV",
    "outputId": "ae9c1d66-9f75-4ae6-eec2-9620275c9215"
   },
   "outputs": [
    {
     "name": "stderr",
     "output_type": "stream",
     "text": [
      "/usr/local/lib/python3.6/dist-packages/ipykernel_launcher.py:8: UserWarning: Update your `Conv2D` call to the Keras 2 API: `Conv2D(32, (3, 3), input_shape=(28, 28, 1...)`\n",
      "  \n",
      "/usr/local/lib/python3.6/dist-packages/ipykernel_launcher.py:12: UserWarning: Update your `Conv2D` call to the Keras 2 API: `Conv2D(32, (3, 3))`\n",
      "  if sys.path[0] == '':\n"
     ]
    }
   ],
   "source": [
    "from keras.layers import Dense, Activation, Dropout, Flatten, Reshape\n",
    "from keras.layers import Convolution2D, MaxPooling2D\n",
    "\n",
    "# Define model\n",
    "model2 = Sequential()\n",
    "\n",
    "    # 1st Conv Layer\n",
    "model2.add(Convolution2D(32, 3, 3, input_shape=(28, 28, 1)))\n",
    "model2.add(Activation('relu'))\n",
    "\n",
    "    # 2nd Conv Layer\n",
    "model2.add(Convolution2D(32, 3, 3))\n",
    "model2.add(Activation('relu'))\n",
    "\n",
    "    # Fully Connected Layer\n",
    "model2.add(Flatten())\n",
    "model2.add(Dense(128))\n",
    "model2.add(Activation('relu'))\n",
    "\n",
    "    # Prediction Layer\n",
    "model2.add(Dense(10))\n",
    "model2.add(Activation('softmax'))"
   ]
  },
  {
   "cell_type": "code",
   "execution_count": 0,
   "metadata": {
    "colab": {},
    "colab_type": "code",
    "id": "NU5uiv03PZUB"
   },
   "outputs": [],
   "source": [
    "# Loss and Optimizer\n",
    "model2.compile(loss='categorical_crossentropy', optimizer='adam', metrics=['accuracy']) "
   ]
  },
  {
   "cell_type": "code",
   "execution_count": 0,
   "metadata": {
    "colab": {},
    "colab_type": "code",
    "id": "BS7GrG2nPpMT"
   },
   "outputs": [],
   "source": [
    "from keras.callbacks import EarlyStopping\n",
    "\n",
    "# Store Training Results\n",
    "early_stopping = keras.callbacks.EarlyStopping(monitor='val_acc', patience=5, verbose=1, mode='auto')\n",
    "callback_list = [early_stopping]"
   ]
  },
  {
   "cell_type": "code",
   "execution_count": 59,
   "metadata": {
    "colab": {
     "base_uri": "https://localhost:8080/",
     "height": 541
    },
    "colab_type": "code",
    "id": "PjfDdbsuRLwZ",
    "outputId": "44873c74-9377-4436-aa9b-0bd2604bff4f"
   },
   "outputs": [
    {
     "name": "stderr",
     "output_type": "stream",
     "text": [
      "/usr/local/lib/python3.6/dist-packages/ipykernel_launcher.py:1: UserWarning: The `nb_epoch` argument in `fit` has been renamed `epochs`.\n",
      "  \"\"\"Entry point for launching an IPython kernel.\n"
     ]
    },
    {
     "name": "stdout",
     "output_type": "stream",
     "text": [
      "WARNING:tensorflow:From /usr/local/lib/python3.6/dist-packages/tensorflow/python/ops/math_grad.py:1250: add_dispatch_support.<locals>.wrapper (from tensorflow.python.ops.array_ops) is deprecated and will be removed in a future version.\n",
      "Instructions for updating:\n",
      "Use tf.where in 2.0, which has the same broadcast rule as np.where\n",
      "WARNING:tensorflow:From /usr/local/lib/python3.6/dist-packages/keras/backend/tensorflow_backend.py:1033: The name tf.assign_add is deprecated. Please use tf.compat.v1.assign_add instead.\n",
      "\n",
      "Train on 60000 samples, validate on 10000 samples\n",
      "Epoch 1/10\n",
      "60000/60000 [==============================] - 125s 2ms/step - loss: 0.3545 - acc: 0.8702 - val_loss: 0.3092 - val_acc: 0.8914\n",
      "Epoch 2/10\n",
      "60000/60000 [==============================] - 116s 2ms/step - loss: 0.2209 - acc: 0.9189 - val_loss: 0.2864 - val_acc: 0.8987\n",
      "Epoch 3/10\n",
      "60000/60000 [==============================] - 116s 2ms/step - loss: 0.1544 - acc: 0.9421 - val_loss: 0.2919 - val_acc: 0.9093\n",
      "Epoch 4/10\n",
      "60000/60000 [==============================] - 115s 2ms/step - loss: 0.1072 - acc: 0.9609 - val_loss: 0.3423 - val_acc: 0.9089\n",
      "Epoch 5/10\n",
      "60000/60000 [==============================] - 115s 2ms/step - loss: 0.0748 - acc: 0.9730 - val_loss: 0.3711 - val_acc: 0.9144\n",
      "Epoch 6/10\n",
      "60000/60000 [==============================] - 114s 2ms/step - loss: 0.0548 - acc: 0.9804 - val_loss: 0.4383 - val_acc: 0.9099\n",
      "Epoch 7/10\n",
      "60000/60000 [==============================] - 113s 2ms/step - loss: 0.0421 - acc: 0.9852 - val_loss: 0.4916 - val_acc: 0.9118\n",
      "Epoch 8/10\n",
      "60000/60000 [==============================] - 113s 2ms/step - loss: 0.0360 - acc: 0.9880 - val_loss: 0.6297 - val_acc: 0.9059\n",
      "Epoch 9/10\n",
      "60000/60000 [==============================] - 112s 2ms/step - loss: 0.0340 - acc: 0.9898 - val_loss: 0.6683 - val_acc: 0.9061\n",
      "Epoch 10/10\n",
      "60000/60000 [==============================] - 113s 2ms/step - loss: 0.0283 - acc: 0.9913 - val_loss: 0.6399 - val_acc: 0.9071\n",
      "Epoch 00010: early stopping\n"
     ]
    },
    {
     "data": {
      "text/plain": [
       "<keras.callbacks.History at 0x7f1cd22a76d8>"
      ]
     },
     "execution_count": 59,
     "metadata": {
      "tags": []
     },
     "output_type": "execute_result"
    }
   ],
   "source": [
    "model2.fit(x_train, y_train, batch_size=BATCH_SIZE, nb_epoch=EPOCHS, validation_data=(x_test, y_test), callbacks=callback_list)"
   ]
  },
  {
   "cell_type": "markdown",
   "metadata": {
    "colab_type": "text",
    "id": "ju69vKdIJjwX"
   },
   "source": [
    "### Now, to the above model add `max` pooling layer of `filter size 2x2` and `dropout` layer with `p=0.25` after the 2 conv layers and run the model"
   ]
  },
  {
   "cell_type": "code",
   "execution_count": 61,
   "metadata": {
    "colab": {
     "base_uri": "https://localhost:8080/",
     "height": 490
    },
    "colab_type": "code",
    "id": "L2hAP94vJjwY",
    "outputId": "0e0ef45d-ab58-4d05-a6db-d61c70c17c42"
   },
   "outputs": [
    {
     "name": "stderr",
     "output_type": "stream",
     "text": [
      "/usr/local/lib/python3.6/dist-packages/ipykernel_launcher.py:4: UserWarning: Update your `Conv2D` call to the Keras 2 API: `Conv2D(32, (3, 3), input_shape=(28, 28, 1...)`\n",
      "  after removing the cwd from sys.path.\n",
      "/usr/local/lib/python3.6/dist-packages/ipykernel_launcher.py:8: UserWarning: Update your `Conv2D` call to the Keras 2 API: `Conv2D(32, (3, 3))`\n",
      "  \n",
      "/usr/local/lib/python3.6/dist-packages/ipykernel_launcher.py:39: UserWarning: The `nb_epoch` argument in `fit` has been renamed `epochs`.\n"
     ]
    },
    {
     "name": "stdout",
     "output_type": "stream",
     "text": [
      "Train on 60000 samples, validate on 10000 samples\n",
      "Epoch 1/10\n",
      "60000/60000 [==============================] - 96s 2ms/step - loss: 0.4609 - acc: 0.8338 - val_loss: 0.3076 - val_acc: 0.8859\n",
      "Epoch 2/10\n",
      "60000/60000 [==============================] - 96s 2ms/step - loss: 0.3280 - acc: 0.8806 - val_loss: 0.2729 - val_acc: 0.9031\n",
      "Epoch 3/10\n",
      "60000/60000 [==============================] - 96s 2ms/step - loss: 0.2936 - acc: 0.8949 - val_loss: 0.2522 - val_acc: 0.9085\n",
      "Epoch 4/10\n",
      "60000/60000 [==============================] - 95s 2ms/step - loss: 0.2749 - acc: 0.9008 - val_loss: 0.2605 - val_acc: 0.9092\n",
      "Epoch 5/10\n",
      "60000/60000 [==============================] - 96s 2ms/step - loss: 0.2654 - acc: 0.9062 - val_loss: 0.2535 - val_acc: 0.9129\n",
      "Epoch 6/10\n",
      "60000/60000 [==============================] - 96s 2ms/step - loss: 0.2538 - acc: 0.9084 - val_loss: 0.2434 - val_acc: 0.9156\n",
      "Epoch 7/10\n",
      "60000/60000 [==============================] - 95s 2ms/step - loss: 0.2491 - acc: 0.9097 - val_loss: 0.2490 - val_acc: 0.9115\n",
      "Epoch 8/10\n",
      "60000/60000 [==============================] - 96s 2ms/step - loss: 0.2406 - acc: 0.9131 - val_loss: 0.2471 - val_acc: 0.9129\n",
      "Epoch 9/10\n",
      "60000/60000 [==============================] - 95s 2ms/step - loss: 0.2395 - acc: 0.9160 - val_loss: 0.2523 - val_acc: 0.9142\n",
      "Epoch 10/10\n",
      "60000/60000 [==============================] - 96s 2ms/step - loss: 0.2372 - acc: 0.9144 - val_loss: 0.2503 - val_acc: 0.9157\n"
     ]
    },
    {
     "data": {
      "text/plain": [
       "<keras.callbacks.History at 0x7f1cc06674e0>"
      ]
     },
     "execution_count": 61,
     "metadata": {
      "tags": []
     },
     "output_type": "execute_result"
    }
   ],
   "source": [
    "# Define Model\n",
    "    model3 = Sequential()\n",
    "\n",
    "    # 1st Conv Layer\n",
    "    model3.add(Convolution2D(32, 3, 3, input_shape=(28, 28, 1)))\n",
    "    model3.add(Activation('relu'))\n",
    "\n",
    "    # 2nd Conv Layer\n",
    "    model3.add(Convolution2D(32, 3, 3))\n",
    "    model3.add(Activation('relu'))\n",
    "\n",
    "    # Max Pooling\n",
    "    model3.add(MaxPooling2D(pool_size=(2,2)))\n",
    "    \n",
    "    # Dropout\n",
    "    model3.add(Dropout(0.25))\n",
    "\n",
    "    # Fully Connected Layer\n",
    "    model3.add(Flatten())\n",
    "    model3.add(Dense(128))\n",
    "    model3.add(Activation('relu'))\n",
    "    \n",
    "    # More Dropout\n",
    "    model3.add(Dropout(0.5))\n",
    "\n",
    "    # Prediction Layer\n",
    "    model3.add(Dense(10))\n",
    "    model3.add(Activation('softmax'))\n",
    "\n",
    "    # Loss and Optimizer\n",
    "    model3.compile(loss='categorical_crossentropy', optimizer='adam', metrics=['accuracy'])\n",
    "    \n",
    "    # Store Training Results\n",
    "    early_stopping = keras.callbacks.EarlyStopping(monitor='val_acc', patience=7, verbose=1, mode='auto') \n",
    "    #Stop training when a monitored quantity has stopped improving.\n",
    "    callback_list = [early_stopping]\n",
    "\n",
    "    # Train the model\n",
    "    model3.fit(x_train, y_train, batch_size=BATCH_SIZE, nb_epoch=EPOCHS, \n",
    "              validation_data=(x_test, y_test), callbacks=callback_list)\n",
    "    \n"
   ]
  },
  {
   "cell_type": "markdown",
   "metadata": {
    "colab_type": "text",
    "id": "lGTA3bfEJjwa"
   },
   "source": [
    "### Now, to the above model, lets add Data Augmentation "
   ]
  },
  {
   "cell_type": "markdown",
   "metadata": {
    "colab_type": "text",
    "id": "F6gX8n5SJjwb"
   },
   "source": [
    "### Import the ImageDataGenrator from keras and fit the training images"
   ]
  },
  {
   "cell_type": "code",
   "execution_count": 0,
   "metadata": {
    "colab": {},
    "colab_type": "code",
    "id": "Cbz4uHBuJjwc"
   },
   "outputs": [],
   "source": [
    "from keras.preprocessing.image import ImageDataGenerator\n",
    "\n",
    "# This will do preprocessing and realtime data augmentation:\n",
    "datagen = ImageDataGenerator(\n",
    "    featurewise_center=False,  # set input mean to 0 over the dataset\n",
    "    samplewise_center=False,  # set each sample mean to 0\n",
    "    featurewise_std_normalization=False,  # divide inputs by std of the dataset\n",
    "    samplewise_std_normalization=False,  # divide each input by its std\n",
    "    zca_whitening=False,  # apply ZCA whitening\n",
    "    rotation_range=50,  # randomly rotate images in the range (degrees, 0 to 180)\n",
    "    width_shift_range=0.1,  # randomly shift images horizontally (fraction of total width)\n",
    "    height_shift_range=0.1,  # randomly shift images vertically (fraction of total height)\n",
    "    horizontal_flip=False,  # randomly flip images\n",
    "    vertical_flip=False)  # randomly flip images\n",
    "\n",
    "# Prepare the generator\n",
    "datagen.fit(x_train)"
   ]
  },
  {
   "cell_type": "markdown",
   "metadata": {
    "colab_type": "text",
    "id": "pl-8dOo7Jjwf"
   },
   "source": [
    "#### Showing 5 versions of the first image in training dataset using image datagenerator.flow()"
   ]
  },
  {
   "cell_type": "code",
   "execution_count": 64,
   "metadata": {
    "colab": {
     "base_uri": "https://localhost:8080/",
     "height": 109
    },
    "colab_type": "code",
    "id": "DpI1_McYJjwg",
    "outputId": "41612218-9524-41c2-b39b-511ffd37dfb6",
    "scrolled": true
   },
   "outputs": [
    {
     "data": {
      "image/png": "[encoded data removed]",
      "text/plain": [
       "<Figure size 432x288 with 5 Axes>"
      ]
     },
     "metadata": {
      "tags": []
     },
     "output_type": "display_data"
    }
   ],
   "source": [
    "from matplotlib import pyplot as plt\n",
    "gen = datagen.flow(x_train[0:1], batch_size=1)\n",
    "for i in range(1, 6):\n",
    "    plt.subplot(1,5,i)\n",
    "    plt.axis(\"off\")\n",
    "    plt.imshow(gen.next().squeeze(), cmap='gray')\n",
    "    plt.plot()\n",
    "plt.show()"
   ]
  },
  {
   "cell_type": "markdown",
   "metadata": {
    "colab_type": "text",
    "id": "dmPl5yE8Jjwm"
   },
   "source": [
    "### Run the above model using fit_generator()"
   ]
  },
  {
   "cell_type": "code",
   "execution_count": 66,
   "metadata": {
    "colab": {
     "base_uri": "https://localhost:8080/",
     "height": 406
    },
    "colab_type": "code",
    "id": "44ZnDdJYJjwn",
    "outputId": "1fa75b8b-ed89-4577-dff0-4d804c8b1137"
   },
   "outputs": [
    {
     "name": "stdout",
     "output_type": "stream",
     "text": [
      "Epoch 1/10\n",
      "   9/1875 [..............................] - ETA: 31s - loss: 2.8142 - acc: 0.3958"
     ]
    },
    {
     "name": "stderr",
     "output_type": "stream",
     "text": [
      "/usr/local/lib/python3.6/dist-packages/ipykernel_launcher.py:5: UserWarning: The semantics of the Keras 2 argument `steps_per_epoch` is not the same as the Keras 1 argument `samples_per_epoch`. `steps_per_epoch` is the number of batches to draw from the generator at each epoch. Basically steps_per_epoch = samples_per_epoch/batch_size. Similarly `nb_val_samples`->`validation_steps` and `val_samples`->`steps` arguments have changed. Update your method calls accordingly.\n",
      "  \"\"\"\n",
      "/usr/local/lib/python3.6/dist-packages/ipykernel_launcher.py:5: UserWarning: Update your `fit_generator` call to the Keras 2 API: `fit_generator(<keras_pre..., validation_data=(array([[[..., callbacks=[<keras.ca..., steps_per_epoch=1875, epochs=10)`\n",
      "  \"\"\"\n"
     ]
    },
    {
     "name": "stdout",
     "output_type": "stream",
     "text": [
      "1875/1875 [==============================] - 30s 16ms/step - loss: 1.1593 - acc: 0.5738 - val_loss: 0.3546 - val_acc: 0.8832\n",
      "Epoch 2/10\n",
      "1875/1875 [==============================] - 30s 16ms/step - loss: 0.8678 - acc: 0.6813 - val_loss: 0.3645 - val_acc: 0.8770\n",
      "Epoch 3/10\n",
      "1875/1875 [==============================] - 30s 16ms/step - loss: 0.7803 - acc: 0.7113 - val_loss: 0.3729 - val_acc: 0.8708\n",
      "Epoch 4/10\n",
      "1875/1875 [==============================] - 30s 16ms/step - loss: 0.7190 - acc: 0.7329 - val_loss: 0.3611 - val_acc: 0.8740\n",
      "Epoch 5/10\n",
      "1875/1875 [==============================] - 30s 16ms/step - loss: 0.6865 - acc: 0.7457 - val_loss: 0.3589 - val_acc: 0.8762\n",
      "Epoch 6/10\n",
      "1875/1875 [==============================] - 29s 16ms/step - loss: 0.6659 - acc: 0.7544 - val_loss: 0.3633 - val_acc: 0.8768\n",
      "Epoch 7/10\n",
      "1875/1875 [==============================] - 30s 16ms/step - loss: 0.6425 - acc: 0.7650 - val_loss: 0.3615 - val_acc: 0.8792\n",
      "Epoch 8/10\n",
      "1875/1875 [==============================] - 30s 16ms/step - loss: 0.6204 - acc: 0.7730 - val_loss: 0.3483 - val_acc: 0.8769\n",
      "Epoch 00008: early stopping\n"
     ]
    },
    {
     "data": {
      "text/plain": [
       "<keras.callbacks.History at 0x7f1cc06a6898>"
      ]
     },
     "execution_count": 66,
     "metadata": {
      "tags": []
     },
     "output_type": "execute_result"
    }
   ],
   "source": [
    "model3.fit_generator(datagen.flow(x_train, y_train,\n",
    "                    batch_size=32),\n",
    "                    samples_per_epoch=x_train.shape[0],\n",
    "                    nb_epoch=10,\n",
    "                    validation_data=(x_test, y_test), callbacks=callback_list)"
   ]
  },
  {
   "cell_type": "markdown",
   "metadata": {
    "colab_type": "text",
    "id": "MwQQW5iOJjwq"
   },
   "source": [
    "###  Report the final train and validation accuracy"
   ]
  },
  {
   "cell_type": "code",
   "execution_count": 0,
   "metadata": {
    "colab": {},
    "colab_type": "code",
    "id": "c1SrtBEPJjwq"
   },
   "outputs": [],
   "source": [
    "Train accuracy = 77.30%"
   ]
  },
  {
   "cell_type": "code",
   "execution_count": 0,
   "metadata": {
    "colab": {},
    "colab_type": "code",
    "id": "ZBwVWNQC2qZD"
   },
   "outputs": [],
   "source": [
    "Validation accuracy = 87.69%"
   ]
  },
  {
   "cell_type": "markdown",
   "metadata": {
    "colab_type": "text",
    "id": "8KXqmUDW2rM1"
   },
   "source": [
    "## **DATA AUGMENTATION ON CIFAR10 DATASET**"
   ]
  },
  {
   "cell_type": "markdown",
   "metadata": {
    "colab_type": "text",
    "id": "8mja6OgQ3L18"
   },
   "source": [
    "One of the best ways to improve the performance of a Deep Learning model is to add more data to the training set. Aside from gathering more instances from the wild that are representative of the distinction task, we want to develop a set of methods that enhance the data we already have. There are many ways to augment existing datasets and produce more robust models. In the image domain, these are done to utilize the full power of the convolutional neural network, which is able to capture translational invariance. This translational invariance is what makes image recognition such a difficult task in the first place. You want the dataset to be representative of the many different positions, angles, lightings, and miscellaneous distortions that are of interest to the vision task."
   ]
  },
  {
   "cell_type": "markdown",
   "metadata": {
    "colab_type": "text",
    "id": "6HzVTPUM3WZJ"
   },
   "source": [
    "### **Import neessary libraries for data augmentation**"
   ]
  },
  {
   "cell_type": "code",
   "execution_count": 0,
   "metadata": {
    "colab": {},
    "colab_type": "code",
    "id": "PPM558TX4KMb"
   },
   "outputs": [],
   "source": [
    "from keras.datasets import cifar10, mnist"
   ]
  },
  {
   "cell_type": "markdown",
   "metadata": {
    "colab_type": "text",
    "id": "W6hicLwP4SqY"
   },
   "source": [
    "### **Load CIFAR10 dataset**"
   ]
  },
  {
   "cell_type": "code",
   "execution_count": 0,
   "metadata": {
    "colab": {},
    "colab_type": "code",
    "id": "NQ1WzrXd4WNk"
   },
   "outputs": [],
   "source": [
    "(x_traincf, y_traincf), (x_testcf, y_testcf) = cifar10.load_data()"
   ]
  },
  {
   "cell_type": "code",
   "execution_count": 0,
   "metadata": {
    "colab": {},
    "colab_type": "code",
    "id": "R9Pht1ggHuiT"
   },
   "outputs": [],
   "source": [
    "num_classes = 10\n",
    "x_traincf = x_traincf.reshape(x_traincf.shape[0], 32, 32, 3).astype('float32')\n",
    "x_testcf = x_testcf.reshape(x_testcf.shape[0], 32, 32, 3).astype('float32')\n",
    "x_traincf = x_traincf.astype('float32')      # Change the data type to float from integer (0 - 255)\n",
    "x_testcf = x_testcf.astype('float32')\n",
    "\n",
    "y_traincf = keras.utils.to_categorical(y_traincf, num_classes)   # Converting the target into categorical which is stored as numeric\n",
    "y_testcf = keras.utils.to_categorical(y_testcf, num_classes)\n",
    "\n",
    "x_traincf /= 255                           # Scale the data between 0 and 1\n",
    "x_testcf /= 255"
   ]
  },
  {
   "cell_type": "code",
   "execution_count": 73,
   "metadata": {
    "colab": {
     "base_uri": "https://localhost:8080/",
     "height": 104
    },
    "colab_type": "code",
    "id": "3n28ccU6Hp6s",
    "outputId": "4d4af7b5-a23b-4a1a-8b7c-f484952e8e4b"
   },
   "outputs": [
    {
     "name": "stderr",
     "output_type": "stream",
     "text": [
      "/usr/local/lib/python3.6/dist-packages/ipykernel_launcher.py:4: UserWarning: Update your `Conv2D` call to the Keras 2 API: `Conv2D(32, (3, 3), input_shape=(32, 32, 3...)`\n",
      "  after removing the cwd from sys.path.\n",
      "/usr/local/lib/python3.6/dist-packages/ipykernel_launcher.py:8: UserWarning: Update your `Conv2D` call to the Keras 2 API: `Conv2D(32, (3, 3))`\n",
      "  \n"
     ]
    }
   ],
   "source": [
    "model4 = Sequential()\n",
    "\n",
    "    # 1st Conv Layer\n",
    "model4.add(Convolution2D(32, 3, 3, input_shape=(32, 32, 3)))\n",
    "model4.add(Activation('relu'))\n",
    "\n",
    "    # 2nd Conv Layer\n",
    "model4.add(Convolution2D(32, 3, 3))\n",
    "model4.add(Activation('relu'))\n",
    "\n",
    "    # Max Pooling\n",
    "model4.add(MaxPooling2D(pool_size=(2,2)))\n",
    "    \n",
    "    # Dropout\n",
    "model4.add(Dropout(0.25))\n",
    "\n",
    "    # Fully Connected Layer\n",
    "model4.add(Flatten())\n",
    "model4.add(Dense(128))\n",
    "model4.add(Activation('relu'))\n",
    "    \n",
    "    # More Dropout\n",
    "model4.add(Dropout(0.5))\n",
    "\n",
    "    # Prediction Layer\n",
    "model4.add(Dense(10))\n",
    "model4.add(Activation('softmax'))\n"
   ]
  },
  {
   "cell_type": "code",
   "execution_count": 77,
   "metadata": {
    "colab": {
     "base_uri": "https://localhost:8080/",
     "height": 440
    },
    "colab_type": "code",
    "id": "TY4DFg0peJQO",
    "outputId": "f94eda65-dd25-43b1-a893-6639c7e26d79"
   },
   "outputs": [
    {
     "name": "stderr",
     "output_type": "stream",
     "text": [
      "/usr/local/lib/python3.6/dist-packages/ipykernel_launcher.py:10: UserWarning: The `nb_epoch` argument in `fit` has been renamed `epochs`.\n",
      "  # Remove the CWD from sys.path while we load stuff.\n"
     ]
    },
    {
     "name": "stdout",
     "output_type": "stream",
     "text": [
      "Train on 50000 samples, validate on 10000 samples\n",
      "Epoch 1/10\n",
      "50000/50000 [==============================] - 86s 2ms/step - loss: 1.5661 - acc: 0.4301 - val_loss: 1.2627 - val_acc: 0.5478\n",
      "Epoch 2/10\n",
      "50000/50000 [==============================] - 85s 2ms/step - loss: 1.2949 - acc: 0.5438 - val_loss: 1.1131 - val_acc: 0.6136\n",
      "Epoch 3/10\n",
      "50000/50000 [==============================] - 85s 2ms/step - loss: 1.1898 - acc: 0.5804 - val_loss: 1.0670 - val_acc: 0.6196\n",
      "Epoch 4/10\n",
      "50000/50000 [==============================] - 85s 2ms/step - loss: 1.1314 - acc: 0.6032 - val_loss: 1.0642 - val_acc: 0.6245\n",
      "Epoch 5/10\n",
      "50000/50000 [==============================] - 85s 2ms/step - loss: 1.0882 - acc: 0.6174 - val_loss: 1.0008 - val_acc: 0.6488\n",
      "Epoch 6/10\n",
      "50000/50000 [==============================] - 85s 2ms/step - loss: 1.0520 - acc: 0.6306 - val_loss: 1.0226 - val_acc: 0.6398\n",
      "Epoch 7/10\n",
      "50000/50000 [==============================] - 85s 2ms/step - loss: 1.0208 - acc: 0.6400 - val_loss: 1.0428 - val_acc: 0.6370\n",
      "Epoch 8/10\n",
      "50000/50000 [==============================] - 85s 2ms/step - loss: 1.0017 - acc: 0.6483 - val_loss: 0.9802 - val_acc: 0.6624\n",
      "Epoch 9/10\n",
      "50000/50000 [==============================] - 85s 2ms/step - loss: 0.9777 - acc: 0.6575 - val_loss: 0.9837 - val_acc: 0.6611\n",
      "Epoch 10/10\n",
      "50000/50000 [==============================] - 85s 2ms/step - loss: 0.9649 - acc: 0.6610 - val_loss: 1.0014 - val_acc: 0.6492\n"
     ]
    },
    {
     "data": {
      "text/plain": [
       "<keras.callbacks.History at 0x7f1c836b7fd0>"
      ]
     },
     "execution_count": 77,
     "metadata": {
      "tags": []
     },
     "output_type": "execute_result"
    }
   ],
   "source": [
    "# Loss and Optimizer\n",
    "    model4.compile(loss='categorical_crossentropy', optimizer='adam', metrics=['accuracy'])\n",
    "    \n",
    "    # Store Training Results\n",
    "    early_stopping = keras.callbacks.EarlyStopping(monitor='val_acc', patience=7, verbose=1, mode='auto') \n",
    "    #Stop training when a monitored quantity has stopped improving.\n",
    "    callback_list = [early_stopping]\n",
    "\n",
    "    # Train the model\n",
    "    model4.fit(x_traincf, y_traincf, batch_size=BATCH_SIZE, nb_epoch=EPOCHS, \n",
    "              validation_data=(x_testcf, y_testcf), callbacks=callback_list)"
   ]
  },
  {
   "cell_type": "markdown",
   "metadata": {
    "colab_type": "text",
    "id": "JN3vYYhK4W0u"
   },
   "source": [
    "### **Create a data_gen funtion to genererator with image rotation,shifting image horizontally and vertically with random flip horizontally.**"
   ]
  },
  {
   "cell_type": "code",
   "execution_count": 0,
   "metadata": {
    "colab": {},
    "colab_type": "code",
    "id": "JJbekTKi4cmM"
   },
   "outputs": [],
   "source": [
    "\n",
    "def data_gen(image_rot=50 , width_shift_range=0.1,height_shift_range=0.1, horizontal_flip=True):\n",
    "    datagen = ImageDataGenerator(\n",
    "    featurewise_center=False,  # set input mean to 0 over the dataset\n",
    "    samplewise_center=False,  # set each sample mean to 0\n",
    "    featurewise_std_normalization=False,  # divide inputs by std of the dataset\n",
    "    samplewise_std_normalization=False,  # divide each input by its std\n",
    "    zca_whitening=False,  # apply ZCA whitening\n",
    "    rotation_range=image_rot,  # randomly rotate images in the range (degrees, 0 to 180)\n",
    "    width_shift_range=width_shift_range,  # randomly shift images horizontally (fraction of total width)\n",
    "    height_shift_range=0.1,  # randomly shift images vertically (fraction of total height)\n",
    "    horizontal_flip=horizontal_flip,  # randomly flip images\n",
    "    vertical_flip=False)  # randomly flip images\n",
    "    return datagen"
   ]
  },
  {
   "cell_type": "markdown",
   "metadata": {
    "colab_type": "text",
    "id": "e-SLtUhC4dK2"
   },
   "source": [
    "### **Prepare/fit the generator.**"
   ]
  },
  {
   "cell_type": "code",
   "execution_count": 0,
   "metadata": {
    "colab": {},
    "colab_type": "code",
    "id": "CSw8Bv2_4hb0"
   },
   "outputs": [],
   "source": [
    "dgen=data_gen()"
   ]
  },
  {
   "cell_type": "code",
   "execution_count": 0,
   "metadata": {
    "colab": {},
    "colab_type": "code",
    "id": "zTmgKIu1giC0"
   },
   "outputs": [],
   "source": [
    "dgen.fit(x_traincf)"
   ]
  },
  {
   "cell_type": "code",
   "execution_count": 85,
   "metadata": {
    "colab": {
     "base_uri": "https://localhost:8080/",
     "height": 457
    },
    "colab_type": "code",
    "id": "TdHh8GpxguFf",
    "outputId": "c2019ab1-1a3b-49bc-9beb-4047e8444017"
   },
   "outputs": [
    {
     "name": "stdout",
     "output_type": "stream",
     "text": [
      "Epoch 1/10\n",
      "   7/1562 [..............................] - ETA: 41s - loss: 2.0145 - acc: 0.3973"
     ]
    },
    {
     "name": "stderr",
     "output_type": "stream",
     "text": [
      "/usr/local/lib/python3.6/dist-packages/ipykernel_launcher.py:5: UserWarning: The semantics of the Keras 2 argument `steps_per_epoch` is not the same as the Keras 1 argument `samples_per_epoch`. `steps_per_epoch` is the number of batches to draw from the generator at each epoch. Basically steps_per_epoch = samples_per_epoch/batch_size. Similarly `nb_val_samples`->`validation_steps` and `val_samples`->`steps` arguments have changed. Update your method calls accordingly.\n",
      "  \"\"\"\n",
      "/usr/local/lib/python3.6/dist-packages/ipykernel_launcher.py:5: UserWarning: Update your `fit_generator` call to the Keras 2 API: `fit_generator(<keras_pre..., validation_data=(array([[[..., callbacks=[<keras.ca..., steps_per_epoch=1562, epochs=10)`\n",
      "  \"\"\"\n"
     ]
    },
    {
     "name": "stdout",
     "output_type": "stream",
     "text": [
      "1562/1562 [==============================] - 38s 24ms/step - loss: 1.5803 - acc: 0.4446 - val_loss: 1.1613 - val_acc: 0.6090\n",
      "Epoch 2/10\n",
      "1562/1562 [==============================] - 38s 24ms/step - loss: 1.4989 - acc: 0.4683 - val_loss: 1.1408 - val_acc: 0.6059\n",
      "Epoch 3/10\n",
      "1562/1562 [==============================] - 37s 24ms/step - loss: 1.4630 - acc: 0.4793 - val_loss: 1.1395 - val_acc: 0.6006\n",
      "Epoch 4/10\n",
      "1562/1562 [==============================] - 37s 24ms/step - loss: 1.4355 - acc: 0.4909 - val_loss: 1.1103 - val_acc: 0.6194\n",
      "Epoch 5/10\n",
      "1562/1562 [==============================] - 37s 24ms/step - loss: 1.4204 - acc: 0.4952 - val_loss: 1.0890 - val_acc: 0.6201\n",
      "Epoch 6/10\n",
      "1562/1562 [==============================] - 37s 24ms/step - loss: 1.3956 - acc: 0.5058 - val_loss: 1.1884 - val_acc: 0.5949\n",
      "Epoch 7/10\n",
      "1562/1562 [==============================] - 38s 24ms/step - loss: 1.3796 - acc: 0.5069 - val_loss: 1.0741 - val_acc: 0.6241\n",
      "Epoch 8/10\n",
      "1562/1562 [==============================] - 37s 24ms/step - loss: 1.3708 - acc: 0.5115 - val_loss: 1.0851 - val_acc: 0.6187\n",
      "Epoch 9/10\n",
      "1562/1562 [==============================] - 37s 24ms/step - loss: 1.3549 - acc: 0.5187 - val_loss: 1.0902 - val_acc: 0.6253\n",
      "Epoch 10/10\n",
      "1562/1562 [==============================] - 37s 24ms/step - loss: 1.3469 - acc: 0.5204 - val_loss: 1.1084 - val_acc: 0.6149\n"
     ]
    },
    {
     "data": {
      "text/plain": [
       "<keras.callbacks.History at 0x7f1c860bbe48>"
      ]
     },
     "execution_count": 85,
     "metadata": {
      "tags": []
     },
     "output_type": "execute_result"
    }
   ],
   "source": [
    "model4.fit_generator(datagen.flow(x_traincf, y_traincf,\n",
    "                    batch_size=32),\n",
    "                    samples_per_epoch=x_traincf.shape[0],\n",
    "                    nb_epoch=10,\n",
    "                    validation_data=(x_testcf, y_testcf), callbacks=callback_list)"
   ]
  },
  {
   "cell_type": "markdown",
   "metadata": {
    "colab_type": "text",
    "id": "gYyF-P8O4jQ8"
   },
   "source": [
    "### **Generate 5 images for 1 of the image of CIFAR10 train dataset.**"
   ]
  },
  {
   "cell_type": "code",
   "execution_count": 86,
   "metadata": {
    "colab": {
     "base_uri": "https://localhost:8080/",
     "height": 109
    },
    "colab_type": "code",
    "id": "mXug4z234mwQ",
    "outputId": "313bd90b-7f66-467c-dab0-f33442f639de"
   },
   "outputs": [
    {
     "data": {
      "image/png": "[encoded data removed]",
      "text/plain": [
       "<Figure size 432x288 with 5 Axes>"
      ]
     },
     "metadata": {
      "tags": []
     },
     "output_type": "display_data"
    }
   ],
   "source": [
    "from matplotlib import pyplot as plt\n",
    "gen = dgen.flow(x_traincf[0:1], batch_size=1)\n",
    "for i in range(1, 6):\n",
    "    plt.subplot(1,5,i)\n",
    "    plt.axis(\"off\")\n",
    "    plt.imshow(gen.next().squeeze(), cmap='gray')\n",
    "    plt.plot()\n",
    "plt.show()"
   ]
  }
 ],
 "metadata": {
  "accelerator": "GPU",
  "colab": {
   "collapsed_sections": [],
   "name": "R7_InternalLab_Questions_FMNIST_Simple_CNN_CIFAR_DATA_Augment.ipynb",
   "provenance": [],
   "version": "0.3.2"
  },
  "kernelspec": {
   "display_name": "Python 3",
   "language": "python",
   "name": "python3"
  },
  "language_info": {
   "codemirror_mode": {
    "name": "ipython",
    "version": 3
   },
   "file_extension": ".py",
   "mimetype": "text/x-python",
   "name": "python",
   "nbconvert_exporter": "python",
   "pygments_lexer": "ipython3",
   "version": "3.7.3"
  }
 },
 "nbformat": 4,
 "nbformat_minor": 1
}
