{
 "cells": [
  {
   "cell_type": "markdown",
   "metadata": {
    "colab_type": "text",
    "id": "4WH1Pr4KQlCh"
   },
   "source": [
    "### Build a DNN using Keras with `RELU` and `ADAM`"
   ]
  },
  {
   "cell_type": "markdown",
   "metadata": {
    "colab_type": "text",
    "id": "TbvI8LqlQlCl",
    "slideshow": {
     "slide_type": "slide"
    }
   },
   "source": [
    "#### Load tensorflow"
   ]
  },
  {
   "cell_type": "code",
   "execution_count": 1,
   "metadata": {
    "colab": {},
    "colab_type": "code",
    "id": "SPW-a-qYQlCp"
   },
   "outputs": [],
   "source": [
    "import tensorflow as tf\n"
   ]
  },
  {
   "cell_type": "code",
   "execution_count": 2,
   "metadata": {},
   "outputs": [],
   "source": [
    "n_inputs = 784  # input layer (28x28 pixels)\n",
    "n_hidden1 = 200  # 1st hidden layer\n",
    "n_hidden2 = 100  # 2nd hidden layer\n",
    "\n",
    "n_output = 10  # output layer (0-9 digits)"
   ]
  },
  {
   "cell_type": "markdown",
   "metadata": {
    "colab_type": "text",
    "id": "74cQBsi5QlCw",
    "slideshow": {
     "slide_type": "slide"
    }
   },
   "source": [
    "#### Collect Fashion mnist data from tf.keras.datasets "
   ]
  },
  {
   "cell_type": "code",
   "execution_count": 3,
   "metadata": {
    "colab": {},
    "colab_type": "code",
    "id": "wVWy0oDTr2Kj"
   },
   "outputs": [],
   "source": [
    "(x_train, y_train), (x_test, y_test)=tf.keras.datasets.fashion_mnist.load_data()"
   ]
  },
  {
   "cell_type": "markdown",
   "metadata": {
    "colab_type": "text",
    "id": "no7aWYZyQlC1",
    "slideshow": {
     "slide_type": "slide"
    }
   },
   "source": [
    "#### Change train and test labels into one-hot vectors"
   ]
  },
  {
   "cell_type": "code",
   "execution_count": 4,
   "metadata": {
    "colab": {},
    "colab_type": "code",
    "id": "UX6otc4wQlC2"
   },
   "outputs": [],
   "source": [
    "x_train.shape\n",
    "\n",
    "y_train=tf.keras.utils.to_categorical(y_train)\n",
    "y_test=tf.keras.utils.to_categorical(y_test)"
   ]
  },
  {
   "cell_type": "code",
   "execution_count": 5,
   "metadata": {},
   "outputs": [],
   "source": [
    "import numpy as np"
   ]
  },
  {
   "cell_type": "code",
   "execution_count": 6,
   "metadata": {},
   "outputs": [],
   "source": []
  },
  {
   "cell_type": "code",
   "execution_count": 8,
   "metadata": {},
   "outputs": [],
   "source": [
    "\n",
    "import keras \n",
    "from keras.datasets import mnist \n",
    "from keras.models import Sequential \n",
    "from keras.layers import Dense, Dropout \n",
    "from keras.optimizers import SGD\n",
    "from keras.optimizers import Adam\n",
    "from keras import utils"
   ]
  },
  {
   "cell_type": "markdown",
   "metadata": {
    "colab_type": "text",
    "id": "QjNrRTdoQlC5",
    "slideshow": {
     "slide_type": "slide"
    }
   },
   "source": [
    "#### Build the Graph"
   ]
  },
  {
   "cell_type": "markdown",
   "metadata": {
    "colab_type": "text",
    "id": "CDJ9DHVNQlC7"
   },
   "source": [
    "#### Initialize model, reshape & normalize data"
   ]
  },
  {
   "cell_type": "code",
   "execution_count": 7,
   "metadata": {
    "colab": {
     "base_uri": "https://localhost:8080/",
     "height": 88
    },
    "colab_type": "code",
    "id": "pCDQs_g1QlC8",
    "outputId": "e854b4d2-903a-4515-c21b-bd6a6e4fe2f8"
   },
   "outputs": [],
   "source": [
    "x_train = x_train.reshape( 60000, n_inputs) \n",
    "#print(x_train)\n",
    "x_test = x_test.reshape( 10000, n_inputs) \n",
    "\n",
    "# convert the input values to float32 \n",
    "x_train = x_train.astype( np.float32) \n",
    "x_test = x_test.astype( np.float32) \n",
    "\n",
    "# normalize the values of image vectors to fit under 1 \n",
    "x_train /= 255 \n",
    "x_test /= 255 "
   ]
  },
  {
   "cell_type": "markdown",
   "metadata": {
    "colab_type": "text",
    "id": "kBGwTTilQlDD",
    "slideshow": {
     "slide_type": "slide"
    }
   },
   "source": [
    "#### Add two fully connected layers with 200 and 100 neurons respectively with `relu` activations. Add a dropout layer with `p=0.25`"
   ]
  },
  {
   "cell_type": "code",
   "execution_count": 16,
   "metadata": {
    "colab": {
     "base_uri": "https://localhost:8080/",
     "height": 88
    },
    "colab_type": "code",
    "id": "IXbfpfOzQlDF",
    "outputId": "f46a2e3a-2634-4e9e-88bd-57bb8de1ff0c"
   },
   "outputs": [],
   "source": [
    "\n",
    "model = Sequential() \n",
    "model.add( Dense( units = 200, activation ='relu', input_shape =( n_inputs,))) \n",
    "model.add( Dense( units = 100, activation ='relu')) \n",
    "model.add( Dropout( 0.25)) # add dropout layer for preventing overfitting "
   ]
  },
  {
   "cell_type": "markdown",
   "metadata": {
    "colab_type": "text",
    "id": "5I8f5otcQlDJ"
   },
   "source": [
    "### Add the output layer with a fully connected layer with 10 neurons with `softmax` activation. Use `categorical_crossentropy` loss and `adam` optimizer and train the network. And, report the final validation."
   ]
  },
  {
   "cell_type": "code",
   "execution_count": 17,
   "metadata": {
    "colab": {},
    "colab_type": "code",
    "id": "JZkvKymSd0Sr"
   },
   "outputs": [
    {
     "name": "stdout",
     "output_type": "stream",
     "text": [
      "_________________________________________________________________\n",
      "Layer (type)                 Output Shape              Param #   \n",
      "=================================================================\n",
      "dense_7 (Dense)              (None, 200)               157000    \n",
      "_________________________________________________________________\n",
      "dense_8 (Dense)              (None, 100)               20100     \n",
      "_________________________________________________________________\n",
      "dropout_2 (Dropout)          (None, 100)               0         \n",
      "_________________________________________________________________\n",
      "dense_9 (Dense)              (None, 10)                1010      \n",
      "=================================================================\n",
      "Total params: 178,110\n",
      "Trainable params: 178,110\n",
      "Non-trainable params: 0\n",
      "_________________________________________________________________\n",
      "Epoch 1/20\n",
      "60000/60000 [==============================] - 1s 12us/step - loss: 0.7206 - acc: 0.7495\n",
      "Epoch 2/20\n",
      "60000/60000 [==============================] - 0s 8us/step - loss: 0.4506 - acc: 0.8428\n",
      "Epoch 3/20\n",
      "60000/60000 [==============================] - 0s 8us/step - loss: 0.3925 - acc: 0.8620\n",
      "Epoch 4/20\n",
      "60000/60000 [==============================] - 0s 8us/step - loss: 0.3612 - acc: 0.8710\n",
      "Epoch 5/20\n",
      "60000/60000 [==============================] - 0s 7us/step - loss: 0.3407 - acc: 0.8774\n",
      "Epoch 6/20\n",
      "60000/60000 [==============================] - 0s 7us/step - loss: 0.3257 - acc: 0.8831\n",
      "Epoch 7/20\n",
      "60000/60000 [==============================] - 0s 7us/step - loss: 0.3076 - acc: 0.8886\n",
      "Epoch 8/20\n",
      "60000/60000 [==============================] - 0s 8us/step - loss: 0.2969 - acc: 0.8927\n",
      "Epoch 9/20\n",
      "60000/60000 [==============================] - 0s 7us/step - loss: 0.2883 - acc: 0.8943\n",
      "Epoch 10/20\n",
      "60000/60000 [==============================] - 0s 7us/step - loss: 0.2785 - acc: 0.8976\n",
      "Epoch 11/20\n",
      "60000/60000 [==============================] - 0s 8us/step - loss: 0.2707 - acc: 0.8998\n",
      "Epoch 12/20\n",
      "60000/60000 [==============================] - 0s 8us/step - loss: 0.2607 - acc: 0.9041\n",
      "Epoch 13/20\n",
      "60000/60000 [==============================] - 0s 8us/step - loss: 0.2594 - acc: 0.9036\n",
      "Epoch 14/20\n",
      "60000/60000 [==============================] - 0s 7us/step - loss: 0.2475 - acc: 0.9082\n",
      "Epoch 15/20\n",
      "60000/60000 [==============================] - 0s 8us/step - loss: 0.2414 - acc: 0.9096\n",
      "Epoch 16/20\n",
      "60000/60000 [==============================] - 0s 8us/step - loss: 0.2358 - acc: 0.9123\n",
      "Epoch 17/20\n",
      "60000/60000 [==============================] - 0s 8us/step - loss: 0.2289 - acc: 0.9153\n",
      "Epoch 18/20\n",
      "60000/60000 [==============================] - 0s 7us/step - loss: 0.2245 - acc: 0.9172\n",
      "Epoch 19/20\n",
      "60000/60000 [==============================] - 0s 8us/step - loss: 0.2192 - acc: 0.9187\n",
      "Epoch 20/20\n",
      "60000/60000 [==============================] - 0s 8us/step - loss: 0.2208 - acc: 0.9183\n",
      "10000/10000 [==============================] - 0s 36us/step\n",
      "\\ n loss: 0.33597841683626173\n",
      "\\ n accuracy: 0.8868\n"
     ]
    }
   ],
   "source": [
    "model.add( Dense( units = 10, activation ='softmax')) # print the summary of our model \n",
    "model.summary() \n",
    "\n",
    "# compile the model \n",
    "model.compile( loss ='categorical_crossentropy', optimizer = Adam(), metrics =['accuracy']) \n",
    "\n",
    "# train the model \n",
    "model.fit( x_train, y_train, batch_size = 512, epochs = 20) \n",
    "\n",
    "# evaluate the model and print the accuracy score \n",
    "\n",
    "scores = model.evaluate( x_test, y_test) \n",
    "\n",
    "print('\\ n loss:', scores[ 0]) \n",
    "\n",
    "print('\\ n accuracy:', scores[ 1])"
   ]
  },
  {
   "cell_type": "markdown",
   "metadata": {},
   "source": [
    "###  The  accuracy of the model is 88.68 using Adam optimizer and 200 and 100 neuron in the hidden layers and activation as relu "
   ]
  },
  {
   "cell_type": "code",
   "execution_count": null,
   "metadata": {},
   "outputs": [],
   "source": []
  }
 ],
 "metadata": {
  "colab": {
   "collapsed_sections": [],
   "name": "Updated_R7_ExternalLab_Questions.ipynb",
   "provenance": [],
   "version": "0.3.2"
  },
  "kernelspec": {
   "display_name": "Python 3",
   "language": "python",
   "name": "python3"
  },
  "language_info": {
   "codemirror_mode": {
    "name": "ipython",
    "version": 3
   },
   "file_extension": ".py",
   "mimetype": "text/x-python",
   "name": "python",
   "nbconvert_exporter": "python",
   "pygments_lexer": "ipython3",
   "version": "3.7.3"
  }
 },
 "nbformat": 4,
 "nbformat_minor": 1
}
