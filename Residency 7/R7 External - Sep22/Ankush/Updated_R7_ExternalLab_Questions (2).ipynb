{
 "cells": [
  {
   "cell_type": "markdown",
   "metadata": {
    "colab_type": "text",
    "id": "4WH1Pr4KQlCh"
   },
   "source": [
    "### Build a DNN using Keras with `RELU` and `ADAM`"
   ]
  },
  {
   "cell_type": "markdown",
   "metadata": {
    "colab_type": "text",
    "id": "TbvI8LqlQlCl"
   },
   "source": [
    "#### Load tensorflow"
   ]
  },
  {
   "cell_type": "code",
   "execution_count": 13,
   "metadata": {
    "colab": {
     "base_uri": "https://localhost:8080/",
     "height": 51
    },
    "colab_type": "code",
    "executionInfo": {
     "elapsed": 1252,
     "status": "ok",
     "timestamp": 1568820572297,
     "user": {
      "displayName": "Ankush Belorkar",
      "photoUrl": "https://lh3.googleusercontent.com/a-/AAuE7mDGEOzvV7pWdRRjSpzixZc8nBxsTtJFxXe7OgiQkg=s64",
      "userId": "00198115100375544785"
     },
     "user_tz": -330
    },
    "id": "SPW-a-qYQlCp",
    "outputId": "c32e10a5-6568-4b53-e416-3df5e345a535"
   },
   "outputs": [
    {
     "name": "stdout",
     "output_type": "stream",
     "text": [
      "1.14.0\n",
      "2.2.4-tf\n"
     ]
    }
   ],
   "source": [
    "import tensorflow as tf\n",
    "from tensorflow.keras import layers\n",
    "from keras import utils \n",
    "print(tf.version.VERSION)\n",
    "print(tf.keras.__version__)"
   ]
  },
  {
   "cell_type": "markdown",
   "metadata": {
    "colab_type": "text",
    "id": "74cQBsi5QlCw"
   },
   "source": [
    "#### Collect Fashion mnist data from tf.keras.datasets "
   ]
  },
  {
   "cell_type": "code",
   "execution_count": 0,
   "metadata": {
    "colab": {},
    "colab_type": "code",
    "id": "wVWy0oDTr2Kj"
   },
   "outputs": [],
   "source": [
    "(x_train, y_train), (x_test, y_test) = tf.keras.datasets.fashion_mnist.load_data()"
   ]
  },
  {
   "cell_type": "markdown",
   "metadata": {
    "colab_type": "text",
    "id": "no7aWYZyQlC1"
   },
   "source": [
    "#### Change train and test labels into one-hot vectors"
   ]
  },
  {
   "cell_type": "code",
   "execution_count": 0,
   "metadata": {
    "colab": {},
    "colab_type": "code",
    "id": "UX6otc4wQlC2"
   },
   "outputs": [],
   "source": [
    "y_train = utils.to_categorical(y_train, 10)\n",
    "y_test = utils.to_categorical(y_test, 10)"
   ]
  },
  {
   "cell_type": "markdown",
   "metadata": {
    "colab_type": "text",
    "id": "QjNrRTdoQlC5"
   },
   "source": [
    "#### Build the Graph"
   ]
  },
  {
   "cell_type": "markdown",
   "metadata": {
    "colab_type": "text",
    "id": "CDJ9DHVNQlC7"
   },
   "source": [
    "#### Initialize model, reshape & normalize data"
   ]
  },
  {
   "cell_type": "code",
   "execution_count": 0,
   "metadata": {
    "colab": {},
    "colab_type": "code",
    "id": "Pk7By5jb-nor"
   },
   "outputs": [],
   "source": [
    "model = tf.keras.Sequential()"
   ]
  },
  {
   "cell_type": "code",
   "execution_count": 0,
   "metadata": {
    "colab": {},
    "colab_type": "code",
    "id": "pCDQs_g1QlC8"
   },
   "outputs": [],
   "source": [
    "\n",
    "n_input = 784  # input layer (28x28 pixels)\n",
    "x_train = x_train.reshape(x_train.shape[0], n_input).astype('float32')\n",
    "x_train /= 255\n",
    "x_test = x_test.reshape(x_test.shape[0], n_input).astype('float32')\n",
    "x_test /= 255"
   ]
  },
  {
   "cell_type": "markdown",
   "metadata": {
    "colab_type": "text",
    "id": "kBGwTTilQlDD"
   },
   "source": [
    "#### Add two fully connected layers with 200 and 100 neurons respectively with `relu` activations. Add a dropout layer with `p=0.25`"
   ]
  },
  {
   "cell_type": "code",
   "execution_count": 0,
   "metadata": {
    "colab": {},
    "colab_type": "code",
    "id": "IXbfpfOzQlDF"
   },
   "outputs": [],
   "source": [
    "# Adds a densely-connected layer with 64 units to the model:\n",
    "model.add(layers.Dense(200, activation='relu'))\n",
    "model.add(layers.Dropout(0.25))\n",
    "# Add another:\n",
    "model.add(layers.Dense(100, activation='relu'))\n",
    "model.add(layers.Dropout(0.25))"
   ]
  },
  {
   "cell_type": "markdown",
   "metadata": {
    "colab_type": "text",
    "id": "5I8f5otcQlDJ"
   },
   "source": [
    "### Add the output layer with a fully connected layer with 10 neurons with `softmax` activation. Use `categorical_crossentropy` loss and `adam` optimizer and train the network. And, report the final validation."
   ]
  },
  {
   "cell_type": "code",
   "execution_count": 0,
   "metadata": {
    "colab": {},
    "colab_type": "code",
    "id": "JZkvKymSd0Sr"
   },
   "outputs": [],
   "source": [
    "# Add a softmax layer with 10 output units:\n",
    "model.add(layers.Dense(10, activation='softmax'))\n",
    "model.compile(optimizer=tf.train.AdamOptimizer(0.001),\n",
    "              loss='categorical_crossentropy',\n",
    "              metrics=['accuracy'])"
   ]
  },
  {
   "cell_type": "code",
   "execution_count": 25,
   "metadata": {
    "colab": {
     "base_uri": "https://localhost:8080/",
     "height": 1000
    },
    "colab_type": "code",
    "executionInfo": {
     "elapsed": 57739,
     "status": "ok",
     "timestamp": 1568820810652,
     "user": {
      "displayName": "Ankush Belorkar",
      "photoUrl": "https://lh3.googleusercontent.com/a-/AAuE7mDGEOzvV7pWdRRjSpzixZc8nBxsTtJFxXe7OgiQkg=s64",
      "userId": "00198115100375544785"
     },
     "user_tz": -330
    },
    "id": "MzBUPm2F9m6X",
    "outputId": "2e2bfff4-2a61-47bc-c8b9-b9a0ac0b5635"
   },
   "outputs": [
    {
     "name": "stdout",
     "output_type": "stream",
     "text": [
      "Epoch 1/30\n",
      "60000/60000 [==============================] - 2s 33us/sample - loss: 0.6241 - acc: 0.7768\n",
      "Epoch 2/30\n",
      "60000/60000 [==============================] - 2s 31us/sample - loss: 0.4313 - acc: 0.8446\n",
      "Epoch 3/30\n",
      "60000/60000 [==============================] - 2s 31us/sample - loss: 0.3913 - acc: 0.8584\n",
      "Epoch 4/30\n",
      "60000/60000 [==============================] - 2s 31us/sample - loss: 0.3682 - acc: 0.8660\n",
      "Epoch 5/30\n",
      "60000/60000 [==============================] - 2s 31us/sample - loss: 0.3505 - acc: 0.8711\n",
      "Epoch 6/30\n",
      "60000/60000 [==============================] - 2s 31us/sample - loss: 0.3389 - acc: 0.8760\n",
      "Epoch 7/30\n",
      "60000/60000 [==============================] - 2s 32us/sample - loss: 0.3233 - acc: 0.8809\n",
      "Epoch 8/30\n",
      "60000/60000 [==============================] - 2s 31us/sample - loss: 0.3146 - acc: 0.8841\n",
      "Epoch 9/30\n",
      "60000/60000 [==============================] - 2s 31us/sample - loss: 0.3063 - acc: 0.8871\n",
      "Epoch 10/30\n",
      "60000/60000 [==============================] - 2s 31us/sample - loss: 0.2982 - acc: 0.8894\n",
      "Epoch 11/30\n",
      "60000/60000 [==============================] - 2s 31us/sample - loss: 0.2936 - acc: 0.8924\n",
      "Epoch 12/30\n",
      "60000/60000 [==============================] - 2s 31us/sample - loss: 0.2847 - acc: 0.8929\n",
      "Epoch 13/30\n",
      "60000/60000 [==============================] - 2s 31us/sample - loss: 0.2826 - acc: 0.8943\n",
      "Epoch 14/30\n",
      "60000/60000 [==============================] - 2s 31us/sample - loss: 0.2755 - acc: 0.8974\n",
      "Epoch 15/30\n",
      "60000/60000 [==============================] - 2s 31us/sample - loss: 0.2732 - acc: 0.8981\n",
      "Epoch 16/30\n",
      "60000/60000 [==============================] - 2s 31us/sample - loss: 0.2679 - acc: 0.8986\n",
      "Epoch 17/30\n",
      "60000/60000 [==============================] - 2s 31us/sample - loss: 0.2643 - acc: 0.9015\n",
      "Epoch 18/30\n",
      "60000/60000 [==============================] - 2s 31us/sample - loss: 0.2623 - acc: 0.9001\n",
      "Epoch 19/30\n",
      "60000/60000 [==============================] - 2s 31us/sample - loss: 0.2574 - acc: 0.9017\n",
      "Epoch 20/30\n",
      "60000/60000 [==============================] - 2s 32us/sample - loss: 0.2553 - acc: 0.9044\n",
      "Epoch 21/30\n",
      "60000/60000 [==============================] - 2s 31us/sample - loss: 0.2468 - acc: 0.9063\n",
      "Epoch 22/30\n",
      "60000/60000 [==============================] - 2s 31us/sample - loss: 0.2493 - acc: 0.9050\n",
      "Epoch 23/30\n",
      "60000/60000 [==============================] - 2s 31us/sample - loss: 0.2385 - acc: 0.9089\n",
      "Epoch 24/30\n",
      "60000/60000 [==============================] - 2s 31us/sample - loss: 0.2392 - acc: 0.9102\n",
      "Epoch 25/30\n",
      "60000/60000 [==============================] - 2s 31us/sample - loss: 0.2351 - acc: 0.9108\n",
      "Epoch 26/30\n",
      "60000/60000 [==============================] - 2s 31us/sample - loss: 0.2335 - acc: 0.9116\n",
      "Epoch 27/30\n",
      "60000/60000 [==============================] - 2s 31us/sample - loss: 0.2299 - acc: 0.9133\n",
      "Epoch 28/30\n",
      "60000/60000 [==============================] - 2s 31us/sample - loss: 0.2273 - acc: 0.9140\n",
      "Epoch 29/30\n",
      "60000/60000 [==============================] - 2s 31us/sample - loss: 0.2262 - acc: 0.9143\n",
      "Epoch 30/30\n",
      "60000/60000 [==============================] - 2s 31us/sample - loss: 0.2211 - acc: 0.9155\n"
     ]
    },
    {
     "data": {
      "text/plain": [
       "<tensorflow.python.keras.callbacks.History at 0x7fca167a3b70>"
      ]
     },
     "execution_count": 25,
     "metadata": {
      "tags": []
     },
     "output_type": "execute_result"
    }
   ],
   "source": [
    "model.fit(x_train, y_train, epochs=30, batch_size=128)"
   ]
  },
  {
   "cell_type": "code",
   "execution_count": 26,
   "metadata": {
    "colab": {
     "base_uri": "https://localhost:8080/",
     "height": 51
    },
    "colab_type": "code",
    "executionInfo": {
     "elapsed": 57832,
     "status": "ok",
     "timestamp": 1568820811838,
     "user": {
      "displayName": "Ankush Belorkar",
      "photoUrl": "https://lh3.googleusercontent.com/a-/AAuE7mDGEOzvV7pWdRRjSpzixZc8nBxsTtJFxXe7OgiQkg=s64",
      "userId": "00198115100375544785"
     },
     "user_tz": -330
    },
    "id": "00ZoPmnx95Cf",
    "outputId": "05b3660b-1ad2-4030-da20-f01ccc0a39b4"
   },
   "outputs": [
    {
     "name": "stdout",
     "output_type": "stream",
     "text": [
      "10000/10000 [==============================] - 1s 85us/sample - loss: 0.3136 - acc: 0.8933\n"
     ]
    },
    {
     "data": {
      "text/plain": [
       "[0.3136448902845383, 0.8933]"
      ]
     },
     "execution_count": 26,
     "metadata": {
      "tags": []
     },
     "output_type": "execute_result"
    }
   ],
   "source": [
    "model.evaluate(x_test, y_test, batch_size=32)"
   ]
  },
  {
   "cell_type": "markdown",
   "metadata": {
    "colab_type": "text",
    "id": "BdPNxKEOAtyH"
   },
   "source": [
    "### **Accuracy on test set is 0.8933**"
   ]
  }
 ],
 "metadata": {
  "accelerator": "GPU",
  "colab": {
   "collapsed_sections": [],
   "name": "New_Updated_R7_ExternalLab_Questions.ipynb",
   "provenance": []
  },
  "kernelspec": {
   "display_name": "Python 3",
   "language": "python",
   "name": "python3"
  },
  "language_info": {
   "codemirror_mode": {
    "name": "ipython",
    "version": 3
   },
   "file_extension": ".py",
   "mimetype": "text/x-python",
   "name": "python",
   "nbconvert_exporter": "python",
   "pygments_lexer": "ipython3",
   "version": "3.7.3"
  }
 },
 "nbformat": 4,
 "nbformat_minor": 1
}
